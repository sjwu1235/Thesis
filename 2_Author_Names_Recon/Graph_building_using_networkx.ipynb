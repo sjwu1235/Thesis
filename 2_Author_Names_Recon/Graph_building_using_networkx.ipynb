{
 "cells": [
  {
   "cell_type": "markdown",
   "id": "7f24320d",
   "metadata": {},
   "source": [
    "# Graph Building using networkx\n",
    "Get familiar with networkx via their tutorial and then reformat the author names into a .gexf file and run some analysis. \n",
    "\n",
    "Assumptions: affiliations resolved author name clashes in previous stage."
   ]
  },
  {
   "cell_type": "code",
   "execution_count": 314,
   "id": "4b921587",
   "metadata": {},
   "outputs": [],
   "source": [
    "import networkx as nx\n",
    "import json\n",
    "import itertools\n",
    "import matplotlib.pyplot as plt\n",
    "import time\n",
    "import pandas as pd"
   ]
  },
  {
   "cell_type": "code",
   "execution_count": 103,
   "id": "3a7af011",
   "metadata": {},
   "outputs": [],
   "source": [
    "G = nx.Graph()"
   ]
  },
  {
   "cell_type": "code",
   "execution_count": 104,
   "id": "089d4b2b",
   "metadata": {},
   "outputs": [
    {
     "data": {
      "text/plain": [
       "False"
      ]
     },
     "execution_count": 104,
     "metadata": {},
     "output_type": "execute_result"
    }
   ],
   "source": [
    "[1,2] ==[2,1]"
   ]
  },
  {
   "cell_type": "code",
   "execution_count": 105,
   "id": "f43ee9e4",
   "metadata": {},
   "outputs": [],
   "source": [
    "G.add_edge(1, 2)\n",
    "e = (2, 3)\n",
    "G.add_edge(*e) "
   ]
  },
  {
   "cell_type": "code",
   "execution_count": 106,
   "id": "f3c63a74",
   "metadata": {},
   "outputs": [],
   "source": [
    "G.add_edge(3,2)\n",
    "G.add_edge(1,1)"
   ]
  },
  {
   "cell_type": "code",
   "execution_count": 107,
   "id": "86569075",
   "metadata": {},
   "outputs": [
    {
     "data": {
      "text/plain": [
       "[1, 2, 3]"
      ]
     },
     "execution_count": 107,
     "metadata": {},
     "output_type": "execute_result"
    }
   ],
   "source": [
    "list(G.nodes)\n"
   ]
  },
  {
   "cell_type": "code",
   "execution_count": 108,
   "id": "d41f08be",
   "metadata": {},
   "outputs": [
    {
     "data": {
      "text/plain": [
       "[(1, 2), (1, 1), (2, 3)]"
      ]
     },
     "execution_count": 108,
     "metadata": {},
     "output_type": "execute_result"
    }
   ],
   "source": [
    "list(G.edges)\n"
   ]
  },
  {
   "cell_type": "code",
   "execution_count": 109,
   "id": "f19703e6",
   "metadata": {},
   "outputs": [],
   "source": [
    "with open('author_proc_1706394745.6445088.json') as f: \n",
    "    data = f.read() \n",
    "proc_auths_all = json.loads(data) "
   ]
  },
  {
   "cell_type": "code",
   "execution_count": 83,
   "id": "41638107",
   "metadata": {},
   "outputs": [
    {
     "name": "stdout",
     "output_type": "stream",
     "text": [
      "[(3, 1), (3, 3), (3, 4), (1, 3), (1, 4), (3, 4)]\n"
     ]
    }
   ],
   "source": [
    "my_list=[3,1,3,4]\n",
    "combinations = list(itertools.combinations(my_list, 2))\n",
    "print(combinations)\n"
   ]
  },
  {
   "cell_type": "code",
   "execution_count": 84,
   "id": "74bf2c73",
   "metadata": {},
   "outputs": [
    {
     "data": {
      "text/plain": [
       "True"
      ]
     },
     "execution_count": 84,
     "metadata": {},
     "output_type": "execute_result"
    }
   ],
   "source": [
    "G.has_edge(2, 3)"
   ]
  },
  {
   "cell_type": "code",
   "execution_count": 111,
   "id": "e501d7f3",
   "metadata": {},
   "outputs": [
    {
     "data": {
      "text/plain": [
       "False"
      ]
     },
     "execution_count": 111,
     "metadata": {},
     "output_type": "execute_result"
    }
   ],
   "source": [
    "G.has_node(4)"
   ]
  },
  {
   "cell_type": "code",
   "execution_count": 85,
   "id": "15b2f3aa",
   "metadata": {},
   "outputs": [
    {
     "data": {
      "text/plain": [
       "[{1, 2, 3}]"
      ]
     },
     "execution_count": 85,
     "metadata": {},
     "output_type": "execute_result"
    }
   ],
   "source": [
    "list(nx.connected_components(G))\n"
   ]
  },
  {
   "cell_type": "code",
   "execution_count": 86,
   "id": "043d8b43",
   "metadata": {},
   "outputs": [
    {
     "data": {
      "text/plain": [
       "[1, 2, 3]"
      ]
     },
     "execution_count": 86,
     "metadata": {},
     "output_type": "execute_result"
    }
   ],
   "source": [
    "sorted(d for n, d in G.degree())\n"
   ]
  },
  {
   "cell_type": "code",
   "execution_count": 87,
   "id": "3073a9c2",
   "metadata": {},
   "outputs": [
    {
     "data": {
      "text/plain": [
       "{1: 0, 2: 0, 3: 0}"
      ]
     },
     "execution_count": 87,
     "metadata": {},
     "output_type": "execute_result"
    }
   ],
   "source": [
    "nx.clustering(G)\n"
   ]
  },
  {
   "cell_type": "code",
   "execution_count": 88,
   "id": "42508358",
   "metadata": {},
   "outputs": [],
   "source": [
    "sp = dict(nx.all_pairs_shortest_path(G))"
   ]
  },
  {
   "cell_type": "code",
   "execution_count": 91,
   "id": "facc493e",
   "metadata": {},
   "outputs": [
    {
     "data": {
      "image/png": "[encoded data removed]",
      "text/plain": [
       "<Figure size 640x480 with 1 Axes>"
      ]
     },
     "metadata": {},
     "output_type": "display_data"
    }
   ],
   "source": [
    "nx.draw_shell(G, with_labels=True, font_weight='bold')\n"
   ]
  },
  {
   "cell_type": "code",
   "execution_count": 366,
   "id": "54c12b34",
   "metadata": {},
   "outputs": [],
   "source": [
    "def build_graph(start_year, end_year, al_class):\n",
    "    a=0\n",
    "    b=[]\n",
    "    c=[]\n",
    "    content_type=[]\n",
    "    years=2021\n",
    "    G = nx.Graph()\n",
    "    alias_all=[]\n",
    "    for i in proc_auths_all.keys():\n",
    "#         a=a+1\n",
    "#         if a>1000:\n",
    "#             break\n",
    "        alias=[]\n",
    "        entry=proc_auths_all[i][\"authors\"]\n",
    "        years=min(years, proc_auths_all[i][\"year\"])\n",
    "        content_type.append(proc_auths_all[i][\"content_type\"])\n",
    "        if (proc_auths_all[i][\"year\"]<start_year) or (proc_auths_all[i][\"year\"]>=end_year):\n",
    "            continue\n",
    "        for j in range(len(entry.keys())):\n",
    "            alias.append(entry[str(j)][al_class])\n",
    "            alias_all.append(entry[str(j)][al_class])\n",
    "        combinations = list(itertools.combinations(alias, 2))\n",
    "\n",
    "        for l in alias:\n",
    "            if G.has_node(l):\n",
    "                n_count=len(G.nodes[l][\"year\"])\n",
    "                G.nodes[l][\"year\"][n_count]=proc_auths_all[i][\"year\"]\n",
    "            else:\n",
    "                G.add_node(l, year={0: proc_auths_all[i][\"year\"]})\n",
    "\n",
    "        for k in combinations:\n",
    "            if G.has_edge(*k):\n",
    "                # we added this one before, just increase the weight by one\n",
    "                G[k[0]][k[1]]['weight'] += 1\n",
    "                e_count=len(G[k[0]][k[1]]['year'])\n",
    "                G[k[0]][k[1]]['year']['e_count']=proc_auths_all[i][\"year\"]\n",
    "            else:\n",
    "                # new edge. add with weight=1\n",
    "                G.add_edge(*k, weight=1, year={0:proc_auths_all[i][\"year\"]})\n",
    "#     G=nx.convert_node_labels_to_integers(G, first_label=0, ordering='sorted', label_attribute=\"auth_name\")\n",
    "    print(content_type.value_counts())\n",
    "    return [G, alias_all, years, b]\n"
   ]
  },
  {
   "cell_type": "code",
   "execution_count": 295,
   "id": "05c20241",
   "metadata": {},
   "outputs": [],
   "source": []
  },
  {
   "cell_type": "code",
   "execution_count": 320,
   "id": "735f55a7",
   "metadata": {},
   "outputs": [],
   "source": [
    "def calc_network_stats(G):\n",
    "    Gcc = sorted(nx.connected_components(G), key=len, reverse=True)\n",
    "    G0 = G.subgraph(Gcc[0])\n",
    "    G1 = G.subgraph(Gcc[1])\n",
    "    G2 = G.subgraph(Gcc[2])\n",
    "    return {\n",
    "        \"Number of nodes\": G.number_of_nodes(),\n",
    "        \"Number of CC\": nx.number_connected_components(G),\n",
    "        \"LCC\": len(G0),\n",
    "        \"2nd LCC\": len(G1),\n",
    "        \"3rd LCC\": len(G2),\n",
    "        \"AVG clustering\": nx.average_clustering(G),\n",
    "        \"centers of LCC\":list(nx.center(G0))\n",
    "\n",
    "    }\n"
   ]
  },
  {
   "cell_type": "code",
   "execution_count": 367,
   "id": "3812054a",
   "metadata": {},
   "outputs": [
    {
     "ename": "AttributeError",
     "evalue": "'list' object has no attribute 'value_counts'",
     "output_type": "error",
     "traceback": [
      "\u001b[0;31m---------------------------------------------------------------------------\u001b[0m",
      "\u001b[0;31mAttributeError\u001b[0m                            Traceback (most recent call last)",
      "Cell \u001b[0;32mIn[367], line 1\u001b[0m\n\u001b[0;32m----> 1\u001b[0m output\u001b[38;5;241m=\u001b[39m\u001b[43mbuild_graph\u001b[49m\u001b[43m(\u001b[49m\u001b[38;5;241;43m1800\u001b[39;49m\u001b[43m,\u001b[49m\u001b[43m \u001b[49m\u001b[38;5;241;43m2021\u001b[39;49m\u001b[43m,\u001b[49m\u001b[43m \u001b[49m\u001b[38;5;124;43m\"\u001b[39;49m\u001b[38;5;124;43ma1\u001b[39;49m\u001b[38;5;124;43m\"\u001b[39;49m\u001b[43m)\u001b[49m\n\u001b[1;32m      2\u001b[0m L\u001b[38;5;241m=\u001b[39moutput[\u001b[38;5;241m0\u001b[39m]\n",
      "Cell \u001b[0;32mIn[366], line 41\u001b[0m, in \u001b[0;36mbuild_graph\u001b[0;34m(start_year, end_year, al_class)\u001b[0m\n\u001b[1;32m     39\u001b[0m                 G\u001b[38;5;241m.\u001b[39madd_edge(\u001b[38;5;241m*\u001b[39mk, weight\u001b[38;5;241m=\u001b[39m\u001b[38;5;241m1\u001b[39m, year\u001b[38;5;241m=\u001b[39m{\u001b[38;5;241m0\u001b[39m:proc_auths_all[i][\u001b[38;5;124m\"\u001b[39m\u001b[38;5;124myear\u001b[39m\u001b[38;5;124m\"\u001b[39m]})\n\u001b[1;32m     40\u001b[0m \u001b[38;5;66;03m#     G=nx.convert_node_labels_to_integers(G, first_label=0, ordering='sorted', label_attribute=\"auth_name\")\u001b[39;00m\n\u001b[0;32m---> 41\u001b[0m     \u001b[38;5;28mprint\u001b[39m(\u001b[43mcontent_type\u001b[49m\u001b[38;5;241;43m.\u001b[39;49m\u001b[43mvalue_counts\u001b[49m())\n\u001b[1;32m     42\u001b[0m     \u001b[38;5;28;01mreturn\u001b[39;00m [G, alias_all, years, b]\n",
      "\u001b[0;31mAttributeError\u001b[0m: 'list' object has no attribute 'value_counts'"
     ]
    }
   ],
   "source": [
    "output=build_graph(1800, 2021, \"a1\")\n",
    "L=output[0]\n"
   ]
  },
  {
   "cell_type": "code",
   "execution_count": 350,
   "id": "9bebca3c",
   "metadata": {},
   "outputs": [
    {
     "data": {
      "text/plain": [
       "22210"
      ]
     },
     "execution_count": 350,
     "metadata": {},
     "output_type": "execute_result"
    }
   ],
   "source": [
    "L.number_of_nodes()"
   ]
  },
  {
   "cell_type": "code",
   "execution_count": null,
   "id": "93ee1a15",
   "metadata": {},
   "outputs": [],
   "source": [
    "nx.write_gexf(L, \"testnetwork_\"+str(time.time())+\".gexf\")\n"
   ]
  },
  {
   "cell_type": "code",
   "execution_count": 351,
   "id": "254c3294",
   "metadata": {},
   "outputs": [],
   "source": [
    "Gcc = sorted(nx.connected_components(L), key=len, reverse=True)\n",
    "L0=L.subgraph(Gcc[0])"
   ]
  },
  {
   "cell_type": "code",
   "execution_count": null,
   "id": "9ba7f45f",
   "metadata": {},
   "outputs": [],
   "source": []
  },
  {
   "cell_type": "code",
   "execution_count": 334,
   "id": "9b5d0c48",
   "metadata": {},
   "outputs": [],
   "source": [
    "author=list(L)\n",
    "L_stat=calc_network_stats(L)\n"
   ]
  },
  {
   "cell_type": "code",
   "execution_count": 353,
   "id": "bbf2ec4c",
   "metadata": {},
   "outputs": [
    {
     "data": {
      "text/plain": [
       "{'Number of nodes': 22210,\n",
       " 'Number of CC': 9438,\n",
       " 'LCC': 9741,\n",
       " '2nd LCC': 33,\n",
       " '3rd LCC': 24,\n",
       " 'AVG clustering': 0.26207822080544535,\n",
       " 'centers': ['joshua angrist', 'victor lavy', 'joshua d. angrist']}"
      ]
     },
     "execution_count": 353,
     "metadata": {},
     "output_type": "execute_result"
    }
   ],
   "source": [
    "L_stat"
   ]
  },
  {
   "cell_type": "code",
   "execution_count": 338,
   "id": "91019201",
   "metadata": {},
   "outputs": [
    {
     "data": {
      "text/html": [
       "<div>\n",
       "<style scoped>\n",
       "    .dataframe tbody tr th:only-of-type {\n",
       "        vertical-align: middle;\n",
       "    }\n",
       "\n",
       "    .dataframe tbody tr th {\n",
       "        vertical-align: top;\n",
       "    }\n",
       "\n",
       "    .dataframe thead th {\n",
       "        text-align: right;\n",
       "    }\n",
       "</style>\n",
       "<table border=\"1\" class=\"dataframe\">\n",
       "  <thead>\n",
       "    <tr style=\"text-align: right;\">\n",
       "      <th></th>\n",
       "      <th>Number of nodes</th>\n",
       "      <th>Number of CC</th>\n",
       "      <th>LCC</th>\n",
       "      <th>2nd LCC</th>\n",
       "      <th>3rd LCC</th>\n",
       "      <th>AVG clustering</th>\n",
       "      <th>centers</th>\n",
       "    </tr>\n",
       "  </thead>\n",
       "  <tbody>\n",
       "    <tr>\n",
       "      <th>0</th>\n",
       "      <td>22210</td>\n",
       "      <td>9438</td>\n",
       "      <td>9741</td>\n",
       "      <td>33</td>\n",
       "      <td>24</td>\n",
       "      <td>0.262078</td>\n",
       "      <td>joshua angrist</td>\n",
       "    </tr>\n",
       "    <tr>\n",
       "      <th>1</th>\n",
       "      <td>22210</td>\n",
       "      <td>9438</td>\n",
       "      <td>9741</td>\n",
       "      <td>33</td>\n",
       "      <td>24</td>\n",
       "      <td>0.262078</td>\n",
       "      <td>victor lavy</td>\n",
       "    </tr>\n",
       "    <tr>\n",
       "      <th>2</th>\n",
       "      <td>22210</td>\n",
       "      <td>9438</td>\n",
       "      <td>9741</td>\n",
       "      <td>33</td>\n",
       "      <td>24</td>\n",
       "      <td>0.262078</td>\n",
       "      <td>joshua d. angrist</td>\n",
       "    </tr>\n",
       "  </tbody>\n",
       "</table>\n",
       "</div>"
      ],
      "text/plain": [
       "   Number of nodes  Number of CC   LCC  2nd LCC  3rd LCC  AVG clustering  \\\n",
       "0            22210          9438  9741       33       24        0.262078   \n",
       "1            22210          9438  9741       33       24        0.262078   \n",
       "2            22210          9438  9741       33       24        0.262078   \n",
       "\n",
       "             centers  \n",
       "0     joshua angrist  \n",
       "1        victor lavy  \n",
       "2  joshua d. angrist  "
      ]
     },
     "execution_count": 338,
     "metadata": {},
     "output_type": "execute_result"
    }
   ],
   "source": [
    "pd.DataFrame(L_stat)\n"
   ]
  },
  {
   "cell_type": "code",
   "execution_count": 336,
   "id": "85985a55",
   "metadata": {},
   "outputs": [],
   "source": [
    "networks={}\n",
    "j=0\n",
    "data=[]\n",
    "for i in range(1881,2021,10):\n",
    "    output=build_graph(i, i+10, \"a1\")\n",
    "    networks[j]={\"graph\":output[0], \"start\":i, \"end\": i+10}\n",
    "    op=calc_network_stats(output[0])\n",
    "    op[\"start\"]=i\n",
    "    op['end']=i+10\n",
    "    data.append(op)\n",
    "    nx.write_gexf(output[0], \"network_\"+str(i)+\"_\"+str(i+10)+\"_\"+str(time.time())+\".gexf\")\n",
    "\n",
    "df=pd.DataFrame(data)\n",
    "df.to_excel(\"rolling_10Y_network_summary_\"+str(time.time())+\".xlsx\", index=False)    \n"
   ]
  },
  {
   "cell_type": "code",
   "execution_count": 337,
   "id": "02c071c3",
   "metadata": {},
   "outputs": [
    {
     "data": {
      "text/html": [
       "<div>\n",
       "<style scoped>\n",
       "    .dataframe tbody tr th:only-of-type {\n",
       "        vertical-align: middle;\n",
       "    }\n",
       "\n",
       "    .dataframe tbody tr th {\n",
       "        vertical-align: top;\n",
       "    }\n",
       "\n",
       "    .dataframe thead th {\n",
       "        text-align: right;\n",
       "    }\n",
       "</style>\n",
       "<table border=\"1\" class=\"dataframe\">\n",
       "  <thead>\n",
       "    <tr style=\"text-align: right;\">\n",
       "      <th></th>\n",
       "      <th>Number of nodes</th>\n",
       "      <th>Number of CC</th>\n",
       "      <th>LCC</th>\n",
       "      <th>2nd LCC</th>\n",
       "      <th>3rd LCC</th>\n",
       "      <th>AVG clustering</th>\n",
       "      <th>centers</th>\n",
       "      <th>start</th>\n",
       "      <th>end</th>\n",
       "    </tr>\n",
       "  </thead>\n",
       "  <tbody>\n",
       "    <tr>\n",
       "      <th>0</th>\n",
       "      <td>64</td>\n",
       "      <td>61</td>\n",
       "      <td>2</td>\n",
       "      <td>2</td>\n",
       "      <td>2</td>\n",
       "      <td>0.000000</td>\n",
       "      <td>[s. m. macvane, uriel h. crocker]</td>\n",
       "      <td>1881</td>\n",
       "      <td>1891</td>\n",
       "    </tr>\n",
       "    <tr>\n",
       "      <th>1</th>\n",
       "      <td>312</td>\n",
       "      <td>302</td>\n",
       "      <td>3</td>\n",
       "      <td>2</td>\n",
       "      <td>2</td>\n",
       "      <td>0.000000</td>\n",
       "      <td>[w. j. a.]</td>\n",
       "      <td>1891</td>\n",
       "      <td>1901</td>\n",
       "    </tr>\n",
       "    <tr>\n",
       "      <th>2</th>\n",
       "      <td>420</td>\n",
       "      <td>395</td>\n",
       "      <td>16</td>\n",
       "      <td>3</td>\n",
       "      <td>2</td>\n",
       "      <td>0.038095</td>\n",
       "      <td>[a. s. johnson, charles h. judd, ulysses g. weatherly, robert c. chapin, w. e. hotchkiss, h. s. smalley, l. c. marshall, j. l. laughlin, william a. scott, m. s. wildman, harry p. judson, frank t. carlton, john h. gray, a. b. wolfe, r. f. hoxie, george g. groat]</td>\n",
       "      <td>1901</td>\n",
       "      <td>1911</td>\n",
       "    </tr>\n",
       "    <tr>\n",
       "      <th>3</th>\n",
       "      <td>1051</td>\n",
       "      <td>780</td>\n",
       "      <td>232</td>\n",
       "      <td>11</td>\n",
       "      <td>8</td>\n",
       "      <td>0.196348</td>\n",
       "      <td>[e. d. durand, j. m. clark, roy g. blakey]</td>\n",
       "      <td>1911</td>\n",
       "      <td>1921</td>\n",
       "    </tr>\n",
       "    <tr>\n",
       "      <th>4</th>\n",
       "      <td>1042</td>\n",
       "      <td>799</td>\n",
       "      <td>85</td>\n",
       "      <td>30</td>\n",
       "      <td>29</td>\n",
       "      <td>0.189507</td>\n",
       "      <td>[john d. black, sumner h. slichter]</td>\n",
       "      <td>1921</td>\n",
       "      <td>1931</td>\n",
       "    </tr>\n",
       "    <tr>\n",
       "      <th>5</th>\n",
       "      <td>1763</td>\n",
       "      <td>1358</td>\n",
       "      <td>190</td>\n",
       "      <td>16</td>\n",
       "      <td>11</td>\n",
       "      <td>0.163981</td>\n",
       "      <td>[calvin b. hoover, michael t. florinsky, william orton]</td>\n",
       "      <td>1931</td>\n",
       "      <td>1941</td>\n",
       "    </tr>\n",
       "    <tr>\n",
       "      <th>6</th>\n",
       "      <td>2022</td>\n",
       "      <td>1524</td>\n",
       "      <td>177</td>\n",
       "      <td>99</td>\n",
       "      <td>25</td>\n",
       "      <td>0.161331</td>\n",
       "      <td>[joseph s. davis, frederick c. mills, eveline m. burns, norman s. buchanan, frank h. knight, donald h. wallace, dickson h. leavens, seymour e. harris, edward s. mason, paul t. homan, morris a. copeland, albert b. wolfe, jules backman, joseph j. spengler, e. a. goldenweiser, aryness j. wickens, dexter m. keezer, edward chamberlin, fritz machlup]</td>\n",
       "      <td>1941</td>\n",
       "      <td>1951</td>\n",
       "    </tr>\n",
       "    <tr>\n",
       "      <th>7</th>\n",
       "      <td>2597</td>\n",
       "      <td>2006</td>\n",
       "      <td>155</td>\n",
       "      <td>33</td>\n",
       "      <td>13</td>\n",
       "      <td>0.125044</td>\n",
       "      <td>[melvin g. d. chazeau]</td>\n",
       "      <td>1951</td>\n",
       "      <td>1961</td>\n",
       "    </tr>\n",
       "    <tr>\n",
       "      <th>8</th>\n",
       "      <td>3324</td>\n",
       "      <td>2410</td>\n",
       "      <td>282</td>\n",
       "      <td>29</td>\n",
       "      <td>17</td>\n",
       "      <td>0.104898</td>\n",
       "      <td>[challis a. hall, herbert stein]</td>\n",
       "      <td>1961</td>\n",
       "      <td>1971</td>\n",
       "    </tr>\n",
       "    <tr>\n",
       "      <th>9</th>\n",
       "      <td>3742</td>\n",
       "      <td>2323</td>\n",
       "      <td>179</td>\n",
       "      <td>55</td>\n",
       "      <td>21</td>\n",
       "      <td>0.118365</td>\n",
       "      <td>[joseph e. stiglitz]</td>\n",
       "      <td>1971</td>\n",
       "      <td>1981</td>\n",
       "    </tr>\n",
       "    <tr>\n",
       "      <th>10</th>\n",
       "      <td>3514</td>\n",
       "      <td>1715</td>\n",
       "      <td>644</td>\n",
       "      <td>27</td>\n",
       "      <td>16</td>\n",
       "      <td>0.176947</td>\n",
       "      <td>[n. g. mankiw, lawrence h. summers, garth saloner, julio j. rotemberg]</td>\n",
       "      <td>1981</td>\n",
       "      <td>1991</td>\n",
       "    </tr>\n",
       "    <tr>\n",
       "      <th>11</th>\n",
       "      <td>3449</td>\n",
       "      <td>1329</td>\n",
       "      <td>924</td>\n",
       "      <td>30</td>\n",
       "      <td>24</td>\n",
       "      <td>0.241017</td>\n",
       "      <td>[steven j. davis, nobuhiro kiyotaki, john haltiwanger]</td>\n",
       "      <td>1991</td>\n",
       "      <td>2001</td>\n",
       "    </tr>\n",
       "    <tr>\n",
       "      <th>12</th>\n",
       "      <td>4060</td>\n",
       "      <td>1061</td>\n",
       "      <td>1799</td>\n",
       "      <td>13</td>\n",
       "      <td>13</td>\n",
       "      <td>0.377006</td>\n",
       "      <td>[john j. siegfried, ben s. bernanke, andrei shleifer, joshua d. angrist, charles e. scott, steven levitt, john mcmillan]</td>\n",
       "      <td>2001</td>\n",
       "      <td>2011</td>\n",
       "    </tr>\n",
       "    <tr>\n",
       "      <th>13</th>\n",
       "      <td>5299</td>\n",
       "      <td>975</td>\n",
       "      <td>2954</td>\n",
       "      <td>14</td>\n",
       "      <td>14</td>\n",
       "      <td>0.526359</td>\n",
       "      <td>[liran einav, ulrich k. muller]</td>\n",
       "      <td>2011</td>\n",
       "      <td>2021</td>\n",
       "    </tr>\n",
       "  </tbody>\n",
       "</table>\n",
       "</div>"
      ],
      "text/plain": [
       "    Number of nodes  Number of CC   LCC  2nd LCC  3rd LCC  AVG clustering  \\\n",
       "0                64            61     2        2        2        0.000000   \n",
       "1               312           302     3        2        2        0.000000   \n",
       "2               420           395    16        3        2        0.038095   \n",
       "3              1051           780   232       11        8        0.196348   \n",
       "4              1042           799    85       30       29        0.189507   \n",
       "5              1763          1358   190       16       11        0.163981   \n",
       "6              2022          1524   177       99       25        0.161331   \n",
       "7              2597          2006   155       33       13        0.125044   \n",
       "8              3324          2410   282       29       17        0.104898   \n",
       "9              3742          2323   179       55       21        0.118365   \n",
       "10             3514          1715   644       27       16        0.176947   \n",
       "11             3449          1329   924       30       24        0.241017   \n",
       "12             4060          1061  1799       13       13        0.377006   \n",
       "13             5299           975  2954       14       14        0.526359   \n",
       "\n",
       "                                                                                                                                                                                                                                                                                                                                                       centers  \\\n",
       "0                                                                                                                                                                                                                                                                                                                            [s. m. macvane, uriel h. crocker]   \n",
       "1                                                                                                                                                                                                                                                                                                                                                   [w. j. a.]   \n",
       "2                                                                                        [a. s. johnson, charles h. judd, ulysses g. weatherly, robert c. chapin, w. e. hotchkiss, h. s. smalley, l. c. marshall, j. l. laughlin, william a. scott, m. s. wildman, harry p. judson, frank t. carlton, john h. gray, a. b. wolfe, r. f. hoxie, george g. groat]   \n",
       "3                                                                                                                                                                                                                                                                                                                   [e. d. durand, j. m. clark, roy g. blakey]   \n",
       "4                                                                                                                                                                                                                                                                                                                          [john d. black, sumner h. slichter]   \n",
       "5                                                                                                                                                                                                                                                                                                      [calvin b. hoover, michael t. florinsky, william orton]   \n",
       "6   [joseph s. davis, frederick c. mills, eveline m. burns, norman s. buchanan, frank h. knight, donald h. wallace, dickson h. leavens, seymour e. harris, edward s. mason, paul t. homan, morris a. copeland, albert b. wolfe, jules backman, joseph j. spengler, e. a. goldenweiser, aryness j. wickens, dexter m. keezer, edward chamberlin, fritz machlup]   \n",
       "7                                                                                                                                                                                                                                                                                                                                       [melvin g. d. chazeau]   \n",
       "8                                                                                                                                                                                                                                                                                                                             [challis a. hall, herbert stein]   \n",
       "9                                                                                                                                                                                                                                                                                                                                         [joseph e. stiglitz]   \n",
       "10                                                                                                                                                                                                                                                                                      [n. g. mankiw, lawrence h. summers, garth saloner, julio j. rotemberg]   \n",
       "11                                                                                                                                                                                                                                                                                                      [steven j. davis, nobuhiro kiyotaki, john haltiwanger]   \n",
       "12                                                                                                                                                                                                                                    [john j. siegfried, ben s. bernanke, andrei shleifer, joshua d. angrist, charles e. scott, steven levitt, john mcmillan]   \n",
       "13                                                                                                                                                                                                                                                                                                                             [liran einav, ulrich k. muller]   \n",
       "\n",
       "    start   end  \n",
       "0    1881  1891  \n",
       "1    1891  1901  \n",
       "2    1901  1911  \n",
       "3    1911  1921  \n",
       "4    1921  1931  \n",
       "5    1931  1941  \n",
       "6    1941  1951  \n",
       "7    1951  1961  \n",
       "8    1961  1971  \n",
       "9    1971  1981  \n",
       "10   1981  1991  \n",
       "11   1991  2001  \n",
       "12   2001  2011  \n",
       "13   2011  2021  "
      ]
     },
     "execution_count": 337,
     "metadata": {},
     "output_type": "execute_result"
    }
   ],
   "source": [
    "pd.set_option('max_colwidth', None)\n",
    "\n",
    "df"
   ]
  },
  {
   "cell_type": "code",
   "execution_count": 361,
   "id": "5709684b",
   "metadata": {},
   "outputs": [],
   "source": [
    "output=build_graph(2010, 2020, \"a1\")\n",
    "L=output[0]"
   ]
  },
  {
   "cell_type": "code",
   "execution_count": 362,
   "id": "cab33767",
   "metadata": {},
   "outputs": [],
   "source": [
    "\n",
    "def plot_a_net(L, start, end):\n",
    "    plt.figure()\n",
    "    text=\"network graph of econ journal authors between \"+str(start)+\" and \"+str(end)+\" (exclusive). Nodes=\"+str(L.number_of_nodes())+\". Edges=\"+str(L.number_of_edges())+'.'\n",
    "    plt.title(text)\n",
    "    nx.draw_spectral(L, with_labels=True, font_weight='light', node_size=5, font_size=5)\n",
    "    plt.show()"
   ]
  },
  {
   "cell_type": "code",
   "execution_count": null,
   "id": "0dd22116",
   "metadata": {},
   "outputs": [],
   "source": []
  },
  {
   "cell_type": "code",
   "execution_count": null,
   "id": "7698112e",
   "metadata": {},
   "outputs": [],
   "source": []
  }
 ],
 "metadata": {
  "kernelspec": {
   "display_name": "lib",
   "language": "python",
   "name": "lib"
  },
  "language_info": {
   "codemirror_mode": {
    "name": "ipython",
    "version": 3
   },
   "file_extension": ".py",
   "mimetype": "text/x-python",
   "name": "python",
   "nbconvert_exporter": "python",
   "pygments_lexer": "ipython3",
   "version": "3.11.2"
  }
 },
 "nbformat": 4,
 "nbformat_minor": 5
}
