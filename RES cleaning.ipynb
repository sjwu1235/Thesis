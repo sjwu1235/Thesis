{
 "cells": [
  {
   "cell_type": "markdown",
   "id": "497d54cc",
   "metadata": {},
   "source": [
    "# RES Cleaning\n",
    "\n",
    "This notebook walks through how the RES articles were sorted into categories of articles and non-articles.\n",
    "\n",
    "## Load Libraries"
   ]
  },
  {
   "cell_type": "code",
   "execution_count": null,
   "id": "bd3eef3a",
   "metadata": {},
   "outputs": [],
   "source": [
    "from tokenize import Ignore\n",
    "from numpy import NaN\n",
    "import pandas as pd\n",
    "from difflib import SequenceMatcher\n",
    "from multiprocessing import Pool\n",
    "import multiprocessing as mp\n",
    "import time\n",
    "import pandas as pd\n",
    "from difflib import SequenceMatcher\n",
    "from multiprocessing import Pool\n",
    "import multiprocessing as mp\n",
    "import time"
   ]
  },
  {
   "cell_type": "markdown",
   "id": "ba58244a",
   "metadata": {},
   "source": [
    "## Load Files\n",
    "\n",
    "Replace the file paths below to match local file paths. Note: comment out files that are not available eg: datadumps."
   ]
  },
  {
   "cell_type": "code",
   "execution_count": 53,
   "id": "8dccd97d",
   "metadata": {},
   "outputs": [],
   "source": [
    "masters = pd.read_excel(\"C:\\\\Users\\\\sjwu1\\\\Journal_Data\\\\Master lists\\\\RES_master.xlsx\")\n",
    "pivots = pd.read_excel(\"C:\\\\Users\\\\sjwu1\\\\Journal_Data\\\\pivots\\\\RES_pivots.xlsx\")\n",
    "scopus = pd.read_excel(\"C:\\\\Users\\\\sjwu1\\\\Journal_Data\\\\Scopus\\\\RES_SCOPUS.xlsx\")\n",
    "datadump = pd.read_excel(\"C:\\\\Users\\\\sjwu1\\\\Journal_Data\\\\datadumps\\\\RES_datadump.xlsx\")\n",
    "\n",
    "pd.set_option('display.max_colwidth', None)"
   ]
  },
  {
   "cell_type": "markdown",
   "id": "27239554",
   "metadata": {},
   "source": [
    "## Create File Names"
   ]
  },
  {
   "cell_type": "code",
   "execution_count": 54,
   "id": "b54a9027",
   "metadata": {},
   "outputs": [],
   "source": [
    "authors=\"C:\\\\Users\\\\sjwu1\\\\Journal_Data\\\\datadumps\\\\RES_authors.xlsx\"\n",
    "non_auth=\"C:\\\\Users\\\\sjwu1\\\\Journal_Data\\\\datadumps\\\\RES_Nauthors.xlsx\"\n",
    "saveas=\"C:\\\\Users\\\\sjwu1\\\\Journal_Data\\\\datadumps\\\\RES_processed.xlsx\"\n",
    "reviews=\"C:\\\\Users\\\\sjwu1\\\\Journal_Data\\\\datadumps\\\\RES_reviews.xlsx\"\n",
    "misc=\"C:\\\\Users\\\\sjwu1\\\\Journal_Data\\\\datadumps\\\\RES_misc.xlsx\"\n",
    "conf=\"C:\\\\Users\\\\sjwu1\\\\Journal_Data\\\\datadumps\\\\RES_conf.xlsx\""
   ]
  },
  {
   "cell_type": "markdown",
   "id": "ac6b732a",
   "metadata": {},
   "source": [
    "## Some random checks on the masters list\n",
    "\n",
    "My assumption is that all data without author names must be miscellaneous documents like reports by the committee, forewords, front matters etc.. The goal of this notebook is to check for certain that all the documents without author names are actually miscellaneous documents and then classify them as miscellaneous (MISC). Hence, first we group everything the data by title to see the repetitive general content that can likely be removed."
   ]
  },
  {
   "cell_type": "code",
   "execution_count": 55,
   "id": "b31e606d",
   "metadata": {},
   "outputs": [
    {
     "data": {
      "text/html": [
       "<div>\n",
       "<style scoped>\n",
       "    .dataframe tbody tr th:only-of-type {\n",
       "        vertical-align: middle;\n",
       "    }\n",
       "\n",
       "    .dataframe tbody tr th {\n",
       "        vertical-align: top;\n",
       "    }\n",
       "\n",
       "    .dataframe thead th {\n",
       "        text-align: right;\n",
       "    }\n",
       "</style>\n",
       "<table border=\"1\" class=\"dataframe\">\n",
       "  <thead>\n",
       "    <tr style=\"text-align: right;\">\n",
       "      <th></th>\n",
       "      <th>title</th>\n",
       "    </tr>\n",
       "  </thead>\n",
       "  <tbody>\n",
       "    <tr>\n",
       "      <th>front matter</th>\n",
       "      <td>297</td>\n",
       "    </tr>\n",
       "    <tr>\n",
       "      <th>back matter</th>\n",
       "      <td>278</td>\n",
       "    </tr>\n",
       "    <tr>\n",
       "      <th>volume information</th>\n",
       "      <td>73</td>\n",
       "    </tr>\n",
       "    <tr>\n",
       "      <th>accepted manuscripts</th>\n",
       "      <td>9</td>\n",
       "    </tr>\n",
       "    <tr>\n",
       "      <th>periodicals received</th>\n",
       "      <td>8</td>\n",
       "    </tr>\n",
       "    <tr>\n",
       "      <th>books and monographs received</th>\n",
       "      <td>8</td>\n",
       "    </tr>\n",
       "    <tr>\n",
       "      <th>editorial announcement</th>\n",
       "      <td>8</td>\n",
       "    </tr>\n",
       "    <tr>\n",
       "      <th>comment</th>\n",
       "      <td>5</td>\n",
       "    </tr>\n",
       "    <tr>\n",
       "      <th>editorial</th>\n",
       "      <td>5</td>\n",
       "    </tr>\n",
       "    <tr>\n",
       "      <th>introduction</th>\n",
       "      <td>4</td>\n",
       "    </tr>\n",
       "    <tr>\n",
       "      <th>i</th>\n",
       "      <td>3</td>\n",
       "    </tr>\n",
       "    <tr>\n",
       "      <th>announcement</th>\n",
       "      <td>3</td>\n",
       "    </tr>\n",
       "    <tr>\n",
       "      <th>books and periodicals received</th>\n",
       "      <td>3</td>\n",
       "    </tr>\n",
       "    <tr>\n",
       "      <th>economic thought in the soviet union</th>\n",
       "      <td>3</td>\n",
       "    </tr>\n",
       "    <tr>\n",
       "      <th>materials for a theory of the duration of the process of tax shifting</th>\n",
       "      <td>2</td>\n",
       "    </tr>\n",
       "    <tr>\n",
       "      <th>errata: neutral inventions and production functions</th>\n",
       "      <td>2</td>\n",
       "    </tr>\n",
       "    <tr>\n",
       "      <th>measuring the power of undervalued currency to stimulate exports</th>\n",
       "      <td>2</td>\n",
       "    </tr>\n",
       "    <tr>\n",
       "      <th>empirical evidence on the acceleration principle</th>\n",
       "      <td>2</td>\n",
       "    </tr>\n",
       "    <tr>\n",
       "      <th>ii</th>\n",
       "      <td>2</td>\n",
       "    </tr>\n",
       "    <tr>\n",
       "      <th>editorial announcements</th>\n",
       "      <td>2</td>\n",
       "    </tr>\n",
       "    <tr>\n",
       "      <th>new results in an old framework: comment on samuelson and modigliani</th>\n",
       "      <td>2</td>\n",
       "    </tr>\n",
       "    <tr>\n",
       "      <th>the production function and the theory of capital</th>\n",
       "      <td>2</td>\n",
       "    </tr>\n",
       "  </tbody>\n",
       "</table>\n",
       "</div>"
      ],
      "text/plain": [
       "                                                                       title\n",
       "front matter                                                             297\n",
       "back matter                                                              278\n",
       "volume information                                                        73\n",
       "accepted manuscripts                                                       9\n",
       "periodicals received                                                       8\n",
       "books and monographs received                                              8\n",
       "editorial announcement                                                     8\n",
       "comment                                                                    5\n",
       "editorial                                                                  5\n",
       "introduction                                                               4\n",
       "i                                                                          3\n",
       "announcement                                                               3\n",
       "books and periodicals received                                             3\n",
       "economic thought in the soviet union                                       3\n",
       "materials for a theory of the duration of the process of tax shifting      2\n",
       "errata: neutral inventions and production functions                        2\n",
       "measuring the power of undervalued currency to stimulate exports           2\n",
       "empirical evidence on the acceleration principle                           2\n",
       "ii                                                                         2\n",
       "editorial announcements                                                    2\n",
       "new results in an old framework: comment on samuelson and modigliani       2\n",
       "the production function and the theory of capital                          2"
      ]
     },
     "execution_count": 55,
     "metadata": {},
     "output_type": "execute_result"
    }
   ],
   "source": [
    "pd.set_option('display.max_rows',masters.shape[0])\n",
    "temp=masters['title'].str.lower().value_counts()\n",
    "pd.DataFrame(temp[temp>1])"
   ]
  },
  {
   "cell_type": "markdown",
   "id": "be81d470",
   "metadata": {},
   "source": [
    "Some repetitions are due to multiple comments. Now consider this list in absence of author names."
   ]
  },
  {
   "cell_type": "code",
   "execution_count": 56,
   "id": "06234093",
   "metadata": {},
   "outputs": [
    {
     "data": {
      "text/html": [
       "<div>\n",
       "<style scoped>\n",
       "    .dataframe tbody tr th:only-of-type {\n",
       "        vertical-align: middle;\n",
       "    }\n",
       "\n",
       "    .dataframe tbody tr th {\n",
       "        vertical-align: top;\n",
       "    }\n",
       "\n",
       "    .dataframe thead th {\n",
       "        text-align: right;\n",
       "    }\n",
       "</style>\n",
       "<table border=\"1\" class=\"dataframe\">\n",
       "  <thead>\n",
       "    <tr style=\"text-align: right;\">\n",
       "      <th></th>\n",
       "      <th>title</th>\n",
       "    </tr>\n",
       "  </thead>\n",
       "  <tbody>\n",
       "    <tr>\n",
       "      <th>front matter</th>\n",
       "      <td>297</td>\n",
       "    </tr>\n",
       "    <tr>\n",
       "      <th>back matter</th>\n",
       "      <td>278</td>\n",
       "    </tr>\n",
       "    <tr>\n",
       "      <th>volume information</th>\n",
       "      <td>73</td>\n",
       "    </tr>\n",
       "    <tr>\n",
       "      <th>accepted manuscripts</th>\n",
       "      <td>9</td>\n",
       "    </tr>\n",
       "    <tr>\n",
       "      <th>books and monographs received</th>\n",
       "      <td>8</td>\n",
       "    </tr>\n",
       "    <tr>\n",
       "      <th>periodicals received</th>\n",
       "      <td>8</td>\n",
       "    </tr>\n",
       "    <tr>\n",
       "      <th>books and periodicals received</th>\n",
       "      <td>3</td>\n",
       "    </tr>\n",
       "    <tr>\n",
       "      <th>announcement</th>\n",
       "      <td>3</td>\n",
       "    </tr>\n",
       "    <tr>\n",
       "      <th>introduction</th>\n",
       "      <td>2</td>\n",
       "    </tr>\n",
       "    <tr>\n",
       "      <th>errata: neutral inventions and production functions</th>\n",
       "      <td>2</td>\n",
       "    </tr>\n",
       "    <tr>\n",
       "      <th>periodicals</th>\n",
       "      <td>1</td>\n",
       "    </tr>\n",
       "    <tr>\n",
       "      <th>corrections: the stability of the cournot oligopoly solution: a further generalization</th>\n",
       "      <td>1</td>\n",
       "    </tr>\n",
       "    <tr>\n",
       "      <th>errata: radner--efficiency prices for infinite horron production programmes</th>\n",
       "      <td>1</td>\n",
       "    </tr>\n",
       "    <tr>\n",
       "      <th>correction: preferences, votes and the transitivity of majority decisions</th>\n",
       "      <td>1</td>\n",
       "    </tr>\n",
       "    <tr>\n",
       "      <th>corrections: existence of a utility function to represent preferences</th>\n",
       "      <td>1</td>\n",
       "    </tr>\n",
       "    <tr>\n",
       "      <th>correction: business saving and normal income</th>\n",
       "      <td>1</td>\n",
       "    </tr>\n",
       "    <tr>\n",
       "      <th>corrections: a reply to professor chang</th>\n",
       "      <td>1</td>\n",
       "    </tr>\n",
       "    <tr>\n",
       "      <th>index</th>\n",
       "      <td>1</td>\n",
       "    </tr>\n",
       "    <tr>\n",
       "      <th>editorial</th>\n",
       "      <td>1</td>\n",
       "    </tr>\n",
       "    <tr>\n",
       "      <th>author index</th>\n",
       "      <td>1</td>\n",
       "    </tr>\n",
       "    <tr>\n",
       "      <th>subject index</th>\n",
       "      <td>1</td>\n",
       "    </tr>\n",
       "    <tr>\n",
       "      <th>[correction]: entrepreneur's risk, lender's risk and investment</th>\n",
       "      <td>1</td>\n",
       "    </tr>\n",
       "    <tr>\n",
       "      <th>economic thought in the soviet union</th>\n",
       "      <td>1</td>\n",
       "    </tr>\n",
       "    <tr>\n",
       "      <th>errata: the explanation of productivity change</th>\n",
       "      <td>1</td>\n",
       "    </tr>\n",
       "    <tr>\n",
       "      <th>errata</th>\n",
       "      <td>1</td>\n",
       "    </tr>\n",
       "    <tr>\n",
       "      <th>errata: optimal savings under uncertainty</th>\n",
       "      <td>1</td>\n",
       "    </tr>\n",
       "    <tr>\n",
       "      <th>erratum: the relationship between education and adult mortality in the united states adriana lleras-muney</th>\n",
       "      <td>1</td>\n",
       "    </tr>\n",
       "    <tr>\n",
       "      <th>erratum: pecuniary externalities in economies with financial frictions</th>\n",
       "      <td>1</td>\n",
       "    </tr>\n",
       "    <tr>\n",
       "      <th>corrigendum: signaling private choices</th>\n",
       "      <td>1</td>\n",
       "    </tr>\n",
       "    <tr>\n",
       "      <th>erratum: the institutional causes of china's great famine, 1959-1961</th>\n",
       "      <td>1</td>\n",
       "    </tr>\n",
       "    <tr>\n",
       "      <th>erratum: endogenous games and mechanisms: side payments among players</th>\n",
       "      <td>1</td>\n",
       "    </tr>\n",
       "    <tr>\n",
       "      <th>erratum: sovereign debt without default penalties</th>\n",
       "      <td>1</td>\n",
       "    </tr>\n",
       "    <tr>\n",
       "      <th>erratum: market size, trade, and productivity</th>\n",
       "      <td>1</td>\n",
       "    </tr>\n",
       "    <tr>\n",
       "      <th>corrigendum: consistent testing for stochastic dominance under general sampling schemes</th>\n",
       "      <td>1</td>\n",
       "    </tr>\n",
       "    <tr>\n",
       "      <th>erratum: who wants a good reputation?</th>\n",
       "      <td>1</td>\n",
       "    </tr>\n",
       "    <tr>\n",
       "      <th>correction to \"on optimal development in a multi-sector economy\"</th>\n",
       "      <td>1</td>\n",
       "    </tr>\n",
       "    <tr>\n",
       "      <th>editorial announcement</th>\n",
       "      <td>1</td>\n",
       "    </tr>\n",
       "    <tr>\n",
       "      <th>errata: variable returns to scale, non-uniqueness of equilibrium and the gains from international trade</th>\n",
       "      <td>1</td>\n",
       "    </tr>\n",
       "    <tr>\n",
       "      <th>errata: volume information</th>\n",
       "      <td>1</td>\n",
       "    </tr>\n",
       "    <tr>\n",
       "      <th>index to volumes 47-56 1980-1989</th>\n",
       "      <td>1</td>\n",
       "    </tr>\n",
       "    <tr>\n",
       "      <th>index to volumes 26-48 1959-1981</th>\n",
       "      <td>1</td>\n",
       "    </tr>\n",
       "    <tr>\n",
       "      <th>european meeting of the econometric society athens, 1979</th>\n",
       "      <td>1</td>\n",
       "    </tr>\n",
       "    <tr>\n",
       "      <th>european meeting of the econometric society, vienna, 1977</th>\n",
       "      <td>1</td>\n",
       "    </tr>\n",
       "    <tr>\n",
       "      <th>a correction: interest in the theory of production</th>\n",
       "      <td>1</td>\n",
       "    </tr>\n",
       "  </tbody>\n",
       "</table>\n",
       "</div>"
      ],
      "text/plain": [
       "                                                                                                           title\n",
       "front matter                                                                                                 297\n",
       "back matter                                                                                                  278\n",
       "volume information                                                                                            73\n",
       "accepted manuscripts                                                                                           9\n",
       "books and monographs received                                                                                  8\n",
       "periodicals received                                                                                           8\n",
       "books and periodicals received                                                                                 3\n",
       "announcement                                                                                                   3\n",
       "introduction                                                                                                   2\n",
       "errata: neutral inventions and production functions                                                            2\n",
       "periodicals                                                                                                    1\n",
       "corrections: the stability of the cournot oligopoly solution: a further generalization                         1\n",
       "errata: radner--efficiency prices for infinite horron production programmes                                    1\n",
       "correction: preferences, votes and the transitivity of majority decisions                                      1\n",
       "corrections: existence of a utility function to represent preferences                                          1\n",
       "correction: business saving and normal income                                                                  1\n",
       "corrections: a reply to professor chang                                                                        1\n",
       "index                                                                                                          1\n",
       "editorial                                                                                                      1\n",
       "author index                                                                                                   1\n",
       "subject index                                                                                                  1\n",
       "[correction]: entrepreneur's risk, lender's risk and investment                                                1\n",
       "economic thought in the soviet union                                                                           1\n",
       "errata: the explanation of productivity change                                                                 1\n",
       "errata                                                                                                         1\n",
       "errata: optimal savings under uncertainty                                                                      1\n",
       "erratum: the relationship between education and adult mortality in the united states adriana lleras-muney      1\n",
       "erratum: pecuniary externalities in economies with financial frictions                                         1\n",
       "corrigendum: signaling private choices                                                                         1\n",
       "erratum: the institutional causes of china's great famine, 1959-1961                                           1\n",
       "erratum: endogenous games and mechanisms: side payments among players                                          1\n",
       "erratum: sovereign debt without default penalties                                                              1\n",
       "erratum: market size, trade, and productivity                                                                  1\n",
       "corrigendum: consistent testing for stochastic dominance under general sampling schemes                        1\n",
       "erratum: who wants a good reputation?                                                                          1\n",
       "correction to \"on optimal development in a multi-sector economy\"                                               1\n",
       "editorial announcement                                                                                         1\n",
       "errata: variable returns to scale, non-uniqueness of equilibrium and the gains from international trade        1\n",
       "errata: volume information                                                                                     1\n",
       "index to volumes 47-56 1980-1989                                                                               1\n",
       "index to volumes 26-48 1959-1981                                                                               1\n",
       "european meeting of the econometric society athens, 1979                                                       1\n",
       "european meeting of the econometric society, vienna, 1977                                                      1\n",
       "a correction: interest in the theory of production                                                             1"
      ]
     },
     "execution_count": 56,
     "metadata": {},
     "output_type": "execute_result"
    }
   ],
   "source": [
    "temp1=masters[masters['authors'].isna()]['title'].str.lower().value_counts()\n",
    "pd.DataFrame(temp1)"
   ]
  },
  {
   "cell_type": "code",
   "execution_count": 57,
   "id": "33d78392",
   "metadata": {},
   "outputs": [
    {
     "data": {
      "text/html": [
       "<div>\n",
       "<style scoped>\n",
       "    .dataframe tbody tr th:only-of-type {\n",
       "        vertical-align: middle;\n",
       "    }\n",
       "\n",
       "    .dataframe tbody tr th {\n",
       "        vertical-align: top;\n",
       "    }\n",
       "\n",
       "    .dataframe thead th {\n",
       "        text-align: right;\n",
       "    }\n",
       "</style>\n",
       "<table border=\"1\" class=\"dataframe\">\n",
       "  <thead>\n",
       "    <tr style=\"text-align: right;\">\n",
       "      <th></th>\n",
       "      <th>Unnamed: 0</th>\n",
       "      <th>stable_url</th>\n",
       "      <th>authors</th>\n",
       "      <th>title</th>\n",
       "      <th>abstract</th>\n",
       "      <th>content_type</th>\n",
       "      <th>issue_url</th>\n",
       "      <th>pages</th>\n",
       "    </tr>\n",
       "  </thead>\n",
       "  <tbody>\n",
       "  </tbody>\n",
       "</table>\n",
       "</div>"
      ],
      "text/plain": [
       "Empty DataFrame\n",
       "Columns: [Unnamed: 0, stable_url, authors, title, abstract, content_type, issue_url, pages]\n",
       "Index: []"
      ]
     },
     "execution_count": 57,
     "metadata": {},
     "output_type": "execute_result"
    }
   ],
   "source": [
    "#pd.DataFrame(masters[masters['content_type'].isna()]['title'].str.lower().value_counts())\n",
    "#masters[masters['title'].str.lower().str.match(r'(^|: )report of the')]\n",
    "#masters[masters['title'].str.lower().str.match(r'(^|.*: )report of the')]\n",
    "#masters.loc[masters['title'].str.lower().str.match(r'^combined references(.*)')==True,'content_type']='MISC'\n",
    "\n",
    "# this is a random panel for testing code"
   ]
  },
  {
   "cell_type": "markdown",
   "id": "9099af8f",
   "metadata": {},
   "source": [
    "Notice that titles with duplicates of greater or equal to 4 are miscellaneous items and so they are classified in bulk"
   ]
  },
  {
   "cell_type": "code",
   "execution_count": 59,
   "id": "c11c1308",
   "metadata": {},
   "outputs": [],
   "source": [
    "temp2=masters[(masters['content_type'].isna()==True)]['title'].str.lower().value_counts()\n",
    "removal=list(temp2[temp2>=4].index)\n",
    "masters.loc[masters.title.str.lower().isin(removal),'content_type']='MISC'"
   ]
  },
  {
   "cell_type": "markdown",
   "id": "8987db8a",
   "metadata": {},
   "source": [
    "Classify some titles via regex"
   ]
  },
  {
   "cell_type": "code",
   "execution_count": 60,
   "id": "a5e4a72f",
   "metadata": {},
   "outputs": [],
   "source": [
    "masters.loc[masters['title'].str.lower().str.contains('books and periodicals')==True,'content_type']='MISC'\n",
    "masters.loc[masters['title'].str.lower().str.match(r'^editorial')==True,'content_type']='MISC'\n",
    "masters.loc[masters['title'].str.lower().str.match(r'^announcement')==True,'content_type']='MISC'\n",
    "masters.loc[masters['title'].str.strip().str.len()<4,'content_type']='MISC'\n",
    "#masters[masters.content_type=='MISC']\n"
   ]
  },
  {
   "cell_type": "code",
   "execution_count": 61,
   "id": "a83c23fb",
   "metadata": {},
   "outputs": [],
   "source": [
    "scopus.rename(columns = {'abstract':'abstract2', 'title':'title2', 'authors':'authors2'}, inplace = True)\n",
    "scopus['pages2']=scopus['pages']\n",
    "masters['pages']=masters['pages'].str.strip()  \n",
    "masters.loc[masters.title.str.lower() == \"back matter\", 'pages'] = NaN  "
   ]
  },
  {
   "cell_type": "code",
   "execution_count": null,
   "id": "6598608d",
   "metadata": {},
   "outputs": [],
   "source": []
  },
  {
   "cell_type": "markdown",
   "id": "55cd0a40",
   "metadata": {},
   "source": [
    "## Classifying other content"
   ]
  },
  {
   "cell_type": "code",
   "execution_count": 62,
   "id": "cd16db7b",
   "metadata": {},
   "outputs": [
    {
     "data": {
      "text/plain": [
       "3259"
      ]
     },
     "execution_count": 62,
     "metadata": {},
     "output_type": "execute_result"
    }
   ],
   "source": [
    "sum(masters.content_type.isna())\n",
    "#masters.shape[0]"
   ]
  },
  {
   "cell_type": "code",
   "execution_count": 63,
   "id": "d02d39a1",
   "metadata": {},
   "outputs": [
    {
     "data": {
      "text/plain": [
       "0"
      ]
     },
     "execution_count": 63,
     "metadata": {},
     "output_type": "execute_result"
    }
   ],
   "source": [
    "masters.loc[masters['authors'].str.lower().str.match(r'^review(ed|) by(.*)')==True,'content_type']='Review' #reviews\n",
    "masters.loc[(masters['title'].str.lower().str.match(r'(.*) by (.*)')==True) & (masters.authors.isna()==True),'content_type']='Review2' \n",
    "#possible reviews that don't have author names\n",
    "masters[(masters['content_type']=='Review2') | (masters['content_type']=='Review')].shape[0] #reviews"
   ]
  },
  {
   "cell_type": "code",
   "execution_count": 64,
   "id": "77051785",
   "metadata": {},
   "outputs": [
    {
     "data": {
      "text/plain": [
       "55"
      ]
     },
     "execution_count": 64,
     "metadata": {},
     "output_type": "execute_result"
    }
   ],
   "source": [
    "masters.loc[masters.content_type.isna() & masters.title.str.lower().str.match(r'.*(:|\\?).*comment.*$')==True,'content_type']='Comment'\n",
    "masters.loc[masters.content_type.isna() & masters.title.str.lower().str.match(r'.*comment$')==True,'content_type']='Comment'\n",
    "masters.loc[masters.content_type.isna() & masters.title.str.lower().str.match(r'(a further|further) comment.*$')==True,'content_type']='Comment'\n",
    "masters[masters['content_type']=='Comment'].shape[0] \n",
    "#comments"
   ]
  },
  {
   "cell_type": "code",
   "execution_count": 65,
   "id": "37024f91",
   "metadata": {},
   "outputs": [
    {
     "data": {
      "text/plain": [
       "15"
      ]
     },
     "execution_count": 65,
     "metadata": {},
     "output_type": "execute_result"
    }
   ],
   "source": [
    "masters.loc[masters.content_type.isna() & masters.title.str.lower().str.match(r'.*(:|\\?) (|a )reply(| to.*)$')==True,'content_type']=\"Reply\"\n",
    "masters[masters['content_type']=='Reply'].shape[0]"
   ]
  },
  {
   "cell_type": "code",
   "execution_count": 66,
   "id": "07d479ad",
   "metadata": {},
   "outputs": [
    {
     "data": {
      "text/plain": [
       "9"
      ]
     },
     "execution_count": 66,
     "metadata": {},
     "output_type": "execute_result"
    }
   ],
   "source": [
    "masters.loc[masters.content_type.isna() & masters.title.str.lower().str.match(r'.*(:|\\?|).*rejoinder.*$')==True,'content_type']=\"Rejoinder\"\n",
    "masters[masters['content_type']=='Rejoinder'].shape[0]\n"
   ]
  },
  {
   "cell_type": "code",
   "execution_count": 67,
   "id": "e4118ba3",
   "metadata": {},
   "outputs": [
    {
     "data": {
      "text/plain": [
       "0"
      ]
     },
     "execution_count": 67,
     "metadata": {},
     "output_type": "execute_result"
    }
   ],
   "source": [
    "masters.loc[masters.content_type.isna() & masters.title.str.lower().str.match(r'.*: (|a )discussion$')==True,'content_type']=\"Discussion\"\n",
    "masters.loc[masters.content_type.isna() & masters.title.str.lower().str.match(r'(^|a )discussion(|.*)$')==True,'content_type']=\"Discussion\"\n",
    "masters.loc[masters.content_type.isna() & masters.title.str.lower().str.match(r'.*:.*(|a )discussion(|s)$')==True,'content_type']='Discussion'\n",
    "masters[masters['content_type']=='Discussion'].shape[0]\n"
   ]
  },
  {
   "cell_type": "code",
   "execution_count": 68,
   "id": "f432a860",
   "metadata": {},
   "outputs": [
    {
     "data": {
      "text/plain": [
       "3180"
      ]
     },
     "execution_count": 68,
     "metadata": {},
     "output_type": "execute_result"
    }
   ],
   "source": [
    "masters.loc[masters['content_type'].isna(),'content_type']=\"Article\"\n",
    "masters[masters['content_type']=='Article'].shape[0]"
   ]
  },
  {
   "cell_type": "code",
   "execution_count": null,
   "id": "6cc2055e",
   "metadata": {},
   "outputs": [],
   "source": []
  },
  {
   "cell_type": "code",
   "execution_count": 2,
   "id": "53651d71",
   "metadata": {},
   "outputs": [],
   "source": [
    "# block for testing regex patterns\n",
    "#masters[masters['title'].str.lower().str.match(r'^\\washington notes$')==True]\n",
    "#masters[masters.content_type.isna() & masters.title.str.lower().str.match(r'.*(:|\\?) (|a )rejoinder.*$')==True]\n",
    "#masters[masters.content_type=='Discussion'].shape[0]"
   ]
  },
  {
   "cell_type": "markdown",
   "id": "ad6706e8",
   "metadata": {},
   "source": [
    "## Consider the pivots file\n",
    "At times, conference papers are structured differently to normal articles. Hence, it may be necessary to distinguish conference papers from common articles. The next code block separates special issues (S) from normal issues (N)"
   ]
  },
  {
   "cell_type": "code",
   "execution_count": 71,
   "id": "ad5cf258",
   "metadata": {},
   "outputs": [
    {
     "data": {
      "text/plain": [
       "N    309\n",
       "Name: type, dtype: int64"
      ]
     },
     "execution_count": 71,
     "metadata": {},
     "output_type": "execute_result"
    }
   ],
   "source": [
    "pivots.loc[pivots.Jstor_issue_text.str.lower().str.match(r'(.*)(supplement|proceedings|annual meeting|survey)(.*)'),'type']=\"S\"\n",
    "pivots.loc[pivots.type.isna(),'type']='N'\n",
    "pivots.type.value_counts()"
   ]
  },
  {
   "cell_type": "markdown",
   "id": "5da4c071",
   "metadata": {},
   "source": [
    "Merge masterlist and pivot list"
   ]
  },
  {
   "cell_type": "code",
   "execution_count": 72,
   "id": "d7a34c25",
   "metadata": {},
   "outputs": [],
   "source": [
    "result = pd.merge(masters, pivots[['issue_url','year','volume','issue','journal','type']], how=\"left\", on=[\"issue_url\", \"issue_url\"])"
   ]
  },
  {
   "cell_type": "markdown",
   "id": "d0f73a2a",
   "metadata": {},
   "source": [
    "## Summary"
   ]
  },
  {
   "cell_type": "code",
   "execution_count": 73,
   "id": "f5be5465",
   "metadata": {
    "scrolled": true
   },
   "outputs": [
    {
     "data": {
      "text/html": [
       "<div>\n",
       "<style scoped>\n",
       "    .dataframe tbody tr th:only-of-type {\n",
       "        vertical-align: middle;\n",
       "    }\n",
       "\n",
       "    .dataframe tbody tr th {\n",
       "        vertical-align: top;\n",
       "    }\n",
       "\n",
       "    .dataframe thead th {\n",
       "        text-align: right;\n",
       "    }\n",
       "</style>\n",
       "<table border=\"1\" class=\"dataframe\">\n",
       "  <thead>\n",
       "    <tr style=\"text-align: right;\">\n",
       "      <th></th>\n",
       "      <th>content_type</th>\n",
       "    </tr>\n",
       "  </thead>\n",
       "  <tbody>\n",
       "    <tr>\n",
       "      <th>Article</th>\n",
       "      <td>3180</td>\n",
       "    </tr>\n",
       "    <tr>\n",
       "      <th>MISC</th>\n",
       "      <td>711</td>\n",
       "    </tr>\n",
       "    <tr>\n",
       "      <th>Comment</th>\n",
       "      <td>55</td>\n",
       "    </tr>\n",
       "    <tr>\n",
       "      <th>Reply</th>\n",
       "      <td>15</td>\n",
       "    </tr>\n",
       "    <tr>\n",
       "      <th>Rejoinder</th>\n",
       "      <td>9</td>\n",
       "    </tr>\n",
       "  </tbody>\n",
       "</table>\n",
       "</div>"
      ],
      "text/plain": [
       "           content_type\n",
       "Article            3180\n",
       "MISC                711\n",
       "Comment              55\n",
       "Reply                15\n",
       "Rejoinder             9"
      ]
     },
     "execution_count": 73,
     "metadata": {},
     "output_type": "execute_result"
    }
   ],
   "source": [
    "pd.DataFrame(result.content_type.value_counts())"
   ]
  },
  {
   "cell_type": "code",
   "execution_count": 74,
   "id": "ea8fdd25",
   "metadata": {},
   "outputs": [
    {
     "data": {
      "text/html": [
       "<div>\n",
       "<style scoped>\n",
       "    .dataframe tbody tr th:only-of-type {\n",
       "        vertical-align: middle;\n",
       "    }\n",
       "\n",
       "    .dataframe tbody tr th {\n",
       "        vertical-align: top;\n",
       "    }\n",
       "\n",
       "    .dataframe thead th {\n",
       "        text-align: right;\n",
       "    }\n",
       "</style>\n",
       "<table border=\"1\" class=\"dataframe\">\n",
       "  <thead>\n",
       "    <tr style=\"text-align: right;\">\n",
       "      <th></th>\n",
       "      <th>content_type</th>\n",
       "    </tr>\n",
       "  </thead>\n",
       "  <tbody>\n",
       "    <tr>\n",
       "      <th>Article</th>\n",
       "      <td>3036</td>\n",
       "    </tr>\n",
       "    <tr>\n",
       "      <th>MISC</th>\n",
       "      <td>670</td>\n",
       "    </tr>\n",
       "    <tr>\n",
       "      <th>Comment</th>\n",
       "      <td>54</td>\n",
       "    </tr>\n",
       "    <tr>\n",
       "      <th>Reply</th>\n",
       "      <td>11</td>\n",
       "    </tr>\n",
       "    <tr>\n",
       "      <th>Rejoinder</th>\n",
       "      <td>7</td>\n",
       "    </tr>\n",
       "  </tbody>\n",
       "</table>\n",
       "</div>"
      ],
      "text/plain": [
       "           content_type\n",
       "Article            3036\n",
       "MISC                670\n",
       "Comment              54\n",
       "Reply                11\n",
       "Rejoinder             7"
      ]
     },
     "execution_count": 74,
     "metadata": {},
     "output_type": "execute_result"
    }
   ],
   "source": [
    "pd.DataFrame(result[result.year>1939].content_type.value_counts())"
   ]
  },
  {
   "cell_type": "code",
   "execution_count": 75,
   "id": "6d9c512d",
   "metadata": {},
   "outputs": [
    {
     "data": {
      "text/html": [
       "<div>\n",
       "<style scoped>\n",
       "    .dataframe tbody tr th:only-of-type {\n",
       "        vertical-align: middle;\n",
       "    }\n",
       "\n",
       "    .dataframe tbody tr th {\n",
       "        vertical-align: top;\n",
       "    }\n",
       "\n",
       "    .dataframe thead th {\n",
       "        text-align: right;\n",
       "    }\n",
       "</style>\n",
       "<table border=\"1\" class=\"dataframe\">\n",
       "  <thead>\n",
       "    <tr style=\"text-align: right;\">\n",
       "      <th></th>\n",
       "      <th>content_type</th>\n",
       "    </tr>\n",
       "  </thead>\n",
       "  <tbody>\n",
       "    <tr>\n",
       "      <th>Article</th>\n",
       "      <td>2608</td>\n",
       "    </tr>\n",
       "    <tr>\n",
       "      <th>MISC</th>\n",
       "      <td>606</td>\n",
       "    </tr>\n",
       "    <tr>\n",
       "      <th>Comment</th>\n",
       "      <td>54</td>\n",
       "    </tr>\n",
       "    <tr>\n",
       "      <th>Reply</th>\n",
       "      <td>11</td>\n",
       "    </tr>\n",
       "    <tr>\n",
       "      <th>Rejoinder</th>\n",
       "      <td>7</td>\n",
       "    </tr>\n",
       "  </tbody>\n",
       "</table>\n",
       "</div>"
      ],
      "text/plain": [
       "           content_type\n",
       "Article            2608\n",
       "MISC                606\n",
       "Comment              54\n",
       "Reply                11\n",
       "Rejoinder             7"
      ]
     },
     "execution_count": 75,
     "metadata": {},
     "output_type": "execute_result"
    }
   ],
   "source": [
    "pd.DataFrame(result[(result.year>1939) & (result.year<2011)].content_type.value_counts())"
   ]
  },
  {
   "cell_type": "code",
   "execution_count": 76,
   "id": "4ec24247",
   "metadata": {},
   "outputs": [],
   "source": [
    "result.to_excel(saveas, index=False)"
   ]
  }
 ],
 "metadata": {
  "kernelspec": {
   "display_name": "Python 3 (ipykernel)",
   "language": "python",
   "name": "python3"
  },
  "language_info": {
   "codemirror_mode": {
    "name": "ipython",
    "version": 3
   },
   "file_extension": ".py",
   "mimetype": "text/x-python",
   "name": "python",
   "nbconvert_exporter": "python",
   "pygments_lexer": "ipython3",
   "version": "3.9.6"
  }
 },
 "nbformat": 4,
 "nbformat_minor": 5
}
