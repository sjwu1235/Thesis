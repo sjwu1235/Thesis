{
 "cells": [
  {
   "cell_type": "code",
   "execution_count": 2,
   "id": "3e42c4f7",
   "metadata": {},
   "outputs": [],
   "source": [
    "import pandas as pd\n",
    "from unidecode import unidecode\n",
    "import re\n",
    "from datetime import date"
   ]
  },
  {
   "cell_type": "code",
   "execution_count": 3,
   "id": "f12bc1f5",
   "metadata": {},
   "outputs": [],
   "source": [
    "res_eq_1=pd.read_csv(\"C:\\\\Users\\\\sjwu1\\\\Downloads\\\\eq results\\\\res_eq_200_results.csv\")\n",
    "aer_eq_1=pd.read_csv(\"C:\\\\Users\\\\sjwu1\\\\Downloads\\\\eq results\\\\aer_eq_200_results.csv\")\n",
    "jpe_eq_1=pd.read_csv(\"C:\\\\Users\\\\sjwu1\\\\Downloads\\\\eq results\\\\jpe_eq_200_results.csv\")\n",
    "qje_eq_1=pd.read_csv(\"C:\\\\Users\\\\sjwu1\\\\Downloads\\\\eq results\\\\qje_eq_200_1_results.csv\")\n",
    "qje_eq_2=pd.read_csv(\"C:\\\\Users\\\\sjwu1\\\\Downloads\\\\eq results\\\\qje_eq_200_2_results.csv\")\n",
    "ecta_eq_1=pd.read_csv(\"C:\\\\Users\\\\sjwu1\\\\Downloads\\\\eq results\\\\ecta_eq_200_1_results.csv\")\n",
    "ecta_eq_2=pd.read_csv(\"C:\\\\Users\\\\sjwu1\\\\Downloads\\\\eq results\\\\ecta_eq_200_2_results.csv\")\n",
    "\n",
    "All_e=pd.concat([ecta_eq_1, ecta_eq_2, res_eq_1, jpe_eq_1, qje_eq_1, qje_eq_2, aer_eq_1], ignore_index=True)"
   ]
  },
  {
   "cell_type": "code",
   "execution_count": 4,
   "id": "fd567d5e",
   "metadata": {},
   "outputs": [],
   "source": [
    "lst=['HITTypeId',\n",
    "'Title',\n",
    "'Description',\n",
    "'Keywords',\n",
    "'Reward',\n",
    "'CreationTime',\n",
    "'MaxAssignments',\n",
    "'RequesterAnnotation',\n",
    "'AssignmentDurationInSeconds',\n",
    "'AutoApprovalDelayInSeconds',\n",
    "'Expiration',\n",
    "'NumberOfSimilarHITs',\n",
    "'LifetimeInSeconds',\n",
    "'AssignmentId',\n",
    "'AssignmentStatus',\n",
    "'AcceptTime',\n",
    "'AutoApprovalTime',\n",
    "'ApprovalTime',\n",
    "'LifetimeApprovalRate',\n",
    "'Last30DaysApprovalRate',\n",
    "'Last7DaysApprovalRate', \n",
    "'Input.footnote',\n",
    "'Input.references1', \n",
    "'Input.references2', \n",
    "'Input.appendix',\n",
    "'Input.equations', \n",
    "'Input.tables', \n",
    "'Input.figures', \n",
    "'HITId', \n",
    "'WorkerId', \n",
    "'SubmitTime', \n",
    "'Approve', \n",
    "'WorkTimeInSeconds',\n",
    "'Reject',\n",
    "'RequesterFeedback']\n",
    "\n",
    "All_e=All_e.drop(lst, axis=1)\n",
    "\n"
   ]
  },
  {
   "cell_type": "code",
   "execution_count": 5,
   "id": "89f617be",
   "metadata": {},
   "outputs": [],
   "source": [
    "All_e=All_e[All_e['RejectionTime'].isna()==True]\n",
    "All_e=All_e.drop(['RejectionTime'], axis=1)"
   ]
  },
  {
   "cell_type": "code",
   "execution_count": 6,
   "id": "04691391",
   "metadata": {},
   "outputs": [
    {
     "data": {
      "text/plain": [
       "Index(['Input.pdf_url', 'Input.year', 'Input.journal', 'Input.Answer',\n",
       "       'Input.id', 'Input.page', 'Answer.Eq_count', 'Answer.Equal_count',\n",
       "       'Answer.Equiv_count', 'Answer.g_count', 'Answer.l_count'],\n",
       "      dtype='object')"
      ]
     },
     "execution_count": 6,
     "metadata": {},
     "output_type": "execute_result"
    }
   ],
   "source": [
    "All_e.columns"
   ]
  },
  {
   "cell_type": "code",
   "execution_count": 7,
   "id": "8dd601c1",
   "metadata": {},
   "outputs": [],
   "source": [
    "new_names={\n",
    "    'Input.pdf_url': 'pdf_url', \n",
    "    'Input.year': 'year', \n",
    "    'Input.journal': 'journal', \n",
    "    'Input.Answer': 'Answer',\n",
    "    'Input.id': \"ID\", \n",
    "    'Input.page': \"page\", \n",
    "    'Answer.Eq_count': 'Eq_count', \n",
    "    'Answer.Equal_count': 'Equal_count',\n",
    "    'Answer.Equiv_count': 'Equiv_count', \n",
    "    'Answer.g_count': 'g_count', \n",
    "    'Answer.l_count': 'l_count'\n",
    "}\n",
    "All_e.rename(columns=new_names, inplace=True)"
   ]
  },
  {
   "cell_type": "code",
   "execution_count": 9,
   "id": "8ecc52a8",
   "metadata": {},
   "outputs": [
    {
     "data": {
      "text/plain": [
       "array(['ECONOMETRICA', 'Review of Economic Studies', 'JPE', 'QJE', 'AER',\n",
       "       'American Economic Review'], dtype=object)"
      ]
     },
     "execution_count": 9,
     "metadata": {},
     "output_type": "execute_result"
    }
   ],
   "source": [
    "All_e.journal.unique()"
   ]
  },
  {
   "cell_type": "code",
   "execution_count": 14,
   "id": "b6e76680",
   "metadata": {},
   "outputs": [],
   "source": [
    "All_e.loc[All_e[\"journal\"]=='American Economic Review', 'journal']=\"AER\"\n",
    "All_e.loc[All_e[\"journal\"]=='Review of Economic Studies','journal']=\"RES\""
   ]
  },
  {
   "cell_type": "code",
   "execution_count": 15,
   "id": "866d1c2e",
   "metadata": {},
   "outputs": [
    {
     "data": {
      "text/plain": [
       "array(['ECONOMETRICA', 'RES', 'JPE', 'QJE', 'AER'], dtype=object)"
      ]
     },
     "execution_count": 15,
     "metadata": {},
     "output_type": "execute_result"
    }
   ],
   "source": [
    "All_e.journal.unique()"
   ]
  },
  {
   "cell_type": "code",
   "execution_count": 17,
   "id": "e391be5f",
   "metadata": {},
   "outputs": [],
   "source": [
    "All_e.to_csv(\"equation_counts.csv\", index=False)"
   ]
  },
  {
   "cell_type": "code",
   "execution_count": 18,
   "id": "afea499d",
   "metadata": {},
   "outputs": [
    {
     "data": {
      "text/html": [
       "<div>\n",
       "<style scoped>\n",
       "    .dataframe tbody tr th:only-of-type {\n",
       "        vertical-align: middle;\n",
       "    }\n",
       "\n",
       "    .dataframe tbody tr th {\n",
       "        vertical-align: top;\n",
       "    }\n",
       "\n",
       "    .dataframe thead th {\n",
       "        text-align: right;\n",
       "    }\n",
       "</style>\n",
       "<table border=\"1\" class=\"dataframe\">\n",
       "  <thead>\n",
       "    <tr style=\"text-align: right;\">\n",
       "      <th></th>\n",
       "      <th>pdf_url</th>\n",
       "      <th>year</th>\n",
       "      <th>journal</th>\n",
       "      <th>Answer</th>\n",
       "      <th>ID</th>\n",
       "      <th>page</th>\n",
       "      <th>Eq_count</th>\n",
       "      <th>Equal_count</th>\n",
       "      <th>Equiv_count</th>\n",
       "      <th>g_count</th>\n",
       "      <th>l_count</th>\n",
       "    </tr>\n",
       "  </thead>\n",
       "  <tbody>\n",
       "    <tr>\n",
       "      <th>0</th>\n",
       "      <td>'https://myawsbucket-1231.s3.eu-west-3.amazona...</td>\n",
       "      <td>1954</td>\n",
       "      <td>ECONOMETRICA</td>\n",
       "      <td>te1</td>\n",
       "      <td>1907361</td>\n",
       "      <td>17</td>\n",
       "      <td>3</td>\n",
       "      <td>0</td>\n",
       "      <td>0</td>\n",
       "      <td>2</td>\n",
       "      <td>1</td>\n",
       "    </tr>\n",
       "    <tr>\n",
       "      <th>1</th>\n",
       "      <td>'https://myawsbucket-1231.s3.eu-west-3.amazona...</td>\n",
       "      <td>1958</td>\n",
       "      <td>ECONOMETRICA</td>\n",
       "      <td>0</td>\n",
       "      <td>1907383</td>\n",
       "      <td>1</td>\n",
       "      <td>0</td>\n",
       "      <td>0</td>\n",
       "      <td>0</td>\n",
       "      <td>0</td>\n",
       "      <td>0</td>\n",
       "    </tr>\n",
       "    <tr>\n",
       "      <th>2</th>\n",
       "      <td>'https://myawsbucket-1231.s3.eu-west-3.amazona...</td>\n",
       "      <td>1942</td>\n",
       "      <td>ECONOMETRICA</td>\n",
       "      <td>e1</td>\n",
       "      <td>1907022</td>\n",
       "      <td>10</td>\n",
       "      <td>14</td>\n",
       "      <td>8</td>\n",
       "      <td>0</td>\n",
       "      <td>5</td>\n",
       "      <td>3</td>\n",
       "    </tr>\n",
       "    <tr>\n",
       "      <th>3</th>\n",
       "      <td>'https://myawsbucket-1231.s3.eu-west-3.amazona...</td>\n",
       "      <td>1959</td>\n",
       "      <td>ECONOMETRICA</td>\n",
       "      <td>t</td>\n",
       "      <td>1909467</td>\n",
       "      <td>17</td>\n",
       "      <td>0</td>\n",
       "      <td>0</td>\n",
       "      <td>0</td>\n",
       "      <td>0</td>\n",
       "      <td>0</td>\n",
       "    </tr>\n",
       "    <tr>\n",
       "      <th>4</th>\n",
       "      <td>'https://myawsbucket-1231.s3.eu-west-3.amazona...</td>\n",
       "      <td>1961</td>\n",
       "      <td>ECONOMETRICA</td>\n",
       "      <td>e</td>\n",
       "      <td>1909291</td>\n",
       "      <td>8</td>\n",
       "      <td>6</td>\n",
       "      <td>6</td>\n",
       "      <td>0</td>\n",
       "      <td>0</td>\n",
       "      <td>0</td>\n",
       "    </tr>\n",
       "  </tbody>\n",
       "</table>\n",
       "</div>"
      ],
      "text/plain": [
       "                                             pdf_url  year       journal  \\\n",
       "0  'https://myawsbucket-1231.s3.eu-west-3.amazona...  1954  ECONOMETRICA   \n",
       "1  'https://myawsbucket-1231.s3.eu-west-3.amazona...  1958  ECONOMETRICA   \n",
       "2  'https://myawsbucket-1231.s3.eu-west-3.amazona...  1942  ECONOMETRICA   \n",
       "3  'https://myawsbucket-1231.s3.eu-west-3.amazona...  1959  ECONOMETRICA   \n",
       "4  'https://myawsbucket-1231.s3.eu-west-3.amazona...  1961  ECONOMETRICA   \n",
       "\n",
       "  Answer       ID  page  Eq_count  Equal_count  Equiv_count  g_count  l_count  \n",
       "0    te1  1907361    17         3            0            0        2        1  \n",
       "1      0  1907383     1         0            0            0        0        0  \n",
       "2     e1  1907022    10        14            8            0        5        3  \n",
       "3      t  1909467    17         0            0            0        0        0  \n",
       "4      e  1909291     8         6            6            0        0        0  "
      ]
     },
     "execution_count": 18,
     "metadata": {},
     "output_type": "execute_result"
    }
   ],
   "source": [
    "All_e.head()"
   ]
  },
  {
   "cell_type": "code",
   "execution_count": null,
   "id": "bb2c6dab",
   "metadata": {},
   "outputs": [],
   "source": []
  }
 ],
 "metadata": {
  "kernelspec": {
   "display_name": "env",
   "language": "python",
   "name": "env"
  },
  "language_info": {
   "codemirror_mode": {
    "name": "ipython",
    "version": 3
   },
   "file_extension": ".py",
   "mimetype": "text/x-python",
   "name": "python",
   "nbconvert_exporter": "python",
   "pygments_lexer": "ipython3",
   "version": "3.10.5"
  }
 },
 "nbformat": 4,
 "nbformat_minor": 5
}
