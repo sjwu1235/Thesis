{
 "cells": [
  {
   "cell_type": "markdown",
   "id": "78ad3a46",
   "metadata": {},
   "source": [
    "# Mturk Pre-processing\n",
    "\n",
    "\n",
    "Stage: \n",
    "Input: \n",
    "Output:"
   ]
  },
  {
   "cell_type": "code",
   "execution_count": null,
   "id": "81adac2d",
   "metadata": {},
   "outputs": [],
   "source": [
    "import pandas as pd\n",
    "path='D:\\\\docs\\\\Masters\\\\Data\\\\'"
   ]
  },
  {
   "cell_type": "code",
   "execution_count": 47,
   "id": "e45843bc",
   "metadata": {},
   "outputs": [
    {
     "data": {
      "text/plain": [
       "array(['ECONOMETRICA'], dtype=object)"
      ]
     },
     "execution_count": 47,
     "metadata": {},
     "output_type": "execute_result"
    }
   ],
   "source": [
    "jpe=pd.read_csv(\"JPE_1940_1965.csv\").fillna('0')\n",
    "jpe['id']=jpe['id'].astype(str)\n",
    "aer=pd.read_csv(\"aer_1940_1960.csv\").fillna('0')\n",
    "aer['id']=aer['id'].astype(str)\n",
    "aer['journal']=aer['journal'].str.replace('JPE','American Economic Review')\n",
    "res=pd.read_csv(\"res_1940_1971.csv\").fillna('0')\n",
    "res['id']=res['id'].astype(str)\n",
    "res['journal']=res['journal'].str.replace('JPE','Review of Economic Studies')\n",
    "qje=pd.read_csv(\"qje_1940_1976.csv\").fillna('0')\n",
    "qje['id']=qje['id'].astype(str)\n",
    "qje['journal']=qje['journal'].str.replace('JPE','QJE')\n",
    "ecta=pd.read_csv(\"ecta_1940_1965.csv\").fillna('0')\n",
    "ecta['id']=ecta['id'].astype(str)\n",
    "ecta['journal']=ecta['journal'].str.replace('JPE','ECONOMETRICA')\n",
    "ecta['journal'].unique()"
   ]
  },
  {
   "cell_type": "code",
   "execution_count": 48,
   "id": "6d80547e",
   "metadata": {},
   "outputs": [
    {
     "data": {
      "text/plain": [
       "array(['0', '1', 't', '1e', 'e', '1t', '3', 't1', '13', 'f', '1f', 'ef',\n",
       "       'et', 'e1', 'e3', '31', 'te', 'ae', 'ea3', 'te1', 't1e', 't3',\n",
       "       'ef1', 'et1', 'a3e', 'f1e', 'f1', 'ta', '1a', 'aet', 'r1', '1te',\n",
       "       'a1', 'ft', 'e1f', '1et', '1ef', 'fe', '1fe', 'ea', 'a', 'at',\n",
       "       'ate', '1at', '1ft', '1tf', '11', 'r', '1etf', 'tf1', 'tf', 'a3',\n",
       "       '3t', 'f3', 'ae3', '3e', '3e1', '31e', 'afe', 'fe1', 'ae1', '3ae',\n",
       "       'af', 'g1', '1ae', '1g', '1ea', '1e1e'], dtype=object)"
      ]
     },
     "execution_count": 48,
     "metadata": {},
     "output_type": "execute_result"
    }
   ],
   "source": [
    "aer.Answer.unique()"
   ]
  },
  {
   "cell_type": "code",
   "execution_count": null,
   "id": "9929f9b8",
   "metadata": {},
   "outputs": [],
   "source": []
  },
  {
   "cell_type": "code",
   "execution_count": 2,
   "id": "c7f95eff",
   "metadata": {},
   "outputs": [],
   "source": [
    "JOURNALS= ['AER', 'JPE', 'ECTA', 'RES', 'QJE']\n",
    "#read in all processed masterlists\n",
    "all_pages=pd.DataFrame()\n",
    "for i in JOURNALS:\n",
    "    all_pages=pd.concat([pd.read_csv(path+\"csv files\\\\\"+i.lower()+\"_refs_all.csv\"),all_pages], ignore_index=True)\n",
    "\n",
    "#Create a batch file\n",
    "all_pages=all_pages[all_pages.duplicated()==False].reset_index().drop('index', axis=1)\n",
    "all_pages['id']=all_pages['pdf_url'].str.split('/').str[-1].str.split('_').str[0]\n",
    "all_pages['page']=all_pages['pdf_url'].str.split('/').str[-1].str.split('-').str[-1].str.split('.').str[0].astype(int)\n",
    "all_pages['journal']=all_pages['pdf_url'].str.split('/').str[-2].str.split('_').str[0]"
   ]
  },
  {
   "cell_type": "code",
   "execution_count": 3,
   "id": "49179ec6",
   "metadata": {},
   "outputs": [],
   "source": [
    "\n",
    "def process(proc):\n",
    "    proc['footnote']=proc['Answer'].str.contains('1').astype(int)\n",
    "    proc['references1']=proc['Answer'].str.contains('3').astype(int)\n",
    "    proc['references2']=proc['Answer'].str.contains('r').astype(int)\n",
    "    proc['appendix']=proc['Answer'].str.contains('a').astype(int)\n",
    "    proc['equations']=proc['Answer'].str.contains('e').astype(int)\n",
    "    proc['tables']=proc['Answer'].str.contains('t').astype(int)\n",
    "    proc['figures']=proc['Answer'].str.contains('f').astype(int)"
   ]
  },
  {
   "cell_type": "code",
   "execution_count": 4,
   "id": "bdddb878",
   "metadata": {},
   "outputs": [
    {
     "data": {
      "text/plain": [
       "1909391"
      ]
     },
     "execution_count": 4,
     "metadata": {},
     "output_type": "execute_result"
    }
   ],
   "source": [
    "1909391\n"
   ]
  },
  {
   "cell_type": "code",
   "execution_count": 5,
   "id": "040398bb",
   "metadata": {},
   "outputs": [
    {
     "ename": "NameError",
     "evalue": "name 'aer_fn' is not defined",
     "output_type": "error",
     "traceback": [
      "\u001b[1;31m---------------------------------------------------------------------------\u001b[0m",
      "\u001b[1;31mNameError\u001b[0m                                 Traceback (most recent call last)",
      "Input \u001b[1;32mIn [5]\u001b[0m, in \u001b[0;36m<cell line: 1>\u001b[1;34m()\u001b[0m\n\u001b[1;32m----> 1\u001b[0m \u001b[43maer_fn\u001b[49m\u001b[38;5;241m.\u001b[39mshape\n",
      "\u001b[1;31mNameError\u001b[0m: name 'aer_fn' is not defined"
     ]
    }
   ],
   "source": [
    "aer_fn.shape"
   ]
  },
  {
   "cell_type": "code",
   "execution_count": 50,
   "id": "a85111a7",
   "metadata": {},
   "outputs": [],
   "source": [
    "aer\n",
    "process(aer)\n",
    "Reference_section=aer[(aer[\"references1\"]==1)|aer[\"references2\"]==1]\n",
    "Ref_sec_list=list(Reference_section[\"pdf_url\"].str.split('/').str[-1].str.split('_').str[0].unique())\n",
    "aer_fn=aer[(aer['id'].isin(Ref_sec_list)==False)&(aer[\"footnote\"]==1)]\n",
    "aer_e=aer[(aer[\"equations\"]==1)]\n",
    "aer_f=aer[(aer[\"figures\"]==1)]\n",
    "aer_t=aer[(aer[\"tables\"]==1)]"
   ]
  },
  {
   "cell_type": "code",
   "execution_count": 74,
   "id": "ffa15177",
   "metadata": {},
   "outputs": [],
   "source": [
    "jpe\n",
    "process(jpe)\n",
    "Reference_section=jpe[(jpe[\"references1\"]==1)|(jpe[\"references2\"]==1)]\n",
    "Ref_sec_list=list(Reference_section[\"pdf_url\"].str.split('/').str[-1].str.split('_').str[0].unique())\n",
    "jpe_fn=jpe[(jpe['id'].isin(Ref_sec_list)==False)&(jpe[\"footnote\"]==1)]\n",
    "jpe_e=jpe[(jpe[\"equations\"]==1)]\n",
    "jpe_f=jpe[(jpe[\"figures\"]==1)]\n",
    "jpe_t=jpe[(jpe[\"tables\"]==1)]"
   ]
  },
  {
   "cell_type": "code",
   "execution_count": 75,
   "id": "ecb78a1b",
   "metadata": {},
   "outputs": [],
   "source": [
    "res\n",
    "process(res)\n",
    "Reference_section=res[(res[\"references1\"]==1)|(res[\"references2\"]==1)]\n",
    "Ref_sec_list=list(Reference_section[\"pdf_url\"].str.split('/').str[-1].str.split('_').str[0].unique())\n",
    "res_fn=res[(res['id'].isin(Ref_sec_list)==False)&(res[\"footnote\"]==1)]\n",
    "res_e=res[(res[\"equations\"]==1)]\n",
    "res_f=res[(res[\"figures\"]==1)]\n",
    "res_t=res[(res[\"tables\"]==1)]"
   ]
  },
  {
   "cell_type": "code",
   "execution_count": 76,
   "id": "f446458f",
   "metadata": {},
   "outputs": [],
   "source": [
    "ecta\n",
    "process(ecta)\n",
    "Reference_section=ecta[(ecta[\"references1\"]==1)|(ecta[\"references2\"]==1)]\n",
    "Ref_sec_list=list(Reference_section[\"pdf_url\"].str.split('/').str[-1].str.split('_').str[0].unique())\n",
    "ecta_fn=ecta[(ecta['id'].isin(Ref_sec_list)==False)&(ecta[\"footnote\"]==1)]\n",
    "ecta_e=ecta[(ecta[\"equations\"]==1)]\n",
    "ecta_f=ecta[(ecta[\"figures\"]==1)]\n",
    "ecta_t=ecta[(ecta[\"tables\"]==1)]"
   ]
  },
  {
   "cell_type": "code",
   "execution_count": 164,
   "id": "3d8d3105",
   "metadata": {},
   "outputs": [],
   "source": [
    "qje\n",
    "process(qje)\n",
    "Reference_section=qje[(qje[\"references1\"]==1)|(qje[\"references2\"]==1)]\n",
    "Ref_sec_list=list(Reference_section[\"pdf_url\"].str.split('/').str[-1].str.split('_').str[0].unique())\n",
    "qje_fn=qje[(qje['id'].isin(Ref_sec_list)==False)&(qje[\"footnote\"]==1)]\n",
    "qje_e=qje[(qje[\"equations\"]==1)]\n",
    "qje_f=qje[(qje[\"figures\"]==1)]\n",
    "qje_t=qje[(qje[\"tables\"]==1)]"
   ]
  },
  {
   "cell_type": "markdown",
   "id": "028d33b8",
   "metadata": {},
   "source": [
    "## Summary Statistics"
   ]
  },
  {
   "cell_type": "code",
   "execution_count": 78,
   "id": "160ea76f",
   "metadata": {},
   "outputs": [],
   "source": [
    "total=aer.shape[0]+jpe.shape[0]+ecta.shape[0]+res.shape[0]+qje.shape[0]"
   ]
  },
  {
   "cell_type": "code",
   "execution_count": 79,
   "id": "49504391",
   "metadata": {},
   "outputs": [
    {
     "data": {
      "text/plain": [
       "0.5215826451374338"
      ]
     },
     "execution_count": 79,
     "metadata": {},
     "output_type": "execute_result"
    }
   ],
   "source": [
    "footnote=ecta_fn.shape[0]+aer_fn.shape[0]+jpe_fn.shape[0]+res_fn.shape[0]+qje_fn.shape[0]\n",
    "footnote/total"
   ]
  },
  {
   "cell_type": "code",
   "execution_count": 80,
   "id": "1ef38148",
   "metadata": {},
   "outputs": [
    {
     "data": {
      "text/plain": [
       "2501"
      ]
     },
     "execution_count": 80,
     "metadata": {},
     "output_type": "execute_result"
    }
   ],
   "source": [
    "res_fn.shape[0]"
   ]
  },
  {
   "cell_type": "code",
   "execution_count": 81,
   "id": "a10a8f72",
   "metadata": {},
   "outputs": [
    {
     "data": {
      "text/plain": [
       "0.05904104523604092"
      ]
     },
     "execution_count": 81,
     "metadata": {},
     "output_type": "execute_result"
    }
   ],
   "source": [
    "figure=aer_f.shape[0]+jpe_f.shape[0]+res_f.shape[0]+ecta_f.shape[0]+qje_f.shape[0]\n",
    "figure/total"
   ]
  },
  {
   "cell_type": "code",
   "execution_count": 82,
   "id": "bce165ae",
   "metadata": {},
   "outputs": [
    {
     "data": {
      "text/plain": [
       "0.23165290274867498"
      ]
     },
     "execution_count": 82,
     "metadata": {},
     "output_type": "execute_result"
    }
   ],
   "source": [
    "equations=aer_e.shape[0]+jpe_e.shape[0]+res_e.shape[0]+ecta_e.shape[0]+qje_e.shape[0]\n",
    "equations/total"
   ]
  },
  {
   "cell_type": "code",
   "execution_count": 83,
   "id": "8e5eeb99",
   "metadata": {},
   "outputs": [
    {
     "data": {
      "text/plain": [
       "0.08274374460742019"
      ]
     },
     "execution_count": 83,
     "metadata": {},
     "output_type": "execute_result"
    }
   ],
   "source": [
    "table=aer_t.shape[0]+jpe_t.shape[0]+res_t.shape[0]+ecta_t.shape[0]+qje_t.shape[0]\n",
    "table/total"
   ]
  },
  {
   "cell_type": "code",
   "execution_count": 84,
   "id": "2f462780",
   "metadata": {},
   "outputs": [
    {
     "data": {
      "text/plain": [
       "705.2666666666667"
      ]
     },
     "execution_count": 84,
     "metadata": {},
     "output_type": "execute_result"
    }
   ],
   "source": [
    "footnote*60/3600"
   ]
  },
  {
   "cell_type": "code",
   "execution_count": 85,
   "id": "a7f68828",
   "metadata": {},
   "outputs": [
    {
     "data": {
      "text/plain": [
       "9.323611111111111"
      ]
     },
     "execution_count": 85,
     "metadata": {},
     "output_type": "execute_result"
    }
   ],
   "source": [
    "table*5/3600"
   ]
  },
  {
   "cell_type": "code",
   "execution_count": 165,
   "id": "3883397e",
   "metadata": {},
   "outputs": [
    {
     "data": {
      "text/html": [
       "<div>\n",
       "<style scoped>\n",
       "    .dataframe tbody tr th:only-of-type {\n",
       "        vertical-align: middle;\n",
       "    }\n",
       "\n",
       "    .dataframe tbody tr th {\n",
       "        vertical-align: top;\n",
       "    }\n",
       "\n",
       "    .dataframe thead th {\n",
       "        text-align: right;\n",
       "    }\n",
       "</style>\n",
       "<table border=\"1\" class=\"dataframe\">\n",
       "  <thead>\n",
       "    <tr style=\"text-align: right;\">\n",
       "      <th></th>\n",
       "      <th>pdf_url</th>\n",
       "      <th>year</th>\n",
       "      <th>journal</th>\n",
       "      <th>Answer</th>\n",
       "      <th>id</th>\n",
       "      <th>page</th>\n",
       "      <th>footnote</th>\n",
       "      <th>references1</th>\n",
       "      <th>references2</th>\n",
       "      <th>appendix</th>\n",
       "      <th>equations</th>\n",
       "      <th>tables</th>\n",
       "      <th>figures</th>\n",
       "    </tr>\n",
       "  </thead>\n",
       "  <tbody>\n",
       "    <tr>\n",
       "      <th>20</th>\n",
       "      <td>'https://myawsbucket-1231.s3.eu-west-3.amazona...</td>\n",
       "      <td>1976</td>\n",
       "      <td>QJE</td>\n",
       "      <td>1e</td>\n",
       "      <td>1884629</td>\n",
       "      <td>5</td>\n",
       "      <td>1</td>\n",
       "      <td>0</td>\n",
       "      <td>0</td>\n",
       "      <td>0</td>\n",
       "      <td>1</td>\n",
       "      <td>0</td>\n",
       "      <td>0</td>\n",
       "    </tr>\n",
       "    <tr>\n",
       "      <th>21</th>\n",
       "      <td>'https://myawsbucket-1231.s3.eu-west-3.amazona...</td>\n",
       "      <td>1976</td>\n",
       "      <td>QJE</td>\n",
       "      <td>e</td>\n",
       "      <td>1884629</td>\n",
       "      <td>6</td>\n",
       "      <td>0</td>\n",
       "      <td>0</td>\n",
       "      <td>0</td>\n",
       "      <td>0</td>\n",
       "      <td>1</td>\n",
       "      <td>0</td>\n",
       "      <td>0</td>\n",
       "    </tr>\n",
       "    <tr>\n",
       "      <th>22</th>\n",
       "      <td>'https://myawsbucket-1231.s3.eu-west-3.amazona...</td>\n",
       "      <td>1976</td>\n",
       "      <td>QJE</td>\n",
       "      <td>e1</td>\n",
       "      <td>1884629</td>\n",
       "      <td>7</td>\n",
       "      <td>1</td>\n",
       "      <td>0</td>\n",
       "      <td>0</td>\n",
       "      <td>0</td>\n",
       "      <td>1</td>\n",
       "      <td>0</td>\n",
       "      <td>0</td>\n",
       "    </tr>\n",
       "    <tr>\n",
       "      <th>23</th>\n",
       "      <td>'https://myawsbucket-1231.s3.eu-west-3.amazona...</td>\n",
       "      <td>1976</td>\n",
       "      <td>QJE</td>\n",
       "      <td>1e</td>\n",
       "      <td>1884629</td>\n",
       "      <td>8</td>\n",
       "      <td>1</td>\n",
       "      <td>0</td>\n",
       "      <td>0</td>\n",
       "      <td>0</td>\n",
       "      <td>1</td>\n",
       "      <td>0</td>\n",
       "      <td>0</td>\n",
       "    </tr>\n",
       "    <tr>\n",
       "      <th>26</th>\n",
       "      <td>'https://myawsbucket-1231.s3.eu-west-3.amazona...</td>\n",
       "      <td>1976</td>\n",
       "      <td>QJE</td>\n",
       "      <td>1e</td>\n",
       "      <td>1885319</td>\n",
       "      <td>2</td>\n",
       "      <td>1</td>\n",
       "      <td>0</td>\n",
       "      <td>0</td>\n",
       "      <td>0</td>\n",
       "      <td>1</td>\n",
       "      <td>0</td>\n",
       "      <td>0</td>\n",
       "    </tr>\n",
       "    <tr>\n",
       "      <th>...</th>\n",
       "      <td>...</td>\n",
       "      <td>...</td>\n",
       "      <td>...</td>\n",
       "      <td>...</td>\n",
       "      <td>...</td>\n",
       "      <td>...</td>\n",
       "      <td>...</td>\n",
       "      <td>...</td>\n",
       "      <td>...</td>\n",
       "      <td>...</td>\n",
       "      <td>...</td>\n",
       "      <td>...</td>\n",
       "      <td>...</td>\n",
       "    </tr>\n",
       "    <tr>\n",
       "      <th>24604</th>\n",
       "      <td>'https://myawsbucket-1231.s3.eu-west-3.amazona...</td>\n",
       "      <td>1940</td>\n",
       "      <td>QJE</td>\n",
       "      <td>e</td>\n",
       "      <td>1882449</td>\n",
       "      <td>13</td>\n",
       "      <td>0</td>\n",
       "      <td>0</td>\n",
       "      <td>0</td>\n",
       "      <td>0</td>\n",
       "      <td>1</td>\n",
       "      <td>0</td>\n",
       "      <td>0</td>\n",
       "    </tr>\n",
       "    <tr>\n",
       "      <th>24606</th>\n",
       "      <td>'https://myawsbucket-1231.s3.eu-west-3.amazona...</td>\n",
       "      <td>1940</td>\n",
       "      <td>QJE</td>\n",
       "      <td>1e</td>\n",
       "      <td>1882449</td>\n",
       "      <td>15</td>\n",
       "      <td>1</td>\n",
       "      <td>0</td>\n",
       "      <td>0</td>\n",
       "      <td>0</td>\n",
       "      <td>1</td>\n",
       "      <td>0</td>\n",
       "      <td>0</td>\n",
       "    </tr>\n",
       "    <tr>\n",
       "      <th>24608</th>\n",
       "      <td>'https://myawsbucket-1231.s3.eu-west-3.amazona...</td>\n",
       "      <td>1940</td>\n",
       "      <td>QJE</td>\n",
       "      <td>1e</td>\n",
       "      <td>1882449</td>\n",
       "      <td>17</td>\n",
       "      <td>1</td>\n",
       "      <td>0</td>\n",
       "      <td>0</td>\n",
       "      <td>0</td>\n",
       "      <td>1</td>\n",
       "      <td>0</td>\n",
       "      <td>0</td>\n",
       "    </tr>\n",
       "    <tr>\n",
       "      <th>24638</th>\n",
       "      <td>'https://myawsbucket-1231.s3.eu-west-3.amazona...</td>\n",
       "      <td>1940</td>\n",
       "      <td>QJE</td>\n",
       "      <td>1e</td>\n",
       "      <td>1881672</td>\n",
       "      <td>3</td>\n",
       "      <td>1</td>\n",
       "      <td>0</td>\n",
       "      <td>0</td>\n",
       "      <td>0</td>\n",
       "      <td>1</td>\n",
       "      <td>0</td>\n",
       "      <td>0</td>\n",
       "    </tr>\n",
       "    <tr>\n",
       "      <th>24639</th>\n",
       "      <td>'https://myawsbucket-1231.s3.eu-west-3.amazona...</td>\n",
       "      <td>1940</td>\n",
       "      <td>QJE</td>\n",
       "      <td>1e</td>\n",
       "      <td>1881672</td>\n",
       "      <td>4</td>\n",
       "      <td>1</td>\n",
       "      <td>0</td>\n",
       "      <td>0</td>\n",
       "      <td>0</td>\n",
       "      <td>1</td>\n",
       "      <td>0</td>\n",
       "      <td>0</td>\n",
       "    </tr>\n",
       "  </tbody>\n",
       "</table>\n",
       "<p>5282 rows × 13 columns</p>\n",
       "</div>"
      ],
      "text/plain": [
       "                                                 pdf_url  year journal Answer  \\\n",
       "20     'https://myawsbucket-1231.s3.eu-west-3.amazona...  1976     QJE     1e   \n",
       "21     'https://myawsbucket-1231.s3.eu-west-3.amazona...  1976     QJE      e   \n",
       "22     'https://myawsbucket-1231.s3.eu-west-3.amazona...  1976     QJE     e1   \n",
       "23     'https://myawsbucket-1231.s3.eu-west-3.amazona...  1976     QJE     1e   \n",
       "26     'https://myawsbucket-1231.s3.eu-west-3.amazona...  1976     QJE     1e   \n",
       "...                                                  ...   ...     ...    ...   \n",
       "24604  'https://myawsbucket-1231.s3.eu-west-3.amazona...  1940     QJE      e   \n",
       "24606  'https://myawsbucket-1231.s3.eu-west-3.amazona...  1940     QJE     1e   \n",
       "24608  'https://myawsbucket-1231.s3.eu-west-3.amazona...  1940     QJE     1e   \n",
       "24638  'https://myawsbucket-1231.s3.eu-west-3.amazona...  1940     QJE     1e   \n",
       "24639  'https://myawsbucket-1231.s3.eu-west-3.amazona...  1940     QJE     1e   \n",
       "\n",
       "            id  page  footnote  references1  references2  appendix  equations  \\\n",
       "20     1884629     5         1            0            0         0          1   \n",
       "21     1884629     6         0            0            0         0          1   \n",
       "22     1884629     7         1            0            0         0          1   \n",
       "23     1884629     8         1            0            0         0          1   \n",
       "26     1885319     2         1            0            0         0          1   \n",
       "...        ...   ...       ...          ...          ...       ...        ...   \n",
       "24604  1882449    13         0            0            0         0          1   \n",
       "24606  1882449    15         1            0            0         0          1   \n",
       "24608  1882449    17         1            0            0         0          1   \n",
       "24638  1881672     3         1            0            0         0          1   \n",
       "24639  1881672     4         1            0            0         0          1   \n",
       "\n",
       "       tables  figures  \n",
       "20          0        0  \n",
       "21          0        0  \n",
       "22          0        0  \n",
       "23          0        0  \n",
       "26          0        0  \n",
       "...       ...      ...  \n",
       "24604       0        0  \n",
       "24606       0        0  \n",
       "24608       0        0  \n",
       "24638       0        0  \n",
       "24639       0        0  \n",
       "\n",
       "[5282 rows x 13 columns]"
      ]
     },
     "execution_count": 165,
     "metadata": {},
     "output_type": "execute_result"
    }
   ],
   "source": [
    "qje_e"
   ]
  },
  {
   "cell_type": "code",
   "execution_count": 87,
   "id": "1c237d84",
   "metadata": {},
   "outputs": [],
   "source": [
    "ecta_e.to_csv(\"ecta_eq.csv\")"
   ]
  },
  {
   "cell_type": "code",
   "execution_count": 136,
   "id": "40866ed0",
   "metadata": {},
   "outputs": [
    {
     "data": {
      "text/plain": [
       "(10947, 13)"
      ]
     },
     "execution_count": 136,
     "metadata": {},
     "output_type": "execute_result"
    }
   ],
   "source": [
    "aer_fn.shape"
   ]
  },
  {
   "cell_type": "code",
   "execution_count": 88,
   "id": "a7779c26",
   "metadata": {},
   "outputs": [],
   "source": [
    "qje_e.to_csv(\"qje_eq.csv\")"
   ]
  },
  {
   "cell_type": "code",
   "execution_count": 89,
   "id": "bee979fa",
   "metadata": {},
   "outputs": [],
   "source": [
    "jpe_e.to_csv(\"jpe_eq.csv\")"
   ]
  },
  {
   "cell_type": "code",
   "execution_count": 90,
   "id": "cbb63dab",
   "metadata": {},
   "outputs": [],
   "source": [
    "res_e.to_csv(\"res_eq.csv\")"
   ]
  },
  {
   "cell_type": "code",
   "execution_count": 91,
   "id": "c205b519",
   "metadata": {},
   "outputs": [],
   "source": [
    "aer_e.to_csv(\"aer_eq.csv\")"
   ]
  },
  {
   "cell_type": "code",
   "execution_count": 166,
   "id": "017035f8",
   "metadata": {},
   "outputs": [],
   "source": [
    "ecta_e.sample(n=200, random_state=1).to_csv(\"eq\\\\ecta_eq_200.csv\", index=False)\n",
    "qje_e.sample(n=200, random_state=1).to_csv(\"eq\\\\qje_eq_200.csv\", index=False)\n",
    "res_e.sample(n=200, random_state=1).to_csv(\"eq\\\\res_eq_200.csv\", index=False)\n",
    "aer_e.sample(n=200, random_state=1).to_csv(\"eq\\\\aer_eq_200.csv\", index=False)\n",
    "jpe_e.sample(n=200, random_state=1).to_csv(\"eq\\\\jpe_eq_200.csv\", index=False)"
   ]
  },
  {
   "cell_type": "code",
   "execution_count": null,
   "id": "f7a31696",
   "metadata": {},
   "outputs": [],
   "source": []
  },
  {
   "cell_type": "code",
   "execution_count": 27,
   "id": "fdaec9ed",
   "metadata": {},
   "outputs": [],
   "source": [
    "JOURNALS= ['AER', 'JPE', 'ECTA', 'RES', 'QJE']\n",
    "#read in all processed masterlists\n",
    "All=pd.DataFrame()\n",
    "for i in JOURNALS:\n",
    "    All=pd.concat([pd.read_excel('C:\\\\Users\\\\sjwu1\\\\Journal_Data\\\\datadumps\\\\combined\\\\'+i+'_M_sco_du.xlsx'),All], ignore_index=True)\n",
    "\n",
    "#Create a batch file\n",
    "All=All[All.duplicated()==False].reset_index().drop('index', axis=1)"
   ]
  },
  {
   "cell_type": "code",
   "execution_count": 28,
   "id": "f10cd9b8",
   "metadata": {},
   "outputs": [
    {
     "data": {
      "text/plain": [
       "array(['QJE', 'RES', 'ECONOMETRICA', 'JPE', 'AER'], dtype=object)"
      ]
     },
     "execution_count": 28,
     "metadata": {},
     "output_type": "execute_result"
    }
   ],
   "source": [
    "All.Jstor_journal.unique()"
   ]
  },
  {
   "cell_type": "code",
   "execution_count": 29,
   "id": "58b66008",
   "metadata": {},
   "outputs": [],
   "source": [
    "All['id']=All['stable_url'].str.split('/').str[-1].str.split('.').str[0]\n",
    "reduced=All[['id','Jstor_authors', 'Jstor_title','year','volume','issue']].reset_index().drop('index', axis=1)\n",
    "#pdf_url,year,page,title,authors,vol,issue,journal,ID"
   ]
  },
  {
   "cell_type": "code",
   "execution_count": 73,
   "id": "b7e80ac6",
   "metadata": {},
   "outputs": [],
   "source": [
    "#aer_fn=pd.read_csv(\"aer_ex_none1940_1976.csv\")\n",
    "aer_fn=pd.read_csv(\"qje_ex_none1940_1976.csv\")\n"
   ]
  },
  {
   "cell_type": "code",
   "execution_count": 81,
   "id": "8083d57a",
   "metadata": {},
   "outputs": [],
   "source": [
    "aer_fn.iloc[2515,3]=1"
   ]
  },
  {
   "cell_type": "code",
   "execution_count": 74,
   "id": "90cd3967",
   "metadata": {},
   "outputs": [
    {
     "data": {
      "text/plain": [
       "array([ 1., nan, 11.])"
      ]
     },
     "execution_count": 74,
     "metadata": {},
     "output_type": "execute_result"
    }
   ],
   "source": [
    "aer_fn['Answer'].unique()"
   ]
  },
  {
   "cell_type": "code",
   "execution_count": 83,
   "id": "130bccaf",
   "metadata": {},
   "outputs": [],
   "source": [
    "aer_fn[aer_fn[\"Answer\"]==0]=float('nan')"
   ]
  },
  {
   "cell_type": "code",
   "execution_count": 75,
   "id": "b7f2b826",
   "metadata": {},
   "outputs": [
    {
     "data": {
      "text/plain": [
       "array([ 1., nan, 11.])"
      ]
     },
     "execution_count": 75,
     "metadata": {},
     "output_type": "execute_result"
    }
   ],
   "source": [
    "aer_fn['Answer'].unique()\n"
   ]
  },
  {
   "cell_type": "code",
   "execution_count": 76,
   "id": "54713fd7",
   "metadata": {},
   "outputs": [
    {
     "data": {
      "text/html": [
       "<div>\n",
       "<style scoped>\n",
       "    .dataframe tbody tr th:only-of-type {\n",
       "        vertical-align: middle;\n",
       "    }\n",
       "\n",
       "    .dataframe tbody tr th {\n",
       "        vertical-align: top;\n",
       "    }\n",
       "\n",
       "    .dataframe thead th {\n",
       "        text-align: right;\n",
       "    }\n",
       "</style>\n",
       "<table border=\"1\" class=\"dataframe\">\n",
       "  <thead>\n",
       "    <tr style=\"text-align: right;\">\n",
       "      <th></th>\n",
       "      <th>pdf_url</th>\n",
       "      <th>year</th>\n",
       "      <th>journal</th>\n",
       "      <th>Answer</th>\n",
       "      <th>id</th>\n",
       "      <th>page</th>\n",
       "    </tr>\n",
       "  </thead>\n",
       "  <tbody>\n",
       "  </tbody>\n",
       "</table>\n",
       "</div>"
      ],
      "text/plain": [
       "Empty DataFrame\n",
       "Columns: [pdf_url, year, journal, Answer, id, page]\n",
       "Index: []"
      ]
     },
     "execution_count": 76,
     "metadata": {},
     "output_type": "execute_result"
    }
   ],
   "source": [
    "aer_fn[pd.isna(aer_fn['id'])]"
   ]
  },
  {
   "cell_type": "code",
   "execution_count": 77,
   "id": "97704a6a",
   "metadata": {},
   "outputs": [
    {
     "data": {
      "text/plain": [
       "pdf_url     object\n",
       "year         int64\n",
       "journal     object\n",
       "Answer     float64\n",
       "id           int64\n",
       "page         int64\n",
       "dtype: object"
      ]
     },
     "execution_count": 77,
     "metadata": {},
     "output_type": "execute_result"
    }
   ],
   "source": [
    "aer_fn.shape\n",
    "aer_fn.dtypes"
   ]
  },
  {
   "cell_type": "code",
   "execution_count": 78,
   "id": "e887283e",
   "metadata": {},
   "outputs": [],
   "source": [
    "aer_nones_out=aer_fn[(aer_fn[\"Answer\"]==1)|(aer_fn[\"Answer\"]==11)].reset_index(drop=True)"
   ]
  },
  {
   "cell_type": "code",
   "execution_count": 79,
   "id": "2a8f26f4",
   "metadata": {},
   "outputs": [
    {
     "data": {
      "text/plain": [
       "(9476, 6)"
      ]
     },
     "execution_count": 79,
     "metadata": {},
     "output_type": "execute_result"
    }
   ],
   "source": [
    "aer_nones_out.shape"
   ]
  },
  {
   "cell_type": "code",
   "execution_count": 80,
   "id": "20715400",
   "metadata": {},
   "outputs": [],
   "source": [
    "keep=[\"1882217\",\"1884134\",\"1884249\",\"1880820\", \"1880545\",\n",
    "\"1880544\",\"1883082\",\n",
    "\"1881692\",\"1881862\",\"1884665\",\n",
    "\"1881697\",\"1883827\",\"1882146\",\n",
    "\"1884265\",\"1884234\",\"1885709\",\n",
    "\"1883814\",\"1883816\",\"1884189\",\n",
    "\"1884193\",\"1884187\",\"1882233\",\n",
    "\"1882298\",\"1879449\",\"1880547\",\"1880651\",\n",
    "\"1880587\",\"1880693\",\"1879449\",\n",
    "\"1880691\",\"1882918\",\"1880688\",\"1879587\",\n",
    "\"1882246\",\"1883079\",\"1880535\",\"1880840\",\"1880842\",\"1881838\",\n",
    "\"1882273\",\"1880702\",\"1882043\",\"1880561\",\"1880492\",\"1880799\",\n",
    "\"1880562\",\"1880806\",\"1880800\",\"1882182\",\"1882011\",\"1881793\",\n",
    "\"1882024\",\"1882183\",\"1882183\",\"1881953\",\"1881807\",\"1881823\",\"1881826\",\"1881711\",\"1884704\",\"1884690\",\"1884692\",\"1884695\",\"1886082\",\"1886089\"]\n"
   ]
  },
  {
   "cell_type": "code",
   "execution_count": 81,
   "id": "862be7c6",
   "metadata": {},
   "outputs": [],
   "source": [
    "aer_nones_out['id']=aer_nones_out[\"id\"].astype(int)\n",
    "aer_nones_out['id']=aer_nones_out[\"id\"].astype(str)"
   ]
  },
  {
   "cell_type": "code",
   "execution_count": 82,
   "id": "a2630f40",
   "metadata": {},
   "outputs": [],
   "source": [
    "aer_nones_out_k=aer_nones_out[aer_nones_out['id'].isin(keep)].reset_index(drop=True)"
   ]
  },
  {
   "cell_type": "code",
   "execution_count": 85,
   "id": "012087b5",
   "metadata": {},
   "outputs": [],
   "source": [
    "aer_nones_out_nk=aer_nones_out[aer_nones_out['id'].isin(keep)==False].reset_index(drop=True)"
   ]
  },
  {
   "cell_type": "code",
   "execution_count": 86,
   "id": "316d150d",
   "metadata": {},
   "outputs": [
    {
     "name": "stdout",
     "output_type": "stream",
     "text": [
      "(718, 6)\n",
      "(8758, 6)\n"
     ]
    }
   ],
   "source": [
    "print(aer_nones_out_k.shape)\n",
    "print(aer_nones_out_nk.shape)"
   ]
  },
  {
   "cell_type": "code",
   "execution_count": 90,
   "id": "324ae8b6",
   "metadata": {},
   "outputs": [],
   "source": [
    "out=aer_nones_out_nk.merge(reduced, how='left', on='id')\n",
    "out['Jstor_title']=out['Jstor_title'].replace(\",\",';')\n",
    "out['Jstor_authors']=out['Jstor_authors'].replace(\",\",';')\n",
    "out['issue']=out['issue'].replace(\",\",';')\n",
    "out['volume']=out['volume'].replace(\",\",';')\n",
    "out.columns\n",
    "out[['pdf_url', 'year_x','id', 'page', 'Jstor_authors', 'Jstor_title', 'volume',\n",
    "       'issue']]\n",
    "\n",
    "dict = {'year_x': 'year',\n",
    "        'Jstor_authors': 'authors',\n",
    "       'Jstor_title': 'title',\n",
    "       'volume' : 'vol',\n",
    "       'ID' : 'id'}\n",
    "# call rename () method\n",
    "oout=out.rename(columns=dict)\n",
    "\n"
   ]
  },
  {
   "cell_type": "code",
   "execution_count": 91,
   "id": "421be426",
   "metadata": {},
   "outputs": [],
   "source": [
    "tem=oout[['pdf_url', 'year', 'journal','id', 'page','authors', 'title', 'vol', 'issue']]"
   ]
  },
  {
   "cell_type": "code",
   "execution_count": 92,
   "id": "39d44b77",
   "metadata": {},
   "outputs": [],
   "source": [
    "tem.to_csv('progress_qje_wo_nones_all.csv', encoding=\"UTF-8\", quoting=1, index=False)"
   ]
  },
  {
   "cell_type": "code",
   "execution_count": 93,
   "id": "14d1abc7",
   "metadata": {},
   "outputs": [
    {
     "data": {
      "text/plain": [
       "(8758, 9)"
      ]
     },
     "execution_count": 93,
     "metadata": {},
     "output_type": "execute_result"
    }
   ],
   "source": [
    "tem.head()\n",
    "tem.shape"
   ]
  },
  {
   "cell_type": "code",
   "execution_count": 72,
   "id": "23ef373a",
   "metadata": {},
   "outputs": [
    {
     "data": {
      "text/plain": [
       "Article       31849\n",
       "Review        13639\n",
       "MISC          11126\n",
       "Comment        1363\n",
       "Reply           834\n",
       "Review2         769\n",
       "Discussion      622\n",
       "Rejoinder       152\n",
       "Name: content_type, dtype: int64"
      ]
     },
     "execution_count": 72,
     "metadata": {},
     "output_type": "execute_result"
    }
   ],
   "source": [
    "All['content_type'].value_counts()"
   ]
  },
  {
   "cell_type": "code",
   "execution_count": 161,
   "id": "212b5935",
   "metadata": {},
   "outputs": [
    {
     "data": {
      "text/plain": [
       "15013"
      ]
     },
     "execution_count": 161,
     "metadata": {},
     "output_type": "execute_result"
    }
   ],
   "source": [
    "jpe_fn.shape[0]+ecta_fn.shape[0]+res_fn.shape[0]"
   ]
  },
  {
   "cell_type": "code",
   "execution_count": 163,
   "id": "29044a85",
   "metadata": {},
   "outputs": [
    {
     "data": {
      "text/plain": [
       "10947"
      ]
     },
     "execution_count": 163,
     "metadata": {},
     "output_type": "execute_result"
    }
   ],
   "source": [
    "aer_fn.shape[0]"
   ]
  },
  {
   "cell_type": "code",
   "execution_count": 253,
   "id": "10d2fa51",
   "metadata": {},
   "outputs": [
    {
     "data": {
      "text/plain": [
       "23482"
      ]
     },
     "execution_count": 253,
     "metadata": {},
     "output_type": "execute_result"
    }
   ],
   "source": [
    "X=All[(All['content_type']!='MISC')&(All['content_type']!='Review')&(All['content_type']!='Review2')&(All['year']>=1940)&(All['year']<=2010)]\n",
    "K=All[(All['content_type']==\"Article\")&(All['year']>=1940)&(All['year']<=2010)]\n",
    "len(K['id'].values)"
   ]
  },
  {
   "cell_type": "code",
   "execution_count": 9,
   "id": "9fab8f34",
   "metadata": {},
   "outputs": [],
   "source": [
    "\n",
    "qje_none=pd.read_csv(\"qje_ex_none1940_1976.csv\")"
   ]
  },
  {
   "cell_type": "code",
   "execution_count": 10,
   "id": "18a5cfe3",
   "metadata": {},
   "outputs": [],
   "source": [
    "qje_none=qje_none.fillna(0)"
   ]
  },
  {
   "cell_type": "code",
   "execution_count": 16,
   "id": "af75f34c",
   "metadata": {},
   "outputs": [
    {
     "name": "stdout",
     "output_type": "stream",
     "text": [
      "1741\n",
      "2664\n",
      "4407\n",
      "[ 1.  0. 11.]\n"
     ]
    }
   ],
   "source": [
    "print(sum(qje_none[\"Answer\"]==0.0))\n",
    "print(sum(qje_none[\"Answer\"]==1.0))\n",
    "print(sum(qje_none[\"Answer\"].shape))\n",
    "qje_none[(qje_none[\"Answer\"]==1.0)|(qje_none[\"Answer\"]==11.0)].to_csv(\"without_nones_qje.csv\", index=False)\n",
    "print(qje_none[\"Answer\"].unique())"
   ]
  },
  {
   "cell_type": "code",
   "execution_count": 134,
   "id": "f18f7ff1",
   "metadata": {},
   "outputs": [],
   "source": [
    "a84=pd.read_csv('D:\\\\docs\\\\Masters\\\\Data\\\\aer_refs2.csv')\n",
    "e84=pd.read_csv('D:\\\\docs\\\\Masters\\\\Data\\\\ecta_refs2.csv')\n",
    "j84=pd.read_csv('D:\\\\docs\\\\Masters\\\\Data\\\\jpe_refs2.csv')\n",
    "r84=pd.read_csv('D:\\\\docs\\\\Masters\\\\Data\\\\res_refs2.csv')\n",
    "q84=pd.read_csv('D:\\\\docs\\\\Masters\\\\Data\\\\ecta_refs2.csv')"
   ]
  },
  {
   "cell_type": "code",
   "execution_count": 149,
   "id": "5d3c49d5",
   "metadata": {},
   "outputs": [],
   "source": [
    "list84=[]\n",
    "list84.extend(a84['pdf_url'].str.split('/').str[-1].str.split('_').str[0].unique())\n",
    "list84.extend(e84['pdf_url'].str.split('/').str[-1].str.split('_').str[0].unique())\n",
    "list84.extend(j84['pdf_url'].str.split('/').str[-1].str.split('_').str[0].unique())\n",
    "list84.extend(r84['pdf_url'].str.split('/').str[-1].str.split('_').str[0].unique())\n",
    "list84.extend(q84['pdf_url'].str.split('/').str[-1].str.split('_').str[0].unique())"
   ]
  },
  {
   "cell_type": "code",
   "execution_count": 152,
   "id": "c8046ccf",
   "metadata": {},
   "outputs": [
    {
     "data": {
      "text/plain": [
       "5683"
      ]
     },
     "execution_count": 152,
     "metadata": {},
     "output_type": "execute_result"
    }
   ],
   "source": [
    "len(list84)"
   ]
  },
  {
   "cell_type": "code",
   "execution_count": 155,
   "id": "3fbfcf8e",
   "metadata": {},
   "outputs": [
    {
     "data": {
      "text/plain": [
       "2261"
      ]
     },
     "execution_count": 155,
     "metadata": {},
     "output_type": "execute_result"
    }
   ],
   "source": [
    "len(a84['pdf_url'].str.split('/').str[-1].str.split('_').str[0].unique())"
   ]
  },
  {
   "cell_type": "code",
   "execution_count": 157,
   "id": "ea3f42f3",
   "metadata": {},
   "outputs": [
    {
     "data": {
      "text/plain": [
       "778"
      ]
     },
     "execution_count": 157,
     "metadata": {},
     "output_type": "execute_result"
    }
   ],
   "source": [
    "len(e84['pdf_url'].str.split('/').str[-1].str.split('_').str[0].unique())"
   ]
  },
  {
   "cell_type": "code",
   "execution_count": 158,
   "id": "e91aa92f",
   "metadata": {},
   "outputs": [
    {
     "data": {
      "text/plain": [
       "1078"
      ]
     },
     "execution_count": 158,
     "metadata": {},
     "output_type": "execute_result"
    }
   ],
   "source": [
    "len(j84['pdf_url'].str.split('/').str[-1].str.split('_').str[0].unique())"
   ]
  },
  {
   "cell_type": "code",
   "execution_count": 159,
   "id": "07456b67",
   "metadata": {},
   "outputs": [
    {
     "data": {
      "text/plain": [
       "788"
      ]
     },
     "execution_count": 159,
     "metadata": {},
     "output_type": "execute_result"
    }
   ],
   "source": [
    "len(r84['pdf_url'].str.split('/').str[-1].str.split('_').str[0].unique())"
   ]
  },
  {
   "cell_type": "code",
   "execution_count": 160,
   "id": "e447a722",
   "metadata": {},
   "outputs": [
    {
     "data": {
      "text/plain": [
       "778"
      ]
     },
     "execution_count": 160,
     "metadata": {},
     "output_type": "execute_result"
    }
   ],
   "source": [
    "len(q84['pdf_url'].str.split('/').str[-1].str.split('_').str[0].unique())"
   ]
  },
  {
   "cell_type": "code",
   "execution_count": 204,
   "id": "31fc660b",
   "metadata": {},
   "outputs": [],
   "source": []
  },
  {
   "cell_type": "code",
   "execution_count": 208,
   "id": "ac30b162",
   "metadata": {},
   "outputs": [],
   "source": [
    "all_ids=all_pages['id'].value_counts()"
   ]
  },
  {
   "cell_type": "code",
   "execution_count": 266,
   "id": "e19ecc80",
   "metadata": {},
   "outputs": [
    {
     "data": {
      "text/plain": [
       "4360"
      ]
     },
     "execution_count": 266,
     "metadata": {},
     "output_type": "execute_result"
    }
   ],
   "source": [
    "personal=all_ids[(all_ids<5)|(all_ids>40)].index\n",
    "len(personal)"
   ]
  },
  {
   "cell_type": "code",
   "execution_count": 265,
   "id": "b3008450",
   "metadata": {},
   "outputs": [
    {
     "data": {
      "text/plain": [
       "15.21408892266768"
      ]
     },
     "execution_count": 265,
     "metadata": {},
     "output_type": "execute_result"
    }
   ],
   "source": [
    "sum(all_ids[(all_ids>=5)&(all_ids<=40)])/len(all_ids[(all_ids>=5)&(all_ids<=40)])"
   ]
  },
  {
   "cell_type": "code",
   "execution_count": 264,
   "id": "8396a8cc",
   "metadata": {},
   "outputs": [
    {
     "data": {
      "text/plain": [
       "2846"
      ]
     },
     "execution_count": 264,
     "metadata": {},
     "output_type": "execute_result"
    }
   ],
   "source": [
    "len(personal)-len(set(personal)&set(list84))"
   ]
  },
  {
   "cell_type": "code",
   "execution_count": 250,
   "id": "1ee2e873",
   "metadata": {},
   "outputs": [
    {
     "data": {
      "text/plain": [
       "1524"
      ]
     },
     "execution_count": 250,
     "metadata": {},
     "output_type": "execute_result"
    }
   ],
   "source": [
    "len(set(K['id'].values)&set(personal))"
   ]
  },
  {
   "cell_type": "code",
   "execution_count": 251,
   "id": "6435e00e",
   "metadata": {},
   "outputs": [
    {
     "data": {
      "text/plain": [
       "4211"
      ]
     },
     "execution_count": 251,
     "metadata": {},
     "output_type": "execute_result"
    }
   ],
   "source": [
    "len(set(K['id'].values)&set(list84))"
   ]
  },
  {
   "cell_type": "code",
   "execution_count": 17,
   "id": "66dae075",
   "metadata": {},
   "outputs": [
    {
     "data": {
      "text/html": [
       "<div>\n",
       "<style scoped>\n",
       "    .dataframe tbody tr th:only-of-type {\n",
       "        vertical-align: middle;\n",
       "    }\n",
       "\n",
       "    .dataframe tbody tr th {\n",
       "        vertical-align: top;\n",
       "    }\n",
       "\n",
       "    .dataframe thead th {\n",
       "        text-align: right;\n",
       "    }\n",
       "</style>\n",
       "<table border=\"1\" class=\"dataframe\">\n",
       "  <thead>\n",
       "    <tr style=\"text-align: right;\">\n",
       "      <th></th>\n",
       "      <th>pdf_url</th>\n",
       "      <th>year</th>\n",
       "      <th>journal</th>\n",
       "      <th>Answer</th>\n",
       "      <th>id</th>\n",
       "      <th>page</th>\n",
       "      <th>footnote</th>\n",
       "      <th>references1</th>\n",
       "      <th>references2</th>\n",
       "      <th>appendix</th>\n",
       "      <th>equations</th>\n",
       "      <th>tables</th>\n",
       "      <th>figures</th>\n",
       "    </tr>\n",
       "  </thead>\n",
       "  <tbody>\n",
       "    <tr>\n",
       "      <th>1</th>\n",
       "      <td>'https://myawsbucket-1231.s3.eu-west-3.amazona...</td>\n",
       "      <td>1963</td>\n",
       "      <td>ECONOMETRICA</td>\n",
       "      <td>1e</td>\n",
       "      <td>1909981</td>\n",
       "      <td>1</td>\n",
       "      <td>1</td>\n",
       "      <td>0</td>\n",
       "      <td>0</td>\n",
       "      <td>0</td>\n",
       "      <td>1</td>\n",
       "      <td>0</td>\n",
       "      <td>0</td>\n",
       "    </tr>\n",
       "    <tr>\n",
       "      <th>2</th>\n",
       "      <td>'https://myawsbucket-1231.s3.eu-west-3.amazona...</td>\n",
       "      <td>1963</td>\n",
       "      <td>ECONOMETRICA</td>\n",
       "      <td>1e</td>\n",
       "      <td>1909981</td>\n",
       "      <td>2</td>\n",
       "      <td>1</td>\n",
       "      <td>0</td>\n",
       "      <td>0</td>\n",
       "      <td>0</td>\n",
       "      <td>1</td>\n",
       "      <td>0</td>\n",
       "      <td>0</td>\n",
       "    </tr>\n",
       "    <tr>\n",
       "      <th>3</th>\n",
       "      <td>'https://myawsbucket-1231.s3.eu-west-3.amazona...</td>\n",
       "      <td>1963</td>\n",
       "      <td>ECONOMETRICA</td>\n",
       "      <td>1e</td>\n",
       "      <td>1909981</td>\n",
       "      <td>3</td>\n",
       "      <td>1</td>\n",
       "      <td>0</td>\n",
       "      <td>0</td>\n",
       "      <td>0</td>\n",
       "      <td>1</td>\n",
       "      <td>0</td>\n",
       "      <td>0</td>\n",
       "    </tr>\n",
       "    <tr>\n",
       "      <th>4</th>\n",
       "      <td>'https://myawsbucket-1231.s3.eu-west-3.amazona...</td>\n",
       "      <td>1963</td>\n",
       "      <td>ECONOMETRICA</td>\n",
       "      <td>1e</td>\n",
       "      <td>1909981</td>\n",
       "      <td>4</td>\n",
       "      <td>1</td>\n",
       "      <td>0</td>\n",
       "      <td>0</td>\n",
       "      <td>0</td>\n",
       "      <td>1</td>\n",
       "      <td>0</td>\n",
       "      <td>0</td>\n",
       "    </tr>\n",
       "    <tr>\n",
       "      <th>5</th>\n",
       "      <td>'https://myawsbucket-1231.s3.eu-west-3.amazona...</td>\n",
       "      <td>1963</td>\n",
       "      <td>ECONOMETRICA</td>\n",
       "      <td>1e</td>\n",
       "      <td>1909981</td>\n",
       "      <td>5</td>\n",
       "      <td>1</td>\n",
       "      <td>0</td>\n",
       "      <td>0</td>\n",
       "      <td>0</td>\n",
       "      <td>1</td>\n",
       "      <td>0</td>\n",
       "      <td>0</td>\n",
       "    </tr>\n",
       "    <tr>\n",
       "      <th>...</th>\n",
       "      <td>...</td>\n",
       "      <td>...</td>\n",
       "      <td>...</td>\n",
       "      <td>...</td>\n",
       "      <td>...</td>\n",
       "      <td>...</td>\n",
       "      <td>...</td>\n",
       "      <td>...</td>\n",
       "      <td>...</td>\n",
       "      <td>...</td>\n",
       "      <td>...</td>\n",
       "      <td>...</td>\n",
       "      <td>...</td>\n",
       "    </tr>\n",
       "    <tr>\n",
       "      <th>10306</th>\n",
       "      <td>'https://myawsbucket-1231.s3.eu-west-3.amazona...</td>\n",
       "      <td>1940</td>\n",
       "      <td>ECONOMETRICA</td>\n",
       "      <td>1e</td>\n",
       "      <td>1906860</td>\n",
       "      <td>22</td>\n",
       "      <td>1</td>\n",
       "      <td>0</td>\n",
       "      <td>0</td>\n",
       "      <td>0</td>\n",
       "      <td>1</td>\n",
       "      <td>0</td>\n",
       "      <td>0</td>\n",
       "    </tr>\n",
       "    <tr>\n",
       "      <th>10307</th>\n",
       "      <td>'https://myawsbucket-1231.s3.eu-west-3.amazona...</td>\n",
       "      <td>1940</td>\n",
       "      <td>ECONOMETRICA</td>\n",
       "      <td>e</td>\n",
       "      <td>1906860</td>\n",
       "      <td>23</td>\n",
       "      <td>0</td>\n",
       "      <td>0</td>\n",
       "      <td>0</td>\n",
       "      <td>0</td>\n",
       "      <td>1</td>\n",
       "      <td>0</td>\n",
       "      <td>0</td>\n",
       "    </tr>\n",
       "    <tr>\n",
       "      <th>10308</th>\n",
       "      <td>'https://myawsbucket-1231.s3.eu-west-3.amazona...</td>\n",
       "      <td>1940</td>\n",
       "      <td>ECONOMETRICA</td>\n",
       "      <td>e1</td>\n",
       "      <td>1906860</td>\n",
       "      <td>24</td>\n",
       "      <td>1</td>\n",
       "      <td>0</td>\n",
       "      <td>0</td>\n",
       "      <td>0</td>\n",
       "      <td>1</td>\n",
       "      <td>0</td>\n",
       "      <td>0</td>\n",
       "    </tr>\n",
       "    <tr>\n",
       "      <th>10309</th>\n",
       "      <td>'https://myawsbucket-1231.s3.eu-west-3.amazona...</td>\n",
       "      <td>1940</td>\n",
       "      <td>ECONOMETRICA</td>\n",
       "      <td>e1</td>\n",
       "      <td>1906860</td>\n",
       "      <td>25</td>\n",
       "      <td>1</td>\n",
       "      <td>0</td>\n",
       "      <td>0</td>\n",
       "      <td>0</td>\n",
       "      <td>1</td>\n",
       "      <td>0</td>\n",
       "      <td>0</td>\n",
       "    </tr>\n",
       "    <tr>\n",
       "      <th>10314</th>\n",
       "      <td>'https://myawsbucket-1231.s3.eu-west-3.amazona...</td>\n",
       "      <td>1940</td>\n",
       "      <td>ECONOMETRICA</td>\n",
       "      <td>e</td>\n",
       "      <td>1906860</td>\n",
       "      <td>30</td>\n",
       "      <td>0</td>\n",
       "      <td>0</td>\n",
       "      <td>0</td>\n",
       "      <td>0</td>\n",
       "      <td>1</td>\n",
       "      <td>0</td>\n",
       "      <td>0</td>\n",
       "    </tr>\n",
       "  </tbody>\n",
       "</table>\n",
       "<p>6657 rows × 13 columns</p>\n",
       "</div>"
      ],
      "text/plain": [
       "                                                 pdf_url  year       journal  \\\n",
       "1      'https://myawsbucket-1231.s3.eu-west-3.amazona...  1963  ECONOMETRICA   \n",
       "2      'https://myawsbucket-1231.s3.eu-west-3.amazona...  1963  ECONOMETRICA   \n",
       "3      'https://myawsbucket-1231.s3.eu-west-3.amazona...  1963  ECONOMETRICA   \n",
       "4      'https://myawsbucket-1231.s3.eu-west-3.amazona...  1963  ECONOMETRICA   \n",
       "5      'https://myawsbucket-1231.s3.eu-west-3.amazona...  1963  ECONOMETRICA   \n",
       "...                                                  ...   ...           ...   \n",
       "10306  'https://myawsbucket-1231.s3.eu-west-3.amazona...  1940  ECONOMETRICA   \n",
       "10307  'https://myawsbucket-1231.s3.eu-west-3.amazona...  1940  ECONOMETRICA   \n",
       "10308  'https://myawsbucket-1231.s3.eu-west-3.amazona...  1940  ECONOMETRICA   \n",
       "10309  'https://myawsbucket-1231.s3.eu-west-3.amazona...  1940  ECONOMETRICA   \n",
       "10314  'https://myawsbucket-1231.s3.eu-west-3.amazona...  1940  ECONOMETRICA   \n",
       "\n",
       "      Answer       id  page  footnote  references1  references2  appendix  \\\n",
       "1         1e  1909981     1         1            0            0         0   \n",
       "2         1e  1909981     2         1            0            0         0   \n",
       "3         1e  1909981     3         1            0            0         0   \n",
       "4         1e  1909981     4         1            0            0         0   \n",
       "5         1e  1909981     5         1            0            0         0   \n",
       "...      ...      ...   ...       ...          ...          ...       ...   \n",
       "10306     1e  1906860    22         1            0            0         0   \n",
       "10307      e  1906860    23         0            0            0         0   \n",
       "10308     e1  1906860    24         1            0            0         0   \n",
       "10309     e1  1906860    25         1            0            0         0   \n",
       "10314      e  1906860    30         0            0            0         0   \n",
       "\n",
       "       equations  tables  figures  \n",
       "1              1       0        0  \n",
       "2              1       0        0  \n",
       "3              1       0        0  \n",
       "4              1       0        0  \n",
       "5              1       0        0  \n",
       "...          ...     ...      ...  \n",
       "10306          1       0        0  \n",
       "10307          1       0        0  \n",
       "10308          1       0        0  \n",
       "10309          1       0        0  \n",
       "10314          1       0        0  \n",
       "\n",
       "[6657 rows x 13 columns]"
      ]
     },
     "execution_count": 17,
     "metadata": {},
     "output_type": "execute_result"
    }
   ],
   "source": [
    "# get list of pages with equations\n",
    "ecta[ecta[\"equations\"]==1]"
   ]
  },
  {
   "cell_type": "code",
   "execution_count": null,
   "id": "5c2aa7e0",
   "metadata": {},
   "outputs": [],
   "source": [
    "#Use CV to lift individual values"
   ]
  },
  {
   "cell_type": "code",
   "execution_count": null,
   "id": "93cbd71b",
   "metadata": {},
   "outputs": [],
   "source": [
    "#Use tesseract to parse for = and > < signs"
   ]
  },
  {
   "cell_type": "code",
   "execution_count": null,
   "id": "166656a5",
   "metadata": {},
   "outputs": [],
   "source": [
    "#look at way to lift individual letters"
   ]
  },
  {
   "cell_type": "code",
   "execution_count": null,
   "id": "7010af17",
   "metadata": {},
   "outputs": [],
   "source": []
  }
 ],
 "metadata": {
  "kernelspec": {
   "display_name": "env",
   "language": "python",
   "name": "env"
  },
  "language_info": {
   "codemirror_mode": {
    "name": "ipython",
    "version": 3
   },
   "file_extension": ".py",
   "mimetype": "text/x-python",
   "name": "python",
   "nbconvert_exporter": "python",
   "pygments_lexer": "ipython3",
   "version": "3.10.5"
  }
 },
 "nbformat": 4,
 "nbformat_minor": 5
}
