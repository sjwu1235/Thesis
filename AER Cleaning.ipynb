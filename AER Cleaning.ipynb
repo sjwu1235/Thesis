{
 "cells": [
  {
   "cell_type": "markdown",
   "id": "fde58e7f",
   "metadata": {},
   "source": [
    "# AER Cleaning\n",
    "\n",
    "This notebook walks through how the AER articles were sorted into categories of articles and non-articles.\n",
    "\n",
    "## Load Libraries"
   ]
  },
  {
   "cell_type": "code",
   "execution_count": 88,
   "id": "3cbfd5c9",
   "metadata": {},
   "outputs": [],
   "source": [
    "from tokenize import Ignore\n",
    "from numpy import NaN\n",
    "import pandas as pd\n",
    "from difflib import SequenceMatcher\n",
    "from multiprocessing import Pool\n",
    "import multiprocessing as mp\n",
    "import time\n",
    "from os import path\n",
    "import concurrent.futures\n",
    "from multiprocessing import freeze_support\n",
    "from pathlib import Path\n",
    "from PyPDF2 import PdfFileReader, PdfFileWriter\n",
    "import re\n",
    "import slate3k as slate\n"
   ]
  },
  {
   "cell_type": "markdown",
   "id": "3f84f0b9",
   "metadata": {},
   "source": [
    "## Load Files\n",
    "\n",
    "Replace the file paths below to match local file paths"
   ]
  },
  {
   "cell_type": "code",
   "execution_count": 89,
   "id": "7e8fd79d",
   "metadata": {},
   "outputs": [],
   "source": [
    "masters = pd.read_excel(\"C:\\\\Users\\\\sjwu1\\\\Journal_Data\\\\Master lists\\\\AER_master.xlsx\")\n",
    "pivots = pd.read_excel(\"C:\\\\Users\\\\sjwu1\\\\Journal_Data\\\\pivots\\\\AER_pivots.xlsx\")\n",
    "scopus = pd.read_excel(\"C:\\\\Users\\\\sjwu1\\\\Journal_Data\\\\Scopus\\\\AER_SCOPUS.xlsx\")\n",
    "datadump = pd.read_excel(\"C:\\\\Users\\\\sjwu1\\\\Journal_Data\\\\datadumps\\\\AER_datadump.xlsx\")\n",
    "\n"
   ]
  },
  {
   "cell_type": "markdown",
   "id": "dc3f84f0",
   "metadata": {},
   "source": [
    "## Create file names"
   ]
  },
  {
   "cell_type": "code",
   "execution_count": 90,
   "id": "c3de9d76",
   "metadata": {},
   "outputs": [],
   "source": [
    "authors=\"C:\\\\Users\\\\sjwu1\\\\Journal_Data\\\\datadumps\\\\AER_authors.xlsx\"\n",
    "non_auth=\"C:\\\\Users\\\\sjwu1\\\\Journal_Data\\\\datadumps\\\\AER_Nauthors.xlsx\"\n",
    "saveas=\"C:\\\\Users\\\\sjwu1\\\\Journal_Data\\\\datadumps\\\\AER_processed.xlsx\"\n",
    "reviews=\"C:\\\\Users\\\\sjwu1\\\\Journal_Data\\\\datadumps\\\\AER_reviews.xlsx\"\n",
    "misc=\"C:\\\\Users\\\\sjwu1\\\\Journal_Data\\\\datadumps\\\\AER_misc.xlsx\"\n",
    "conf=\"C:\\\\Users\\\\sjwu1\\\\Journal_Data\\\\datadumps\\\\AER_conf.xlsx\""
   ]
  },
  {
   "cell_type": "markdown",
   "id": "4eec5937",
   "metadata": {},
   "source": [
    "## Some random checks on the masters list\n",
    "\n",
    "My assumption is that all data without author names must be miscellaneous documents like reports by the committee, forewords, front matters etc.. The goal of this notebook is to check for certain that all the documents without author names are actually miscellaneous documents and then classify them as miscellaneous (MISC). Hence, first we group everything the data by title to see the repetitive general content that can likely be removed.\n",
    "\n",
    "Note: in both cases I've restricted to output to 20 to for sake of viewing on github - there is no scroll function for output.\n"
   ]
  },
  {
   "cell_type": "code",
   "execution_count": 171,
   "id": "34b02cb7",
   "metadata": {},
   "outputs": [
    {
     "data": {
      "text/html": [
       "<div>\n",
       "<style scoped>\n",
       "    .dataframe tbody tr th:only-of-type {\n",
       "        vertical-align: middle;\n",
       "    }\n",
       "\n",
       "    .dataframe tbody tr th {\n",
       "        vertical-align: top;\n",
       "    }\n",
       "\n",
       "    .dataframe thead th {\n",
       "        text-align: right;\n",
       "    }\n",
       "</style>\n",
       "<table border=\"1\" class=\"dataframe\">\n",
       "  <thead>\n",
       "    <tr style=\"text-align: right;\">\n",
       "      <th></th>\n",
       "      <th>title</th>\n",
       "    </tr>\n",
       "  </thead>\n",
       "  <tbody>\n",
       "    <tr>\n",
       "      <th>new books</th>\n",
       "      <td>2015</td>\n",
       "    </tr>\n",
       "    <tr>\n",
       "      <th>front matter</th>\n",
       "      <td>553</td>\n",
       "    </tr>\n",
       "    <tr>\n",
       "      <th>discussion</th>\n",
       "      <td>542</td>\n",
       "    </tr>\n",
       "    <tr>\n",
       "      <th>back matter</th>\n",
       "      <td>444</td>\n",
       "    </tr>\n",
       "    <tr>\n",
       "      <th>notes</th>\n",
       "      <td>304</td>\n",
       "    </tr>\n",
       "    <tr>\n",
       "      <th>periodicals</th>\n",
       "      <td>204</td>\n",
       "    </tr>\n",
       "    <tr>\n",
       "      <th>volume information</th>\n",
       "      <td>112</td>\n",
       "    </tr>\n",
       "    <tr>\n",
       "      <th>titles of new books</th>\n",
       "      <td>107</td>\n",
       "    </tr>\n",
       "    <tr>\n",
       "      <th>documents, reports, and legislation</th>\n",
       "      <td>89</td>\n",
       "    </tr>\n",
       "    <tr>\n",
       "      <th>report of the finance committee</th>\n",
       "      <td>66</td>\n",
       "    </tr>\n",
       "    <tr>\n",
       "      <th>report of the auditor</th>\n",
       "      <td>38</td>\n",
       "    </tr>\n",
       "    <tr>\n",
       "      <th>foreword</th>\n",
       "      <td>34</td>\n",
       "    </tr>\n",
       "    <tr>\n",
       "      <th>minutes of the executive committee meetings</th>\n",
       "      <td>28</td>\n",
       "    </tr>\n",
       "    <tr>\n",
       "      <th>publications of the american economic association</th>\n",
       "      <td>24</td>\n",
       "    </tr>\n",
       "    <tr>\n",
       "      <th>editors' introduction</th>\n",
       "      <td>23</td>\n",
       "    </tr>\n",
       "    <tr>\n",
       "      <th>report of the representative to the national bureau of economic research</th>\n",
       "      <td>21</td>\n",
       "    </tr>\n",
       "    <tr>\n",
       "      <th>report of the committee on economic education</th>\n",
       "      <td>21</td>\n",
       "    </tr>\n",
       "    <tr>\n",
       "      <th>independent auditors' report</th>\n",
       "      <td>18</td>\n",
       "    </tr>\n",
       "    <tr>\n",
       "      <th>documents, reports and legislation</th>\n",
       "      <td>17</td>\n",
       "    </tr>\n",
       "    <tr>\n",
       "      <th>report of the auditing committee</th>\n",
       "      <td>16</td>\n",
       "    </tr>\n",
       "  </tbody>\n",
       "</table>\n",
       "</div>"
      ],
      "text/plain": [
       "                                                                          title\n",
       "new books                                                                  2015\n",
       "front matter                                                                553\n",
       "discussion                                                                  542\n",
       "back matter                                                                 444\n",
       "notes                                                                       304\n",
       "periodicals                                                                 204\n",
       "volume information                                                          112\n",
       "titles of new books                                                         107\n",
       "documents, reports, and legislation                                          89\n",
       "report of the finance committee                                              66\n",
       "report of the auditor                                                        38\n",
       "foreword                                                                     34\n",
       "minutes of the executive committee meetings                                  28\n",
       "publications of the american economic association                            24\n",
       "editors' introduction                                                        23\n",
       "report of the representative to the national bureau of economic research     21\n",
       "report of the committee on economic education                                21\n",
       "independent auditors' report                                                 18\n",
       "documents, reports and legislation                                           17\n",
       "report of the auditing committee                                             16"
      ]
     },
     "execution_count": 171,
     "metadata": {},
     "output_type": "execute_result"
    }
   ],
   "source": [
    "pd.set_option('display.max_rows',masters.shape[0])\n",
    "temp=masters['title'].str.lower().value_counts()\n",
    "pd.DataFrame(temp[temp>1]).head(20)"
   ]
  },
  {
   "cell_type": "markdown",
   "id": "bbb3ae00",
   "metadata": {},
   "source": [
    "Some repetitions are due to multiple comments. Now consider this list in absence of author names."
   ]
  },
  {
   "cell_type": "code",
   "execution_count": 172,
   "id": "79638c99",
   "metadata": {},
   "outputs": [
    {
     "data": {
      "text/html": [
       "<div>\n",
       "<style scoped>\n",
       "    .dataframe tbody tr th:only-of-type {\n",
       "        vertical-align: middle;\n",
       "    }\n",
       "\n",
       "    .dataframe tbody tr th {\n",
       "        vertical-align: top;\n",
       "    }\n",
       "\n",
       "    .dataframe thead th {\n",
       "        text-align: right;\n",
       "    }\n",
       "</style>\n",
       "<table border=\"1\" class=\"dataframe\">\n",
       "  <thead>\n",
       "    <tr style=\"text-align: right;\">\n",
       "      <th></th>\n",
       "      <th>title</th>\n",
       "    </tr>\n",
       "  </thead>\n",
       "  <tbody>\n",
       "    <tr>\n",
       "      <th>new books</th>\n",
       "      <td>2009</td>\n",
       "    </tr>\n",
       "    <tr>\n",
       "      <th>front matter</th>\n",
       "      <td>553</td>\n",
       "    </tr>\n",
       "    <tr>\n",
       "      <th>back matter</th>\n",
       "      <td>443</td>\n",
       "    </tr>\n",
       "    <tr>\n",
       "      <th>notes</th>\n",
       "      <td>301</td>\n",
       "    </tr>\n",
       "    <tr>\n",
       "      <th>periodicals</th>\n",
       "      <td>204</td>\n",
       "    </tr>\n",
       "    <tr>\n",
       "      <th>volume information</th>\n",
       "      <td>112</td>\n",
       "    </tr>\n",
       "    <tr>\n",
       "      <th>titles of new books</th>\n",
       "      <td>107</td>\n",
       "    </tr>\n",
       "    <tr>\n",
       "      <th>documents, reports, and legislation</th>\n",
       "      <td>72</td>\n",
       "    </tr>\n",
       "    <tr>\n",
       "      <th>report of the finance committee</th>\n",
       "      <td>63</td>\n",
       "    </tr>\n",
       "    <tr>\n",
       "      <th>report of the auditor</th>\n",
       "      <td>37</td>\n",
       "    </tr>\n",
       "    <tr>\n",
       "      <th>minutes of the executive committee meetings</th>\n",
       "      <td>27</td>\n",
       "    </tr>\n",
       "    <tr>\n",
       "      <th>publications of the american economic association</th>\n",
       "      <td>24</td>\n",
       "    </tr>\n",
       "    <tr>\n",
       "      <th>report of the committee on economic education</th>\n",
       "      <td>20</td>\n",
       "    </tr>\n",
       "    <tr>\n",
       "      <th>report of the representative to the national bureau of economic research</th>\n",
       "      <td>19</td>\n",
       "    </tr>\n",
       "    <tr>\n",
       "      <th>independent auditors' report</th>\n",
       "      <td>18</td>\n",
       "    </tr>\n",
       "    <tr>\n",
       "      <th>report of the auditing committee</th>\n",
       "      <td>16</td>\n",
       "    </tr>\n",
       "    <tr>\n",
       "      <th>documents, reports and legislation</th>\n",
       "      <td>15</td>\n",
       "    </tr>\n",
       "    <tr>\n",
       "      <th>announcements</th>\n",
       "      <td>14</td>\n",
       "    </tr>\n",
       "    <tr>\n",
       "      <th>purposes of the american economic association</th>\n",
       "      <td>14</td>\n",
       "    </tr>\n",
       "    <tr>\n",
       "      <th>report of the census advisory committee</th>\n",
       "      <td>14</td>\n",
       "    </tr>\n",
       "  </tbody>\n",
       "</table>\n",
       "</div>"
      ],
      "text/plain": [
       "                                                                          title\n",
       "new books                                                                  2009\n",
       "front matter                                                                553\n",
       "back matter                                                                 443\n",
       "notes                                                                       301\n",
       "periodicals                                                                 204\n",
       "volume information                                                          112\n",
       "titles of new books                                                         107\n",
       "documents, reports, and legislation                                          72\n",
       "report of the finance committee                                              63\n",
       "report of the auditor                                                        37\n",
       "minutes of the executive committee meetings                                  27\n",
       "publications of the american economic association                            24\n",
       "report of the committee on economic education                                20\n",
       "report of the representative to the national bureau of economic research     19\n",
       "independent auditors' report                                                 18\n",
       "report of the auditing committee                                             16\n",
       "documents, reports and legislation                                           15\n",
       "announcements                                                                14\n",
       "purposes of the american economic association                                14\n",
       "report of the census advisory committee                                      14"
      ]
     },
     "execution_count": 172,
     "metadata": {},
     "output_type": "execute_result"
    }
   ],
   "source": [
    "temp2=masters[masters['authors'].isna()]['title'].str.lower().value_counts()\n",
    "pd.DataFrame(temp2).head(20)"
   ]
  },
  {
   "cell_type": "markdown",
   "id": "091cbc37",
   "metadata": {},
   "source": [
    "There is also many reports with unique titles due to the year of the report being included in the title. Interestingly, discussions are no longer part of the table excluding non-authored articles indicating these may be non-adminstrative documents.\n",
    "\n",
    "The next block corrects for individual errors that were noted."
   ]
  },
  {
   "cell_type": "code",
   "execution_count": 93,
   "id": "2ceb4482",
   "metadata": {},
   "outputs": [],
   "source": [
    "#Block for misspelling or renaming of data\n",
    "masters.loc[8990,'title']=\"Back Matter\"\n",
    "masters.loc[10861,'title']=\"Back Matter\"\n",
    "masters.loc[16376,'title']=\"Foreword\"\n",
    "masters.loc[25807,'title']=\"Documents, Reports and Legislation\"\n",
    "masters.loc[25815,'authors']=\"Alexander Marx\"\n",
    "masters.loc[25720,'authors']=\"Review by: James Bonar\"\n",
    "masters.loc[6425,'content_type']=\"Discussion\"\n",
    "masters.loc[2284,'authors']=\"Victoria Ivashina and David Scharfstein\"\n",
    "masters.loc[503,'authors']=\"Jennifer L. Doleac and Benjamin Hansen\"\n",
    "masters.loc[22177,'authors']=\"Review by: W. L. Crum\"\n",
    "masters.loc[22176,'authors']=\"Review by: Gardiner C. Means\"\n",
    "masters.loc[24681,'authors']=\"Review by: Victor H. Pelz\"\n",
    "masters.loc[6073,'authors']='Haizhou Huang'\n",
    "masters.loc[19384,'authors']='Review by: Anon'\n",
    "masters.loc[6149,'content_type']=\"Discussion\"\n",
    "masters.loc[18729,'authors']='Anon'\n",
    "masters.loc[14710,'authors']='Anon'\n",
    "masters.loc[14710,'title']='Human Resources: The Wealth of a Nation by Eli Ginzberg: Erratum'\n",
    "masters.loc[24876,'authors']='Review by: Henry Pratt Fairchild'\n",
    "masters.loc[11919,'authors']='Review by: Anon'\n",
    "masters.loc[23831,'authors']='Review by: Roy G. Blakey'\n",
    "masters.loc[24620,'authors']='Review by: Ralph H. Blanchard'\n",
    "masters.loc[27402,'authors']='Review by: Anon'\n",
    "masters.loc[19927,'authors']='Anon'"
   ]
  },
  {
   "cell_type": "markdown",
   "id": "7f7c64ab",
   "metadata": {},
   "source": [
    "## Classifying Miscellaneous content"
   ]
  },
  {
   "cell_type": "code",
   "execution_count": 94,
   "id": "73546e09",
   "metadata": {},
   "outputs": [],
   "source": [
    "scopus.rename(columns = {'abstract':'abstract2', 'title':'title2', 'authors':'authors2'}, inplace = True)\n",
    "scopus['pages2']=scopus['pages']\n",
    "masters['pages']=masters['pages'].str.strip()  \n",
    "masters.loc[masters.title.str.lower() == \"back matter\", 'pages'] = NaN  \n",
    "pivots['type']=NaN\n",
    "\n",
    "masters.loc[masters.title.str.lower() == \"back matter\", 'content_type'] = \"MISC\"  \n",
    "masters.loc[masters.title.str.lower() == \"front matter\", 'content_type'] = \"MISC\"\n",
    "masters.loc[masters.title.str.lower() == \"volume matter\", 'content_type'] = \"MISC\"\n",
    "masters.loc[masters.title == \"Announcements\", 'content_type'] = \"MISC\"\n",
    "masters.loc[masters.title == \"Announcement\", 'content_type'] = \"MISC\"\n",
    "masters.loc[masters.title.str.lower() == \"foreword\", 'content_type'] = \"MISC\"\n",
    "masters.loc[masters.title == \"Periodicals\", 'content_type'] = \"MISC\"\n",
    "masters.loc[masters.title.str.lower() == \"doctoral dissertations\", 'content_type'] = \"MISC\"\n",
    "masters.loc[masters.title == \"Editorial Statement\", 'content_type'] = \"MISC\"\n",
    "masters.loc[masters.title.str.lower() == \"list of members\", 'content_type'] = \"MISC\" \n",
    "masters.loc[masters.title.str.lower() == \"annual meetings\", 'content_type'] = \"MISC\" \n",
    "masters.loc[masters.title.str.lower() == \"biographical listing of members\", 'content_type'] = \"MISC\" \n",
    "masters.loc[masters.title.str.lower() == \"honorary members\", 'content_type'] = \"MISC\" \n",
    "masters.loc[masters.title.str.lower().str.contains(\"preliminary announcement of the program\"), 'content_type'] = \"MISC\"\n",
    "masters.loc[masters[\"title\"].str.contains(\"Distinguished Fellow\"),'content_type']=\"MISC\"\n",
    "masters.loc[masters[\"title\"].str.lower().str.contains(\"\\[photograph\\]\"),'content_type']=\"MISC\"\n",
    "masters.loc[masters[\"title\"].str.lower().str.contains(\"volume information\"),'content_type']=\"MISC\"\n",
    "masters.loc[masters['title'].str.contains(\"The John Bates Clark Award\"),'content_type']=\"MISC\"\n",
    "masters.loc[masters[\"title\"].str.lower().str.contains(\"new books\"),'content_type']=\"MISC\"\n",
    "masters.loc[masters[\"title\"].str.lower().str.contains(\"new book\"),'content_type']=\"MISC\"\n",
    "masters.loc[masters[\"title\"].str.lower().str.contains(\"the american economic association\"),'content_type']=\"MISC\"\n",
    "masters.loc[masters[\"title\"].str.lower().str.contains(\"in memoriam\"),'content_type']=\"MISC\"\n",
    "masters.loc[masters[\"title\"].str.lower().str.contains(\"in memorium\"),'content_type']=\"MISC\"\n",
    "masters.loc[masters[\"title\"].str.lower().str.contains(\"memorial:\"),'content_type']=\"MISC\"\n",
    "masters.loc[masters[\"title\"].str.lower().str.contains(\"list of doctoral dissertations\"),'content_type']=\"MISC\"\n",
    "masters.loc[masters[\"title\"].str.lower().str.contains(\"notes\") & masters['authors'].isna(),'content_type']=\"MISC\"\n",
    "masters.loc[masters[\"title\"].str.lower().str.contains(\"documents, reports and legislation\") & masters['authors'].isna(),'content_type']=\"MISC\"\n",
    "masters.loc[masters[\"title\"].str.lower().str.contains(\"documents, reports, and legislation\") & masters['authors'].isna(),'content_type']=\"MISC\"\n",
    "masters.loc[masters[\"title\"].str.lower().str.contains(\"editor\") & masters[\"title\"].str.lower().str.contains(\"introduction\"),'content_type']=\"MISC\"\n",
    "masters.loc[masters[\"title\"].str.lower().str.contains(\"classification of members\"),'content_type']=\"MISC\"\n",
    "masters.loc[masters[\"title\"].str.lower().str.contains(\"aer survey of members\"),'content_type']=\"MISC\"\n",
    "masters.loc[masters[\"title\"].str.lower().str.contains(\"annual business meeting\"),'content_type']=\"MISC\"\n",
    "masters.loc[masters[\"title\"].str.lower().str.contains(\"auditor\") & masters[\"title\"].str.lower().str.contains(\"report\"),'content_type']=\"MISC\"\n",
    "masters.loc[masters[\"title\"].str.lower().str.contains(\"proceedings of the\") & masters[\"title\"].str.lower().str.contains(\"annual meeting\"),'content_type']=\"MISC\"\n",
    "masters.loc[masters[\"title\"].str.lower().str.contains(\"report of the\") & masters['authors'].isna(),'content_type']=\"MISC\"\n",
    "masters.loc[masters[\"title\"].str.lower().str.contains(\"minutes of the\") & masters['authors'].isna(),'content_type']=\"MISC\"\n",
    "masters.loc[masters[\"title\"].str.lower().str.contains(\"minutes of business meetings\") & masters['authors'].isna(),'content_type']=\"MISC\"\n",
    "masters.loc[masters[\"title\"].str.len()<3,'content_type']='MISC'\n",
    "masters.loc[masters['title'].str.match(r'^Program.*')==True,'content_type']='MISC'\n",
    "masters.loc[masters['title'].str.match(r'^Business Meeting.*')==True,'content_type']='MISC'\n",
    "#masters[masters['title'].str.lower().str.contains(\"review\")]['title']\n",
    "masters.loc[masters['title'].str.lower().str.match(r'the committee on.*')==True,'content_type']='MISC'\n",
    "masters.loc[masters['title'].str.lower().str.match(r'^report of.* representative')==True,'content_type']='MISC'\n",
    "masters.loc[masters['title'].str.lower().str.match(r'^report of.*committee on')==True,'content_type']='MISC'\n",
    "masters.loc[masters['title'].str.lower().str.match(r'.*francis.*walker.*award')==True,'content_type']='MISC'\n",
    "masters.loc[masters['authors'].isna() & masters['content_type'].isna(),'content_type']='MISC' \n"
   ]
  },
  {
   "cell_type": "code",
   "execution_count": 95,
   "id": "1a64aeea",
   "metadata": {},
   "outputs": [],
   "source": [
    "#masters[masters[\"title\"].str.lower().str.contains('affiliation')][['title','stable_url']]\n",
    "#masters[masters['title'].str.match(r'Business Meeting*')==True]\n",
    "#masters[masters[\"title\"].str.lower().str.contains(\"aer survey of members\")][['title','stable_url']]"
   ]
  },
  {
   "cell_type": "markdown",
   "id": "2b60b812",
   "metadata": {},
   "source": [
    "... One last check. Note: I found that after removing most of the miscellaneous content the remainder that did not have author names were not articles."
   ]
  },
  {
   "cell_type": "code",
   "execution_count": 96,
   "id": "931a2121",
   "metadata": {},
   "outputs": [
    {
     "name": "stdout",
     "output_type": "stream",
     "text": [
      "0\n"
     ]
    },
    {
     "data": {
      "text/html": [
       "<div>\n",
       "<style scoped>\n",
       "    .dataframe tbody tr th:only-of-type {\n",
       "        vertical-align: middle;\n",
       "    }\n",
       "\n",
       "    .dataframe tbody tr th {\n",
       "        vertical-align: top;\n",
       "    }\n",
       "\n",
       "    .dataframe thead th {\n",
       "        text-align: right;\n",
       "    }\n",
       "</style>\n",
       "<table border=\"1\" class=\"dataframe\">\n",
       "  <thead>\n",
       "    <tr style=\"text-align: right;\">\n",
       "      <th></th>\n",
       "      <th>title</th>\n",
       "      <th>stable_url</th>\n",
       "    </tr>\n",
       "  </thead>\n",
       "  <tbody>\n",
       "  </tbody>\n",
       "</table>\n",
       "</div>"
      ],
      "text/plain": [
       "Empty DataFrame\n",
       "Columns: [title, stable_url]\n",
       "Index: []"
      ]
     },
     "execution_count": 96,
     "metadata": {},
     "output_type": "execute_result"
    }
   ],
   "source": [
    "print(masters[masters['authors'].isna() & masters['content_type'].isna()]['title'].shape[0])\n",
    "pd.set_option('display.max_colwidth', None)\n",
    "masters[masters['authors'].isna() & masters['content_type'].isna()][['title','stable_url']].sort_values('title')"
   ]
  },
  {
   "cell_type": "code",
   "execution_count": 101,
   "id": "12c41cc1",
   "metadata": {},
   "outputs": [
    {
     "name": "stdout",
     "output_type": "stream",
     "text": [
      "5732\n"
     ]
    }
   ],
   "source": [
    "pd.set_option('display.max_rows',masters.shape[0])\n",
    "print(sum(masters['content_type']=='MISC'))\n",
    "#pd.DataFrame(masters['title'][masters['content_type']=='MISC']).sort_values('title')\n"
   ]
  },
  {
   "cell_type": "code",
   "execution_count": 102,
   "id": "e184e81c",
   "metadata": {},
   "outputs": [
    {
     "data": {
      "text/html": [
       "<div>\n",
       "<style scoped>\n",
       "    .dataframe tbody tr th:only-of-type {\n",
       "        vertical-align: middle;\n",
       "    }\n",
       "\n",
       "    .dataframe tbody tr th {\n",
       "        vertical-align: top;\n",
       "    }\n",
       "\n",
       "    .dataframe thead th {\n",
       "        text-align: right;\n",
       "    }\n",
       "</style>\n",
       "<table border=\"1\" class=\"dataframe\">\n",
       "  <thead>\n",
       "    <tr style=\"text-align: right;\">\n",
       "      <th></th>\n",
       "      <th>stable_url</th>\n",
       "      <th>authors</th>\n",
       "      <th>title</th>\n",
       "      <th>abstract</th>\n",
       "      <th>content_type</th>\n",
       "      <th>issue_url</th>\n",
       "      <th>pages</th>\n",
       "      <th>year</th>\n",
       "      <th>volume</th>\n",
       "      <th>issue</th>\n",
       "    </tr>\n",
       "  </thead>\n",
       "  <tbody>\n",
       "    <tr>\n",
       "      <th>4</th>\n",
       "      <td>https://www.jstor.org/stable/26848481</td>\n",
       "      <td>Tatyana Deryugina, Garth Heutel, Nolan H. Miller, David Molitor and Julian Reif</td>\n",
       "      <td>The Mortality and Medical Costs of Air Pollution: Evidence from Changes in Wind Direction</td>\n",
       "      <td>NaN</td>\n",
       "      <td>NaN</td>\n",
       "      <td>https://www.jstor.org/stable/10.2307/e26848476</td>\n",
       "      <td>4178-4219</td>\n",
       "      <td>2019</td>\n",
       "      <td>109</td>\n",
       "      <td>12</td>\n",
       "    </tr>\n",
       "    <tr>\n",
       "      <th>6</th>\n",
       "      <td>https://www.jstor.org/stable/26848483</td>\n",
       "      <td>Sharon Traiberman</td>\n",
       "      <td>Occupations and Import Competition: Evidence from Denmark</td>\n",
       "      <td>NaN</td>\n",
       "      <td>NaN</td>\n",
       "      <td>https://www.jstor.org/stable/10.2307/e26848476</td>\n",
       "      <td>4260-4301</td>\n",
       "      <td>2019</td>\n",
       "      <td>109</td>\n",
       "      <td>12</td>\n",
       "    </tr>\n",
       "    <tr>\n",
       "      <th>8</th>\n",
       "      <td>https://www.jstor.org/stable/26848485</td>\n",
       "      <td>Luigi Bocola and Alessandro Dovis</td>\n",
       "      <td>Self-Fulfilling Debt Crises: A Quantitative Analysis</td>\n",
       "      <td>NaN</td>\n",
       "      <td>NaN</td>\n",
       "      <td>https://www.jstor.org/stable/10.2307/e26848476</td>\n",
       "      <td>4343-4377</td>\n",
       "      <td>2019</td>\n",
       "      <td>109</td>\n",
       "      <td>12</td>\n",
       "    </tr>\n",
       "    <tr>\n",
       "      <th>9</th>\n",
       "      <td>https://www.jstor.org/stable/26848486</td>\n",
       "      <td>Mathieu Couttenier, Veronica Petrencu, Dominic Rohner and Mathias Thoenig</td>\n",
       "      <td>The Violent Legacy of Conflict: Evidence on Asylum Seekers, Crime, and Public Policy in Switzerland</td>\n",
       "      <td>NaN</td>\n",
       "      <td>NaN</td>\n",
       "      <td>https://www.jstor.org/stable/10.2307/e26848476</td>\n",
       "      <td>4378-4425</td>\n",
       "      <td>2019</td>\n",
       "      <td>109</td>\n",
       "      <td>12</td>\n",
       "    </tr>\n",
       "    <tr>\n",
       "      <th>12</th>\n",
       "      <td>https://www.jstor.org/stable/26807866</td>\n",
       "      <td>Judd B. Kessler, Corinne Low and Colin D. Sullivan</td>\n",
       "      <td>Incentivized Resume Rating: Eliciting Employer Preferences without Deception</td>\n",
       "      <td>NaN</td>\n",
       "      <td>NaN</td>\n",
       "      <td>https://www.jstor.org/stable/10.2307/e26807864</td>\n",
       "      <td>3713-3744</td>\n",
       "      <td>2019</td>\n",
       "      <td>109</td>\n",
       "      <td>11</td>\n",
       "    </tr>\n",
       "  </tbody>\n",
       "</table>\n",
       "</div>"
      ],
      "text/plain": [
       "                               stable_url  \\\n",
       "4   https://www.jstor.org/stable/26848481   \n",
       "6   https://www.jstor.org/stable/26848483   \n",
       "8   https://www.jstor.org/stable/26848485   \n",
       "9   https://www.jstor.org/stable/26848486   \n",
       "12  https://www.jstor.org/stable/26807866   \n",
       "\n",
       "                                                                            authors  \\\n",
       "4   Tatyana Deryugina, Garth Heutel, Nolan H. Miller, David Molitor and Julian Reif   \n",
       "6                                                                 Sharon Traiberman   \n",
       "8                                                 Luigi Bocola and Alessandro Dovis   \n",
       "9         Mathieu Couttenier, Veronica Petrencu, Dominic Rohner and Mathias Thoenig   \n",
       "12                               Judd B. Kessler, Corinne Low and Colin D. Sullivan   \n",
       "\n",
       "                                                                                                  title  \\\n",
       "4             The Mortality and Medical Costs of Air Pollution: Evidence from Changes in Wind Direction   \n",
       "6                                             Occupations and Import Competition: Evidence from Denmark   \n",
       "8                                                  Self-Fulfilling Debt Crises: A Quantitative Analysis   \n",
       "9   The Violent Legacy of Conflict: Evidence on Asylum Seekers, Crime, and Public Policy in Switzerland   \n",
       "12                         Incentivized Resume Rating: Eliciting Employer Preferences without Deception   \n",
       "\n",
       "    abstract content_type                                       issue_url  \\\n",
       "4        NaN          NaN  https://www.jstor.org/stable/10.2307/e26848476   \n",
       "6        NaN          NaN  https://www.jstor.org/stable/10.2307/e26848476   \n",
       "8        NaN          NaN  https://www.jstor.org/stable/10.2307/e26848476   \n",
       "9        NaN          NaN  https://www.jstor.org/stable/10.2307/e26848476   \n",
       "12       NaN          NaN  https://www.jstor.org/stable/10.2307/e26807864   \n",
       "\n",
       "        pages  year  volume issue  \n",
       "4   4178-4219  2019     109    12  \n",
       "6   4260-4301  2019     109    12  \n",
       "8   4343-4377  2019     109    12  \n",
       "9   4378-4425  2019     109    12  \n",
       "12  3713-3744  2019     109    11  "
      ]
     },
     "execution_count": 102,
     "metadata": {},
     "output_type": "execute_result"
    }
   ],
   "source": [
    "masters[masters.title.str.lower().str.match(r'.*:.*') & masters.content_type.isna()].head()"
   ]
  },
  {
   "cell_type": "markdown",
   "id": "92e2d3e8",
   "metadata": {},
   "source": [
    "## Separating out other types"
   ]
  },
  {
   "cell_type": "code",
   "execution_count": 103,
   "id": "e3c89bce",
   "metadata": {},
   "outputs": [
    {
     "data": {
      "text/plain": [
       "7144"
      ]
     },
     "execution_count": 103,
     "metadata": {},
     "output_type": "execute_result"
    }
   ],
   "source": [
    "masters.loc[~(masters['authors'].isna()) & masters['authors'].str.lower().str.match(r'.*review by:.*'),'content_type']='Review'\n",
    "masters[masters.content_type=='Review'].shape[0]"
   ]
  },
  {
   "cell_type": "code",
   "execution_count": 104,
   "id": "3d52fefc",
   "metadata": {},
   "outputs": [
    {
     "data": {
      "text/plain": [
       "809"
      ]
     },
     "execution_count": 104,
     "metadata": {},
     "output_type": "execute_result"
    }
   ],
   "source": [
    "masters.loc[masters.content_type.isna() & masters.title.str.lower().str.match(r'.*: (|a )comment(|.*)$')==True,'content_type']='Comment'\n",
    "masters[masters['content_type']=='Comment'].shape[0]"
   ]
  },
  {
   "cell_type": "code",
   "execution_count": 105,
   "id": "a2ae45d5",
   "metadata": {},
   "outputs": [
    {
     "data": {
      "text/plain": [
       "505"
      ]
     },
     "execution_count": 105,
     "metadata": {},
     "output_type": "execute_result"
    }
   ],
   "source": [
    "masters.loc[masters.content_type.isna() & masters.title.str.lower().str.match(r'.*(:|\\?) (|a )reply(| to.*)$')==True,'content_type']=\"Reply\"\n",
    "masters[masters['content_type']=='Reply'].shape[0]"
   ]
  },
  {
   "cell_type": "code",
   "execution_count": null,
   "id": "381bd84a",
   "metadata": {},
   "outputs": [],
   "source": []
  },
  {
   "cell_type": "code",
   "execution_count": 106,
   "id": "c2bc9ddc",
   "metadata": {},
   "outputs": [
    {
     "data": {
      "text/plain": [
       "592"
      ]
     },
     "execution_count": 106,
     "metadata": {},
     "output_type": "execute_result"
    }
   ],
   "source": [
    "masters.loc[masters.content_type.isna() & masters.title.str.lower().str.match(r'.*: (|a )discussion$')==True,'content_type']=\"Discussion\"\n",
    "masters.loc[masters.content_type.isna() & masters.title.str.lower().str.match(r'(^|a )discussion(|.*)$')==True,'content_type']=\"Discussion\"\n",
    "masters.loc[masters.content_type.isna() & masters.title.str.lower().str.match(r'.*:.*(|a )discussion(|s)$')==True,'content_type']='Discussion'\n",
    "masters[masters['content_type']=='Discussion'].shape[0]"
   ]
  },
  {
   "cell_type": "code",
   "execution_count": 107,
   "id": "598136de",
   "metadata": {},
   "outputs": [
    {
     "data": {
      "text/plain": [
       "52"
      ]
     },
     "execution_count": 107,
     "metadata": {},
     "output_type": "execute_result"
    }
   ],
   "source": [
    "masters.loc[masters.content_type.isna() & masters.title.str.lower().str.match(r'.*(:|\\?) (|a )rejoinder.*$')==True,'content_type']=\"Rejoinder\"\n",
    "masters[masters['content_type']=='Rejoinder'].shape[0]"
   ]
  },
  {
   "cell_type": "code",
   "execution_count": 108,
   "id": "5de04d67",
   "metadata": {},
   "outputs": [
    {
     "data": {
      "text/plain": [
       "12584"
      ]
     },
     "execution_count": 108,
     "metadata": {},
     "output_type": "execute_result"
    }
   ],
   "source": [
    "masters.loc[masters['content_type'].isna(),'content_type']=\"Article\"\n",
    "masters[masters['content_type']=='Article'].shape[0]"
   ]
  },
  {
   "cell_type": "code",
   "execution_count": 109,
   "id": "0171b3f6",
   "metadata": {},
   "outputs": [],
   "source": [
    "# block for testing regex strings\n",
    "#masters[masters.content_type.isna() & masters.title.str.lower().str.match(r'.*: (|a )discussion(|.*)$')==True] #false positive for discussion\n",
    "#masters[masters.content_type.isna() & masters.title.str.lower().str.match(r'.*: (|a )comment(|.*)$')==True] comments to specific people\n",
    "#masters[masters.title.str.lower().str.match(r'^(|a )note.*')]"
   ]
  },
  {
   "cell_type": "code",
   "execution_count": 114,
   "id": "1fd67de5",
   "metadata": {},
   "outputs": [
    {
     "data": {
      "text/plain": [
       "12584"
      ]
     },
     "execution_count": 114,
     "metadata": {},
     "output_type": "execute_result"
    }
   ],
   "source": [
    "masters[masters.content_type=='Article'].shape[0] #articles in data set"
   ]
  },
  {
   "cell_type": "code",
   "execution_count": 117,
   "id": "5887b5aa",
   "metadata": {},
   "outputs": [
    {
     "data": {
      "text/plain": [
       "11203"
      ]
     },
     "execution_count": 117,
     "metadata": {},
     "output_type": "execute_result"
    }
   ],
   "source": [
    "masters[(masters['content_type']=='Article') & ((masters.year>1939) ==True)].shape[0] #all articles after 1940"
   ]
  },
  {
   "cell_type": "code",
   "execution_count": 118,
   "id": "af3e9e6d",
   "metadata": {},
   "outputs": [
    {
     "data": {
      "text/plain": [
       "9340"
      ]
     },
     "execution_count": 118,
     "metadata": {},
     "output_type": "execute_result"
    }
   ],
   "source": [
    "masters[(masters['content_type']=='Article') & ((masters.year>1939) ==True) & ((masters.year<2011) ==True)].shape[0] #articles between 1940 and 2010"
   ]
  },
  {
   "cell_type": "markdown",
   "id": "173064f4",
   "metadata": {},
   "source": [
    "## Consider the pivots file\n",
    "\n",
    "At times, conference papers are structured differently to normal articles. Hence, it may be necessary to distinguish conference papers from common articles. The next code block separates special issues (S) from normal issues (N)"
   ]
  },
  {
   "cell_type": "code",
   "execution_count": 119,
   "id": "e962a35f",
   "metadata": {},
   "outputs": [
    {
     "data": {
      "text/html": [
       "<div>\n",
       "<style scoped>\n",
       "    .dataframe tbody tr th:only-of-type {\n",
       "        vertical-align: middle;\n",
       "    }\n",
       "\n",
       "    .dataframe tbody tr th {\n",
       "        vertical-align: top;\n",
       "    }\n",
       "\n",
       "    .dataframe thead th {\n",
       "        text-align: right;\n",
       "    }\n",
       "</style>\n",
       "<table border=\"1\" class=\"dataframe\">\n",
       "  <thead>\n",
       "    <tr style=\"text-align: right;\">\n",
       "      <th></th>\n",
       "      <th>year</th>\n",
       "      <th>month</th>\n",
       "      <th>volume</th>\n",
       "      <th>issue</th>\n",
       "      <th>issue_url</th>\n",
       "      <th>Jstor_issue_text</th>\n",
       "      <th>journal</th>\n",
       "      <th>pivot_url</th>\n",
       "      <th>no_docs</th>\n",
       "      <th>type</th>\n",
       "    </tr>\n",
       "  </thead>\n",
       "  <tbody>\n",
       "    <tr>\n",
       "      <th>30</th>\n",
       "      <td>2017</td>\n",
       "      <td>MAY</td>\n",
       "      <td>107</td>\n",
       "      <td>5</td>\n",
       "      <td>https://www.jstor.org/stable/10.2307/i40178116</td>\n",
       "      <td>No. 5 PAPERS AND PROCEEDINGS OF THE One Hundred Twenty-Ninth Annual Meeting OF THE AMERICAN ECONOMIC ASSOCIATION MAY 2017 pp. i-xii, 1-681</td>\n",
       "      <td>AER</td>\n",
       "      <td>https://www.jstor.org/stable/44250350</td>\n",
       "      <td>132</td>\n",
       "      <td>S</td>\n",
       "    </tr>\n",
       "    <tr>\n",
       "      <th>42</th>\n",
       "      <td>2016</td>\n",
       "      <td>MAY</td>\n",
       "      <td>106</td>\n",
       "      <td>5</td>\n",
       "      <td>https://www.jstor.org/stable/10.2307/i40158602</td>\n",
       "      <td>No. 5 PAPERS AND PROCEEDINGS OF THE One Hundred Twenty-Eighth Annual Meeting OF THE AMERICAN ECONOMIC ASSOCIATION MAY 2016 pp. i-xiv, 1-683</td>\n",
       "      <td>AER</td>\n",
       "      <td>https://www.jstor.org/stable/43860977</td>\n",
       "      <td>128</td>\n",
       "      <td>S</td>\n",
       "    </tr>\n",
       "    <tr>\n",
       "      <th>54</th>\n",
       "      <td>2015</td>\n",
       "      <td>MAY</td>\n",
       "      <td>105</td>\n",
       "      <td>5</td>\n",
       "      <td>https://www.jstor.org/stable/10.2307/i40156735</td>\n",
       "      <td>No. 5 PAPERS AND PROCEEDINGS OF THE One Hundred Twenty-Seventh Annual Meeting OF THE AMERICAN ECONOMIC ASSOCIATION MAY 2015 pp. i-xiv, 1-682</td>\n",
       "      <td>AER</td>\n",
       "      <td>https://www.jstor.org/stable/43821842</td>\n",
       "      <td>124</td>\n",
       "      <td>S</td>\n",
       "    </tr>\n",
       "    <tr>\n",
       "      <th>66</th>\n",
       "      <td>2014</td>\n",
       "      <td>MAY</td>\n",
       "      <td>104</td>\n",
       "      <td>5</td>\n",
       "      <td>https://www.jstor.org/stable/10.2307/i40112127</td>\n",
       "      <td>No. 5 PAPERS AND PROCEEDINGS OF One Hundred Twenty-Sixth Annual Meeting OF THE AMERICAN ECONOMIC ASSOCIATION MAY 2014 pp. i-xiv, 1-608, i-ii</td>\n",
       "      <td>AER</td>\n",
       "      <td>https://www.jstor.org/stable/42920902</td>\n",
       "      <td>104</td>\n",
       "      <td>S</td>\n",
       "    </tr>\n",
       "    <tr>\n",
       "      <th>75</th>\n",
       "      <td>2013</td>\n",
       "      <td>MAY</td>\n",
       "      <td>103</td>\n",
       "      <td>3</td>\n",
       "      <td>https://www.jstor.org/stable/10.2307/i23469657</td>\n",
       "      <td>No. 3 PAPERS AND PROCEEDINGS OF THE One Hundred Twenty-Fifth Annual Meeting OF THE AMERICAN ECONOMIC ASSOCIATION MAY 2013 pp. i-xiv, 1-683</td>\n",
       "      <td>AER</td>\n",
       "      <td>https://www.jstor.org/stable/23469697</td>\n",
       "      <td>116</td>\n",
       "      <td>S</td>\n",
       "    </tr>\n",
       "  </tbody>\n",
       "</table>\n",
       "</div>"
      ],
      "text/plain": [
       "    year month  volume issue                                       issue_url  \\\n",
       "30  2017   MAY     107     5  https://www.jstor.org/stable/10.2307/i40178116   \n",
       "42  2016   MAY     106     5  https://www.jstor.org/stable/10.2307/i40158602   \n",
       "54  2015   MAY     105     5  https://www.jstor.org/stable/10.2307/i40156735   \n",
       "66  2014   MAY     104     5  https://www.jstor.org/stable/10.2307/i40112127   \n",
       "75  2013   MAY     103     3  https://www.jstor.org/stable/10.2307/i23469657   \n",
       "\n",
       "                                                                                                                                Jstor_issue_text  \\\n",
       "30    No. 5 PAPERS AND PROCEEDINGS OF THE One Hundred Twenty-Ninth Annual Meeting OF THE AMERICAN ECONOMIC ASSOCIATION MAY 2017 pp. i-xii, 1-681   \n",
       "42   No. 5 PAPERS AND PROCEEDINGS OF THE One Hundred Twenty-Eighth Annual Meeting OF THE AMERICAN ECONOMIC ASSOCIATION MAY 2016 pp. i-xiv, 1-683   \n",
       "54  No. 5 PAPERS AND PROCEEDINGS OF THE One Hundred Twenty-Seventh Annual Meeting OF THE AMERICAN ECONOMIC ASSOCIATION MAY 2015 pp. i-xiv, 1-682   \n",
       "66  No. 5 PAPERS AND PROCEEDINGS OF One Hundred Twenty-Sixth Annual Meeting OF THE AMERICAN ECONOMIC ASSOCIATION MAY 2014 pp. i-xiv, 1-608, i-ii   \n",
       "75    No. 3 PAPERS AND PROCEEDINGS OF THE One Hundred Twenty-Fifth Annual Meeting OF THE AMERICAN ECONOMIC ASSOCIATION MAY 2013 pp. i-xiv, 1-683   \n",
       "\n",
       "   journal                              pivot_url  no_docs type  \n",
       "30     AER  https://www.jstor.org/stable/44250350      132    S  \n",
       "42     AER  https://www.jstor.org/stable/43860977      128    S  \n",
       "54     AER  https://www.jstor.org/stable/43821842      124    S  \n",
       "66     AER  https://www.jstor.org/stable/42920902      104    S  \n",
       "75     AER  https://www.jstor.org/stable/23469697      116    S  "
      ]
     },
     "execution_count": 119,
     "metadata": {},
     "output_type": "execute_result"
    }
   ],
   "source": [
    "pivots.loc[pivots.Jstor_issue_text.str.lower().str.match(r'(.*)(supplement|proceedings|annual meeting|survey)(.*)'),'type']=\"S\"\n",
    "pivots.loc[pivots.type.isna(),'type']='N'\n",
    "pivots[pivots.type=='S'].head()"
   ]
  },
  {
   "cell_type": "markdown",
   "id": "41fe367e",
   "metadata": {},
   "source": [
    "Merging the pivots with masters"
   ]
  },
  {
   "cell_type": "code",
   "execution_count": 120,
   "id": "667c8f6f",
   "metadata": {},
   "outputs": [],
   "source": [
    "result = pd.merge(masters, pivots[['issue_url','journal','type']], how=\"left\", on=[\"issue_url\", \"issue_url\"])"
   ]
  },
  {
   "cell_type": "code",
   "execution_count": 121,
   "id": "286f1165",
   "metadata": {},
   "outputs": [
    {
     "data": {
      "text/html": [
       "<div>\n",
       "<style scoped>\n",
       "    .dataframe tbody tr th:only-of-type {\n",
       "        vertical-align: middle;\n",
       "    }\n",
       "\n",
       "    .dataframe tbody tr th {\n",
       "        vertical-align: top;\n",
       "    }\n",
       "\n",
       "    .dataframe thead th {\n",
       "        text-align: right;\n",
       "    }\n",
       "</style>\n",
       "<table border=\"1\" class=\"dataframe\">\n",
       "  <thead>\n",
       "    <tr style=\"text-align: right;\">\n",
       "      <th></th>\n",
       "      <th>stable_url</th>\n",
       "      <th>authors</th>\n",
       "      <th>title</th>\n",
       "      <th>abstract</th>\n",
       "      <th>content_type</th>\n",
       "      <th>issue_url</th>\n",
       "      <th>pages</th>\n",
       "      <th>year</th>\n",
       "      <th>volume</th>\n",
       "      <th>issue</th>\n",
       "      <th>journal</th>\n",
       "      <th>type</th>\n",
       "    </tr>\n",
       "  </thead>\n",
       "  <tbody>\n",
       "    <tr>\n",
       "      <th>0</th>\n",
       "      <td>https://www.jstor.org/stable/26848477</td>\n",
       "      <td>NaN</td>\n",
       "      <td>Front Matter</td>\n",
       "      <td>NaN</td>\n",
       "      <td>MISC</td>\n",
       "      <td>https://www.jstor.org/stable/10.2307/e26848476</td>\n",
       "      <td>NaN</td>\n",
       "      <td>2019</td>\n",
       "      <td>109</td>\n",
       "      <td>12</td>\n",
       "      <td>AER</td>\n",
       "      <td>N</td>\n",
       "    </tr>\n",
       "    <tr>\n",
       "      <th>1</th>\n",
       "      <td>https://www.jstor.org/stable/26848478</td>\n",
       "      <td>Marcella Alsan, Owen Garrick and Grant Graziani</td>\n",
       "      <td>Does Diversity Matter for Health? Experimental Evidence from Oakland</td>\n",
       "      <td>NaN</td>\n",
       "      <td>Article</td>\n",
       "      <td>https://www.jstor.org/stable/10.2307/e26848476</td>\n",
       "      <td>4071-4111</td>\n",
       "      <td>2019</td>\n",
       "      <td>109</td>\n",
       "      <td>12</td>\n",
       "      <td>AER</td>\n",
       "      <td>N</td>\n",
       "    </tr>\n",
       "    <tr>\n",
       "      <th>2</th>\n",
       "      <td>https://www.jstor.org/stable/26848479</td>\n",
       "      <td>Drew Fudenberg and Annie Liang</td>\n",
       "      <td>Predicting and Understanding Initial Play</td>\n",
       "      <td>NaN</td>\n",
       "      <td>Article</td>\n",
       "      <td>https://www.jstor.org/stable/10.2307/e26848476</td>\n",
       "      <td>4112-4141</td>\n",
       "      <td>2019</td>\n",
       "      <td>109</td>\n",
       "      <td>12</td>\n",
       "      <td>AER</td>\n",
       "      <td>N</td>\n",
       "    </tr>\n",
       "    <tr>\n",
       "      <th>3</th>\n",
       "      <td>https://www.jstor.org/stable/26848480</td>\n",
       "      <td>Hanno Lustig, Andreas Stathopoulos and Adrien Verdelhan</td>\n",
       "      <td>The Term Structure of Currency Carry Trade Risk Premia</td>\n",
       "      <td>NaN</td>\n",
       "      <td>Article</td>\n",
       "      <td>https://www.jstor.org/stable/10.2307/e26848476</td>\n",
       "      <td>4142-4177</td>\n",
       "      <td>2019</td>\n",
       "      <td>109</td>\n",
       "      <td>12</td>\n",
       "      <td>AER</td>\n",
       "      <td>N</td>\n",
       "    </tr>\n",
       "    <tr>\n",
       "      <th>4</th>\n",
       "      <td>https://www.jstor.org/stable/26848481</td>\n",
       "      <td>Tatyana Deryugina, Garth Heutel, Nolan H. Miller, David Molitor and Julian Reif</td>\n",
       "      <td>The Mortality and Medical Costs of Air Pollution: Evidence from Changes in Wind Direction</td>\n",
       "      <td>NaN</td>\n",
       "      <td>Article</td>\n",
       "      <td>https://www.jstor.org/stable/10.2307/e26848476</td>\n",
       "      <td>4178-4219</td>\n",
       "      <td>2019</td>\n",
       "      <td>109</td>\n",
       "      <td>12</td>\n",
       "      <td>AER</td>\n",
       "      <td>N</td>\n",
       "    </tr>\n",
       "  </tbody>\n",
       "</table>\n",
       "</div>"
      ],
      "text/plain": [
       "                              stable_url  \\\n",
       "0  https://www.jstor.org/stable/26848477   \n",
       "1  https://www.jstor.org/stable/26848478   \n",
       "2  https://www.jstor.org/stable/26848479   \n",
       "3  https://www.jstor.org/stable/26848480   \n",
       "4  https://www.jstor.org/stable/26848481   \n",
       "\n",
       "                                                                           authors  \\\n",
       "0                                                                              NaN   \n",
       "1                                  Marcella Alsan, Owen Garrick and Grant Graziani   \n",
       "2                                                   Drew Fudenberg and Annie Liang   \n",
       "3                          Hanno Lustig, Andreas Stathopoulos and Adrien Verdelhan   \n",
       "4  Tatyana Deryugina, Garth Heutel, Nolan H. Miller, David Molitor and Julian Reif   \n",
       "\n",
       "                                                                                       title  \\\n",
       "0                                                                               Front Matter   \n",
       "1                       Does Diversity Matter for Health? Experimental Evidence from Oakland   \n",
       "2                                                  Predicting and Understanding Initial Play   \n",
       "3                                     The Term Structure of Currency Carry Trade Risk Premia   \n",
       "4  The Mortality and Medical Costs of Air Pollution: Evidence from Changes in Wind Direction   \n",
       "\n",
       "   abstract content_type                                       issue_url  \\\n",
       "0       NaN         MISC  https://www.jstor.org/stable/10.2307/e26848476   \n",
       "1       NaN      Article  https://www.jstor.org/stable/10.2307/e26848476   \n",
       "2       NaN      Article  https://www.jstor.org/stable/10.2307/e26848476   \n",
       "3       NaN      Article  https://www.jstor.org/stable/10.2307/e26848476   \n",
       "4       NaN      Article  https://www.jstor.org/stable/10.2307/e26848476   \n",
       "\n",
       "       pages  year  volume issue journal type  \n",
       "0        NaN  2019     109    12     AER    N  \n",
       "1  4071-4111  2019     109    12     AER    N  \n",
       "2  4112-4141  2019     109    12     AER    N  \n",
       "3  4142-4177  2019     109    12     AER    N  \n",
       "4  4178-4219  2019     109    12     AER    N  "
      ]
     },
     "execution_count": 121,
     "metadata": {},
     "output_type": "execute_result"
    }
   ],
   "source": [
    "result.head()"
   ]
  },
  {
   "cell_type": "markdown",
   "id": "d5546ee9",
   "metadata": {},
   "source": [
    "## Creating counts of the data"
   ]
  },
  {
   "cell_type": "code",
   "execution_count": 122,
   "id": "5c1b1e3f",
   "metadata": {},
   "outputs": [
    {
     "data": {
      "text/html": [
       "<div>\n",
       "<style scoped>\n",
       "    .dataframe tbody tr th:only-of-type {\n",
       "        vertical-align: middle;\n",
       "    }\n",
       "\n",
       "    .dataframe tbody tr th {\n",
       "        vertical-align: top;\n",
       "    }\n",
       "\n",
       "    .dataframe thead th {\n",
       "        text-align: right;\n",
       "    }\n",
       "</style>\n",
       "<table border=\"1\" class=\"dataframe\">\n",
       "  <thead>\n",
       "    <tr style=\"text-align: right;\">\n",
       "      <th></th>\n",
       "      <th>content_type</th>\n",
       "    </tr>\n",
       "  </thead>\n",
       "  <tbody>\n",
       "    <tr>\n",
       "      <th>Article</th>\n",
       "      <td>12584</td>\n",
       "    </tr>\n",
       "    <tr>\n",
       "      <th>Review</th>\n",
       "      <td>7144</td>\n",
       "    </tr>\n",
       "    <tr>\n",
       "      <th>MISC</th>\n",
       "      <td>5732</td>\n",
       "    </tr>\n",
       "    <tr>\n",
       "      <th>Comment</th>\n",
       "      <td>809</td>\n",
       "    </tr>\n",
       "    <tr>\n",
       "      <th>Discussion</th>\n",
       "      <td>592</td>\n",
       "    </tr>\n",
       "    <tr>\n",
       "      <th>Reply</th>\n",
       "      <td>505</td>\n",
       "    </tr>\n",
       "    <tr>\n",
       "      <th>Rejoinder</th>\n",
       "      <td>52</td>\n",
       "    </tr>\n",
       "  </tbody>\n",
       "</table>\n",
       "</div>"
      ],
      "text/plain": [
       "            content_type\n",
       "Article            12584\n",
       "Review              7144\n",
       "MISC                5732\n",
       "Comment              809\n",
       "Discussion           592\n",
       "Reply                505\n",
       "Rejoinder             52"
      ]
     },
     "execution_count": 122,
     "metadata": {},
     "output_type": "execute_result"
    }
   ],
   "source": [
    "pd.DataFrame(masters['content_type'].value_counts()) # counts by content_type"
   ]
  },
  {
   "cell_type": "code",
   "execution_count": 123,
   "id": "b26dea92",
   "metadata": {},
   "outputs": [
    {
     "data": {
      "text/html": [
       "<div>\n",
       "<style scoped>\n",
       "    .dataframe tbody tr th:only-of-type {\n",
       "        vertical-align: middle;\n",
       "    }\n",
       "\n",
       "    .dataframe tbody tr th {\n",
       "        vertical-align: top;\n",
       "    }\n",
       "\n",
       "    .dataframe thead th {\n",
       "        text-align: right;\n",
       "    }\n",
       "</style>\n",
       "<table border=\"1\" class=\"dataframe\">\n",
       "  <thead>\n",
       "    <tr style=\"text-align: right;\">\n",
       "      <th></th>\n",
       "      <th>content_type</th>\n",
       "    </tr>\n",
       "  </thead>\n",
       "  <tbody>\n",
       "    <tr>\n",
       "      <th>Article</th>\n",
       "      <td>11203</td>\n",
       "    </tr>\n",
       "    <tr>\n",
       "      <th>Review</th>\n",
       "      <td>4571</td>\n",
       "    </tr>\n",
       "    <tr>\n",
       "      <th>MISC</th>\n",
       "      <td>2964</td>\n",
       "    </tr>\n",
       "    <tr>\n",
       "      <th>Comment</th>\n",
       "      <td>792</td>\n",
       "    </tr>\n",
       "    <tr>\n",
       "      <th>Discussion</th>\n",
       "      <td>545</td>\n",
       "    </tr>\n",
       "    <tr>\n",
       "      <th>Reply</th>\n",
       "      <td>489</td>\n",
       "    </tr>\n",
       "    <tr>\n",
       "      <th>Rejoinder</th>\n",
       "      <td>46</td>\n",
       "    </tr>\n",
       "  </tbody>\n",
       "</table>\n",
       "</div>"
      ],
      "text/plain": [
       "            content_type\n",
       "Article            11203\n",
       "Review              4571\n",
       "MISC                2964\n",
       "Comment              792\n",
       "Discussion           545\n",
       "Reply                489\n",
       "Rejoinder             46"
      ]
     },
     "execution_count": 123,
     "metadata": {},
     "output_type": "execute_result"
    }
   ],
   "source": [
    "pd.DataFrame(masters[masters.year>1939].content_type.value_counts()) # counts after 1940 (inclusive)"
   ]
  },
  {
   "cell_type": "code",
   "execution_count": 124,
   "id": "8cb16da8",
   "metadata": {},
   "outputs": [
    {
     "data": {
      "text/html": [
       "<div>\n",
       "<style scoped>\n",
       "    .dataframe tbody tr th:only-of-type {\n",
       "        vertical-align: middle;\n",
       "    }\n",
       "\n",
       "    .dataframe tbody tr th {\n",
       "        vertical-align: top;\n",
       "    }\n",
       "\n",
       "    .dataframe thead th {\n",
       "        text-align: right;\n",
       "    }\n",
       "</style>\n",
       "<table border=\"1\" class=\"dataframe\">\n",
       "  <thead>\n",
       "    <tr style=\"text-align: right;\">\n",
       "      <th></th>\n",
       "      <th>content_type</th>\n",
       "    </tr>\n",
       "  </thead>\n",
       "  <tbody>\n",
       "    <tr>\n",
       "      <th>Article</th>\n",
       "      <td>9340</td>\n",
       "    </tr>\n",
       "    <tr>\n",
       "      <th>Review</th>\n",
       "      <td>4571</td>\n",
       "    </tr>\n",
       "    <tr>\n",
       "      <th>MISC</th>\n",
       "      <td>2714</td>\n",
       "    </tr>\n",
       "    <tr>\n",
       "      <th>Comment</th>\n",
       "      <td>748</td>\n",
       "    </tr>\n",
       "    <tr>\n",
       "      <th>Discussion</th>\n",
       "      <td>545</td>\n",
       "    </tr>\n",
       "    <tr>\n",
       "      <th>Reply</th>\n",
       "      <td>461</td>\n",
       "    </tr>\n",
       "    <tr>\n",
       "      <th>Rejoinder</th>\n",
       "      <td>46</td>\n",
       "    </tr>\n",
       "  </tbody>\n",
       "</table>\n",
       "</div>"
      ],
      "text/plain": [
       "            content_type\n",
       "Article             9340\n",
       "Review              4571\n",
       "MISC                2714\n",
       "Comment              748\n",
       "Discussion           545\n",
       "Reply                461\n",
       "Rejoinder             46"
      ]
     },
     "execution_count": 124,
     "metadata": {},
     "output_type": "execute_result"
    }
   ],
   "source": [
    "pd.DataFrame(masters[(masters.year>1939) & (masters.year<2011)].content_type.value_counts()) \n",
    "# counts between 1940 and 2010 (inclusive)"
   ]
  },
  {
   "cell_type": "code",
   "execution_count": null,
   "id": "287462c9",
   "metadata": {},
   "outputs": [],
   "source": [
    "result.to_excel(saveas, index=False)"
   ]
  },
  {
   "cell_type": "markdown",
   "id": "1515e25e",
   "metadata": {},
   "source": [
    "## Splitting up pdfs into different sections in preparation for extraction\n",
    "### Save the first page as a pdf\n",
    "We should first determine the number of pages in each article to see how many pages need to be scanned. Then separate out the first page which for AER articles should have affiliations at the bottom of the first page. Note: this is done for every article regardless of content_type just in case other content_types fit the same layout as normal articles so this process won't need to be run twice.\n"
   ]
  },
  {
   "cell_type": "code",
   "execution_count": 128,
   "id": "0873e992",
   "metadata": {},
   "outputs": [],
   "source": [
    "# Note: use the master list with content_type filled in ie: the processed file that was previously\n",
    "path='C:\\\\Users\\\\sjwu1\\\\Journal_Data\\\\AER_data'\n",
    "cleaned=pd.read_excel('C:\\\\Users\\\\sjwu1\\\\Journal_Data\\\\datadumps\\\\processed\\\\AER_processed.xlsx')\n"
   ]
  },
  {
   "cell_type": "markdown",
   "id": "9c7f8908",
   "metadata": {},
   "source": [
    "Get all the Ids"
   ]
  },
  {
   "cell_type": "code",
   "execution_count": 130,
   "id": "98504690",
   "metadata": {},
   "outputs": [
    {
     "data": {
      "text/plain": [
       "0    26848477\n",
       "1    26848478\n",
       "2    26848479\n",
       "3    26848480\n",
       "4    26848481\n",
       "Name: stable_url, dtype: object"
      ]
     },
     "execution_count": 130,
     "metadata": {},
     "output_type": "execute_result"
    }
   ],
   "source": [
    "id_list=cleaned['stable_url'].str.split('https://www.jstor.org/stable/').str[-1]\n",
    "id_list.head()"
   ]
  },
  {
   "cell_type": "markdown",
   "id": "9c162577",
   "metadata": {},
   "source": [
    "This for-loop iterates through all the article Ids and if the pdf is on file, the first page is extracted."
   ]
  },
  {
   "cell_type": "code",
   "execution_count": null,
   "id": "b355133d",
   "metadata": {},
   "outputs": [],
   "source": [
    "for a in id_list:\n",
    "    pdf_path=path+'\\\\'+a+'.pdf'\n",
    "    print(pdf_path)\n",
    "    if os.path.exists(pdf_path)==True:\n",
    "        with open(pdf_path, 'rb') as read_stream:\n",
    "            pdf_reader = PdfFileReader(read_stream)\n",
    "            numPages=pdf_reader.numPages\n",
    "            pdf_writer=PdfFileWriter()\n",
    "            pdf_writer.addPage(pdf_reader.getPage(1))\n",
    "            out=Path(path+'\\\\page1\\\\'+a+'_1.pdf')\n",
    "            with open(out, 'wb') as data:\n",
    "                pdf_writer.write(data)"
   ]
  },
  {
   "cell_type": "markdown",
   "id": "16639c5a",
   "metadata": {},
   "source": [
    "### Save the pages of the reference list as a pdf\n",
    "We use slate3k library to scan for the occurence of the word 'references' in all caps and other variations. Slate3k is a wrapper for pdfMiner, the underlying OCR library. PdfMiner.six is a version currently maintained by the community and it is able to recognise carriages in text. PdfMiner.six seems more powerful but I have not managed to run it without errors. Because this takes relatively longer and I am only interested in articles with references, the miscellaneous content_types are excluded.\n",
    "\n",
    "The rationale is that for newer articles which have a dedicated reference list, the reference list would be anything after the point that the heading appears."
   ]
  },
  {
   "cell_type": "code",
   "execution_count": 133,
   "id": "d4b718f3",
   "metadata": {},
   "outputs": [],
   "source": [
    "#let's add 2 columns to the preprocessed dataframe:\n",
    "cleaned['Ref_code']=None #whether the keyword 'REFERENCES' was found or not in the article\n",
    "cleaned['Ref_start']=None #page on which the references supposedly starts\n"
   ]
  },
  {
   "cell_type": "code",
   "execution_count": 154,
   "id": "b7a57a93",
   "metadata": {},
   "outputs": [
    {
     "data": {
      "text/plain": [
       "['', '26848478']"
      ]
     },
     "execution_count": 154,
     "metadata": {},
     "output_type": "execute_result"
    }
   ],
   "source": [
    "#remove miscellaneous\n",
    "Ex_mis=cleaned[cleaned.content_type!='MISC']\n",
    "Ex_mis.loc[1]['stable_url'].split('https://www.jstor.org/stable/')"
   ]
  },
  {
   "cell_type": "code",
   "execution_count": 156,
   "id": "bbd6e423",
   "metadata": {},
   "outputs": [],
   "source": [
    "#Search strings\n",
    "String = \"references\"\n",
    "String1 = \"References\"\n",
    "String2 = \"REFERENCES\""
   ]
  },
  {
   "cell_type": "code",
   "execution_count": 159,
   "id": "bc94cb58",
   "metadata": {},
   "outputs": [],
   "source": [
    "# suppress logs\n",
    "import logging \n",
    "logging.propagate = False \n",
    "logging.getLogger().setLevel(logging.ERROR)\n",
    "#https://stackoverflow.com/questions/29762706/warnings-on-pdfminer"
   ]
  },
  {
   "cell_type": "markdown",
   "id": "1ab4b0a9",
   "metadata": {},
   "source": [
    "Looking at 10 articles, The reference headings are in all caps. However, this could change as these are all 2019 articles. The regex is overkill because substring would be enough, but it may come in handy later."
   ]
  },
  {
   "cell_type": "code",
   "execution_count": 174,
   "id": "da340112",
   "metadata": {},
   "outputs": [
    {
     "name": "stdout",
     "output_type": "stream",
     "text": [
      "1\n",
      "26848478\n",
      "2019\n",
      "C:\\Users\\sjwu1\\Journal_Data\\AER_data\\26848478.pdf\n",
      "references pattern Found on Page: 26\n",
      "references pattern Found on Page: 34\n",
      "references pattern Found on Page: 38\n",
      "REFERENCES pattern Found on Page: 38\n",
      "2\n",
      "26848479\n",
      "2019\n",
      "C:\\Users\\sjwu1\\Journal_Data\\AER_data\\26848479.pdf\n",
      "references pattern Found on Page: 29\n",
      "REFERENCES pattern Found on Page: 29\n",
      "3\n",
      "26848480\n",
      "2019\n",
      "C:\\Users\\sjwu1\\Journal_Data\\AER_data\\26848480.pdf\n",
      "REFERENCES pattern Found on Page: 34\n",
      "4\n",
      "26848481\n",
      "2019\n",
      "C:\\Users\\sjwu1\\Journal_Data\\AER_data\\26848481.pdf\n",
      "REFERENCES pattern Found on Page: 40\n",
      "5\n",
      "26848482\n",
      "2019\n",
      "C:\\Users\\sjwu1\\Journal_Data\\AER_data\\26848482.pdf\n",
      "references pattern Found on Page: 2\n",
      "references pattern Found on Page: 6\n",
      "REFERENCES pattern Found on Page: 39\n",
      "6\n",
      "26848483\n",
      "2019\n",
      "C:\\Users\\sjwu1\\Journal_Data\\AER_data\\26848483.pdf\n",
      "references pattern Found on Page: 29\n",
      "REFERENCES pattern Found on Page: 40\n",
      "7\n",
      "26848484\n",
      "2019\n",
      "C:\\Users\\sjwu1\\Journal_Data\\AER_data\\26848484.pdf\n",
      "REFERENCES pattern Found on Page: 40\n",
      "8\n",
      "26848485\n",
      "2019\n",
      "C:\\Users\\sjwu1\\Journal_Data\\AER_data\\26848485.pdf\n",
      "references pattern Found on Page: 5\n",
      "references pattern Found on Page: 14\n",
      "references pattern Found on Page: 16\n",
      "REFERENCES pattern Found on Page: 33\n",
      "9\n",
      "26848486\n",
      "2019\n",
      "C:\\Users\\sjwu1\\Journal_Data\\AER_data\\26848486.pdf\n",
      "references pattern Found on Page: 6\n",
      "references pattern Found on Page: 7\n",
      "references pattern Found on Page: 8\n",
      "references pattern Found on Page: 26\n",
      "references pattern Found on Page: 46\n",
      "REFERENCES pattern Found on Page: 46\n",
      "12\n",
      "26807866\n",
      "2019\n",
      "C:\\Users\\sjwu1\\Journal_Data\\AER_data\\26807866.pdf\n",
      "references pattern Found on Page: 1\n",
      "references pattern Found on Page: 2\n",
      "references pattern Found on Page: 3\n",
      "references pattern Found on Page: 4\n",
      "references pattern Found on Page: 5\n",
      "references pattern Found on Page: 6\n",
      "references pattern Found on Page: 8\n",
      "references pattern Found on Page: 10\n",
      "references pattern Found on Page: 11\n",
      "references pattern Found on Page: 12\n",
      "references pattern Found on Page: 15\n",
      "references pattern Found on Page: 16\n",
      "references pattern Found on Page: 17\n",
      "references pattern Found on Page: 18\n",
      "references pattern Found on Page: 21\n",
      "references pattern Found on Page: 23\n",
      "references pattern Found on Page: 24\n",
      "references pattern Found on Page: 25\n",
      "references pattern Found on Page: 27\n",
      "references pattern Found on Page: 28\n",
      "references pattern Found on Page: 29\n",
      "references pattern Found on Page: 30\n",
      "REFERENCES pattern Found on Page: 30\n",
      "references pattern Found on Page: 32\n"
     ]
    }
   ],
   "source": [
    "for a in Ex_mis.index[:10]:\n",
    "    print(a)\n",
    "    id=Ex_mis.loc[a]['stable_url'].split('https://www.jstor.org/stable/')[-1]\n",
    "    print(id)\n",
    "    print(Ex_mis.loc[a]['year'])\n",
    "    pdf_path=path+'\\\\'+id+'.pdf'\n",
    "    temp=path+'\\\\dummy.pdf'\n",
    "    print(pdf_path)    \n",
    "    if os.path.exists(pdf_path)==True:\n",
    "        with open(pdf_path, 'rb') as read_stream:\n",
    "            pdf_reader = PdfFileReader(read_stream)  \n",
    "            numPages=pdf_reader.numPages\n",
    "            for i in range(1, numPages):\n",
    "                \n",
    "                pdf_reader = PdfFileReader(read_stream)    \n",
    "                pdf_writer2=PdfFileWriter()\n",
    "                pdf_writer2.addPage(pdf_reader.getPage(i))\n",
    "                with open(temp, 'wb') as x:\n",
    "                    pdf_writer2.write(x)\n",
    "                Text = slate.PDF(open(temp, 'rb')).text()\n",
    "                #if re.search(r'This content(.*)Conditions',Text):\n",
    "                #    print('t&c found')\n",
    "                #if re.search('VOL(.*)NO(.*):\\d+',Text):\n",
    "                #    print('header found')\n",
    "                    \n",
    "                if re.search(String,Text):\n",
    "                    print(String + \" pattern Found on Page: \" + str(i))\n",
    "                    \n",
    "                if re.search(String1,Text):\n",
    "                    print(String1 + \" pattern Found on Page: \" + str(i))\n",
    "                    \n",
    "                if re.search(String2,Text):\n",
    "                    print(String2 + \" pattern Found on Page: \" + str(i))"
   ]
  },
  {
   "cell_type": "markdown",
   "id": "2574a918",
   "metadata": {},
   "source": [
    "### Testing OCR extraction on some affiliations\n",
    "AER articles have the affiliations indicated by an asterisk in the footnotes of the first page. There is potential for extracting it and doing some string operations to obtain it. Testing this on 5 articles, the performance is quite good. However, these are articles from 2019 and there are not in 2-column format like most pre-2000 AER articles. Tesseract has been shown to be capable of extracting text from 2-column layout documents https://towardsdatascience.com/read-a-multi-column-pdf-with-pytesseract-in-python-1d99015f887a. Tesseract is necessary because most articles are scanned. There is another library for searchable pdfs called"
   ]
  },
  {
   "cell_type": "code",
   "execution_count": 169,
   "id": "8e9e3c92",
   "metadata": {},
   "outputs": [
    {
     "name": "stdout",
     "output_type": "stream",
     "text": [
      "C:\\Users\\sjwu1\\Journal_Data\\AER_data\\page1\\26848477_1.pdf\n",
      "\n",
      "\n",
      "\n",
      "C:\\Users\\sjwu1\\Journal_Data\\AER_data\\page1\\26848478_1.pdf\n",
      " Alsan: Harvard Kennedy School, 79 JFK Street, Cambridge, MA 02138 (email: marcella_alsan@hks.harvard. edu); Garrick: Bridge Clinical Research, 333 Hegenberger Road, Suite 208, Oakland, CA 94621 (email: owen. garrick@bridgeclinical.com); Graziani: University of California, Berkeley, Evans Hall, Berkeley, CA 94720 (email: gcgraziani@berkeley.edu). Esther Duflo was the coeditor for this article. We are grateful to an anonymous coed- itor and four anonymous referees. We thank Pascaline Dupas and the J-PAL Board and Reviewers who provided important feedback that improved the design and implementation of the experiment. We thank Ran Abramitzky, Ned Augenblick, Jeremy Bulow, Kate Casey, Arun Chandrasekhar, Raj Chetty, Stefano DellaVigna, Mark Duggan, Karen Eggleston, Erica Field, Matthew Gentzkow, Gopi Shah Goda, Susan Godlonton, Jessica Goldberg, Michael Greenstone, Guido Imbens, Seema Jayachandran, Damon Jones, Supreet Kaur, Melanie Morten, Maria Polyakova, Matthew Rabin, Al Roth, Kosali Simon, Ebonya Washington, Crystal Yang, and seminar participants at UC Berkeley, Stanford, Cornell, MIT, UCLA, UCSB, Harvard Kennedy School, University of Chicago, and IFPRI for their helpful comments. Javarcia Ivory, Matin Mirramezani, Edna Idna, Anlu Xing, and especially Morgan Foy pro- vided excellent research assistance. We thank the study doctors and field staff team for their participation. We thank the administration at Stanford, SIEPR, and J-PAL particularly Lesley Chang, Rhonda McClinton-Brown, Dr. Mark Cullen, Dr. Douglas K. Owens, Ann Dohn, Ashima Goel, Atty. Ann James, Atty. Tina Dobleman, Nancy Lonhart, Jason Bauman, Sophie Shank, James Turitto, Florian Grosset, and Luke Sonnet. A working paper version of this paper was submitted for pre-publication re-analysis to the Abdul Latif Jameel Poverty Action Lab (J-PAL), where a code replication exercise was conducted on the analysis. For more details about J-PAL’s replication work, visit https://osf.io/be432/. We thank Uber for donating ride-sharing services, Alameda County for donating vaccinations, and the Lenoirs for subletting their clinic. The study was made possible by a grant from the J-PAL—Health Care Delivery Initiative with supplemental support from NBER P30AG012810. The trial is registered at clinicaltrials.gov (NCT03481270) and in the AEA RCT Registry (0002497). The authors declare they have no conflicts of interest. † Go to https://doi.org/10.1257/aer.20181446 to visit the article page for additional materials and author disclosure statements. 4071 This content downloaded from (cid:0)137.158.158.62 on Sat, 22 Jan 2022 21:39:07 UTC(cid:0) (cid:0) All use subject to https://about.jstor.org/terms (cid:0) (cid:0) (cid:0) (cid:0) (cid:0) (cid:0) (cid:0) (cid:0) (cid:0) (cid:0) (cid:0) (cid:0) (cid:0) (cid:0) (cid:0) (cid:0) (cid:0) (cid:0) (cid:0) (cid:0) (cid:0) (cid:0) \n",
      "\n",
      "\n",
      "\n",
      "C:\\Users\\sjwu1\\Journal_Data\\AER_data\\page1\\26848479_1.pdf\n",
      " Fudenberg: Department of Economics, MIT, 77 Massachusetts Avenue, Cambridge, MA 02139 (email: drewf@ mit.edu); Liang: Department of Economics, University of Pennsylvania, 133 South 36th Street, Philadelphia, PA 19104 (email: anliang@upenn.edu). Jeff Ely was the coeditor for this article. We are grateful to Alberto Abadie, Colin Camerer, Vincent Crawford, Charles Sprenger, Emanuel Vespa, and Alistair Wilson for very helpful com- ments and suggestions, and to Microsoft Research and National Science Foundation grant 1643517 for financial support. † Go to https://doi.org/10.1257/aer.20180654 to visit the article page for additional materials and author disclosure statements. 1 Increasing the model’s flexibility (e.g., by adding additional parameters) results in weakly better in-sample fit (where the training and testing data are the same). But increased flexibility need not result in higher out-of-sample fit, as more complex models are more likely to overfit the training data. 2 Camerer, Ho, and Chong’s (2004) related “economic value” compares the expected payoff that results from best-responding to a theory’s forecast to the payoff that subjects actually obtained; this measure cannot be computed without a prediction of the entire distribution of play. 4112 This content downloaded from (cid:0)137.158.158.62 on Sat, 22 Jan 2022 21:39:53 UTC(cid:0) (cid:0) All use subject to https://about.jstor.org/terms (cid:0) (cid:0) (cid:0) (cid:0) (cid:0) (cid:0) (cid:0) (cid:0) (cid:0) (cid:0) (cid:0) (cid:0) (cid:0) (cid:0) (cid:0) (cid:0) (cid:0) (cid:0) (cid:0) (cid:0) (cid:0) (cid:0) \n",
      "\n",
      "\n",
      "\n",
      "C:\\Users\\sjwu1\\Journal_Data\\AER_data\\page1\\26848480_1.pdf\n",
      " Lustig: Stanford Graduate School of Business, 355 Knight Way, Stanford, CA 94305 (email: hlustig@stanford. edu); Stathopoulos: UNC Kenan-Flagler Business School, 300 Kenan Center Drive, Chapel Hill, NC 27599 (email: Andreas_Stathopoulos@kenan-flagler.unc.edu); Verdelhan: MIT Sloan School of Management, 100 Main Street, E62-621, Cambridge, MA 02139 (email: adrienv@mit.edu). Gita Gopinath was the coeditor for this article. Many thanks to Robert Barro, Mikhail Chernov, Riccardo Colacito, Ian Dew-Becker, Emmanuel Farhi, Stefano Giglio, Gita Gopinath, Lars Hansen, Joel Hasbrouck, Espen Henriksen, Urban Jermann, Leonid Kogan, Karen Lewis, Matteo Maggiori, Ian Martin, Stefan Nagel, Jonathan Parker, Tarun Ramadorai, Robert Ready, Jose Scheinkman, Andrea Vedolin, and seminar participants at different institutions and conferences for their comments. A previous version of this paper circulated under the title “Nominal Exchange Rate Stationarity and Long-Term Bond Returns.” The authors declare that they have no relevant or material financial interests that relate to the research described in this paper. † Go to https://doi.org/10.1257/aer.20180098 to visit the article page for additional materials and author disclosure statements. 4142 This content downloaded from (cid:0)137.158.158.62 on Sat, 22 Jan 2022 21:40:38 UTC(cid:0) (cid:0) All use subject to https://about.jstor.org/terms (cid:0) (cid:0) (cid:0) (cid:0) (cid:0) (cid:0) (cid:0) (cid:0) (cid:0) (cid:0) (cid:0) (cid:0) (cid:0) (cid:0) (cid:0) (cid:0) (cid:0) (cid:0) (cid:0) (cid:0) (cid:0) (cid:0) \n",
      "\n",
      "\n",
      "\n",
      "C:\\Users\\sjwu1\\Journal_Data\\AER_data\\page1\\26848481_1.pdf\n",
      " Deryugina: Gies College of Business, University of Illinois, 340 Wohlers Hall, 1206 S. Sixth Street, Champaign, IL 61820 (email: deryugin@illinois.edu); Heutel: Department of Economics, Georgia State University, PO Box 3992, Atlanta, GA 30302 (email: gheutel@gsu.edu); Miller: Gies College of Business, University of Illinois, 340 Wohlers Hall, 1206 S. Sixth Street, Champaign, IL 61820 (email: nmiller@illinois.edu); Molitor: Gies College of Business, University of Illinois, 340 Wohlers Hall, 1206 S. Sixth Street, Champaign, IL 61820 (email: dmolitor@illinois.edu); Reif: Gies College of Business, University of Illinois, 340 Wohlers Hall, 1206 S. Sixth Street, Champaign, IL 61820 (email: jreif@illinois.edu). Thomas Lemieux was the coeditor for this article. We thank Alan Barreca, Allen C. Basala, Shuai Chen, Mert Demirer, Alex Hollingsworth, Pierre Léger, Feng Liang, Christos Makridis, Mar Reguant, and seminar participants at the AERE Summer Conference, Cornell University, Georgia Tech, IGPA, the IZA Conference on Labor Market Effects of Environmental Policies, the Midwestern Health Economics Conference, Purdue University, the Research Triangle Institute, the Southern Economics Association Conference, the University of Illinois Research Lunch, the University of Iowa, and the WCERE for helpful comments. Dominik Mockus, Isabel Ferraz Musse, and Eric Zou provided excellent research assistance. We thank Jean Roth for assistance with the Medicare data and Daniel Feenberg and Mohan Ramanujan for sys- tem administration. Research reported in this publication was supported by the National Institute on Aging of the National Institutes of Health under Award Number R01AG053350. The content is solely the responsibility of the authors and does not necessarily represent the official views of the National Institutes of Health. † Go to https://doi.org/10.1257/aer.20180279 to visit the article page for additional materials and author disclosure statements. 4178 This content downloaded from (cid:0)137.158.158.62 on Sat, 22 Jan 2022 21:41:24 UTC(cid:0) (cid:0) All use subject to https://about.jstor.org/terms (cid:0) (cid:0) (cid:0) (cid:0) (cid:0) (cid:0) (cid:0) (cid:0) (cid:0) (cid:0) (cid:0) (cid:0) (cid:0) (cid:0) (cid:0) (cid:0) (cid:0) (cid:0) (cid:0) (cid:0) (cid:0) (cid:0) \n",
      "\n",
      "\n",
      "\n"
     ]
    }
   ],
   "source": [
    "for a in id_list[:5]:\n",
    "    pdf_path=path+'\\\\page1\\\\'+a+'_1.pdf'\n",
    "    print(pdf_path)\n",
    "    if os.path.exists(pdf_path)==True:\n",
    "        Text = slate.PDF(open(pdf_path, 'rb')).text()\n",
    "        if '*' in Text:\n",
    "            m=Text.split('*')\n",
    "            print(m[-1])\n",
    "        else:\n",
    "            'asterisk indicator for affiliations not found'\n",
    "    print('\\n\\n')"
   ]
  }
 ],
 "metadata": {
  "kernelspec": {
   "display_name": "Python 3 (ipykernel)",
   "language": "python",
   "name": "python3"
  },
  "language_info": {
   "codemirror_mode": {
    "name": "ipython",
    "version": 3
   },
   "file_extension": ".py",
   "mimetype": "text/x-python",
   "name": "python",
   "nbconvert_exporter": "python",
   "pygments_lexer": "ipython3",
   "version": "3.9.6"
  }
 },
 "nbformat": 4,
 "nbformat_minor": 5
}
